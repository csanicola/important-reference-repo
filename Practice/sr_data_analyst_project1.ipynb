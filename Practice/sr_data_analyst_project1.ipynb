{
 "cells": [
  {
   "cell_type": "markdown",
   "id": "295e33b2",
   "metadata": {},
   "source": [
    "# Generate Healthcare Data for Analysis\n",
    "\n",
    "Create a mock dataset for 12 ambulatory practices including:\n",
    "- Visit volume\n",
    "- Average wait time\n",
    "- Patient satisfaction score\n",
    "- Appointment no-show rate\n",
    "- Follow-up adherence rate\n",
    "- Staff-to-patient ratio\n",
    "- Provider productivity (visits per FTE)\n",
    "- Quality measure compliance (e.g., A1C screening for diabetic patients)\n",
    "\n",
    "Rows will be based on monthly data from each practice\n",
    "\n",
    "Refer the to [Data Dictionary](Practice/sr_data_analyst_project1_data_dictionary.md) For the Data Variables Used in this Dataset."
   ]
  },
  {
   "cell_type": "code",
   "execution_count": 112,
   "id": "d33ccd88",
   "metadata": {},
   "outputs": [],
   "source": [
    "# Import Packages\n",
    "import pandas as pd\n",
    "import random\n",
    "import numpy as np\n",
    "import math"
   ]
  },
  {
   "cell_type": "markdown",
   "id": "41893cfb",
   "metadata": {},
   "source": [
    "## Define functions to generate random values within specific ranges\n",
    "\n",
    "### Visit Volume"
   ]
  },
  {
   "cell_type": "code",
   "execution_count": 113,
   "id": "ee719976",
   "metadata": {},
   "outputs": [],
   "source": [
    "def visit_volume():\n",
    "    return random.randint(500,5000)"
   ]
  },
  {
   "cell_type": "markdown",
   "id": "a6b51eb8",
   "metadata": {},
   "source": [
    "### Average Patient Wait Time Before Being Seen (in minutes)"
   ]
  },
  {
   "cell_type": "code",
   "execution_count": 114,
   "id": "a7d09bda",
   "metadata": {},
   "outputs": [],
   "source": [
    "def avg_wait_time_min():\n",
    "    return round(random.uniform(0,60), 1)"
   ]
  },
  {
   "cell_type": "markdown",
   "id": "73a4dce5",
   "metadata": {},
   "source": [
    "### Average patient satisfaction score (0-100 scale)"
   ]
  },
  {
   "cell_type": "code",
   "execution_count": 115,
   "id": "cda90f0d",
   "metadata": {},
   "outputs": [],
   "source": [
    "def patient_satisfaction_score():\n",
    "    return round(random.uniform(0,100), 1)"
   ]
  },
  {
   "cell_type": "markdown",
   "id": "5dc41306",
   "metadata": {},
   "source": [
    "### Percentage of scheduled appointments that patients missed\n",
    "**Solution: Truncated Normal Distribution**\n",
    "Since standard normal distributions can go beyond [0, 100], we need to:\n",
    "1. Center the distribution at 25.\n",
    "2. Constrain results between 0 and 100 (truncation).\n",
    "3. Adjust the standard deviation (std_dev) to control the spread."
   ]
  },
  {
   "cell_type": "code",
   "execution_count": 116,
   "id": "e83e5136",
   "metadata": {},
   "outputs": [],
   "source": [
    "def no_show_rate(mean=75, std_dev=15, min_val=0, max_val=100):\n",
    "    while True:\n",
    "        sample = np.random.normal(mean, std_dev)\n",
    "        if min_val <= sample <= max_val:\n",
    "            return int(round(sample))"
   ]
  },
  {
   "cell_type": "markdown",
   "id": "1e10919b",
   "metadata": {},
   "source": [
    "## Percentage of patients who completed recommended follow-ups\n",
    "**Solution: Truncated Normal Distribution**\n",
    "Since standard normal distributions can go beyond [0, 100], we need to:\n",
    "1. Center the distribution at 75.\n",
    "2. Constrain results between 0 and 100 (truncation).\n",
    "3. Adjust the standard deviation (std_dev) to control the spread."
   ]
  },
  {
   "cell_type": "code",
   "execution_count": 117,
   "id": "ca30884f",
   "metadata": {},
   "outputs": [],
   "source": [
    "def followup_adherence_rate(mean=75, std_dev=15, min_val=0, max_val=100):\n",
    "    while True:\n",
    "        sample = np.random.normal(mean, std_dev)\n",
    "        if min_val <= sample <= max_val:\n",
    "            return int(round(sample))"
   ]
  },
  {
   "cell_type": "markdown",
   "id": "a16cc666",
   "metadata": {},
   "source": [
    "### Percentage of diabetic patients with documented A1C screening"
   ]
  },
  {
   "cell_type": "code",
   "execution_count": 118,
   "id": "f31fd7a0",
   "metadata": {},
   "outputs": [],
   "source": [
    "def A1C_screening_compliance():\n",
    "    return round(random.uniform(0, 100), 1)"
   ]
  },
  {
   "cell_type": "markdown",
   "id": "42fb148e",
   "metadata": {},
   "source": [
    "### Total number of full-time equivalent providers"
   ]
  },
  {
   "cell_type": "code",
   "execution_count": 119,
   "id": "6f766be1",
   "metadata": {},
   "outputs": [],
   "source": [
    "def total_providers_FTE():\n",
    "    return round(random.uniform(1, 6), 1)"
   ]
  },
  {
   "cell_type": "markdown",
   "id": "b149d846",
   "metadata": {},
   "source": [
    "### Total number of full time equivalent support staff"
   ]
  },
  {
   "cell_type": "code",
   "execution_count": 120,
   "id": "e6ea8fe0",
   "metadata": {},
   "outputs": [],
   "source": [
    "def total_staff_FTE():\n",
    "    return round(random.uniform(10, 50), 1)"
   ]
  },
  {
   "cell_type": "markdown",
   "id": "3b61af72",
   "metadata": {},
   "source": [
    "### Total number of unique patients seen during the quarter"
   ]
  },
  {
   "cell_type": "code",
   "execution_count": 121,
   "id": "b9ad1dbe",
   "metadata": {},
   "outputs": [],
   "source": [
    "def unique_patients_seen():\n",
    "    return random.randint(300, 2000)"
   ]
  },
  {
   "cell_type": "markdown",
   "id": "2688682c",
   "metadata": {},
   "source": [
    "### Ratio of support staff to unique patients seen\n",
    "Calculated based on the `total_staff_FTE` and `unique_patients_seen`."
   ]
  },
  {
   "cell_type": "code",
   "execution_count": 122,
   "id": "b04bbc2c",
   "metadata": {},
   "outputs": [],
   "source": [
    "def staff_to_patient_ratio():\n",
    "    try:\n",
    "        return round(total_staff_FTE() / unique_patients_seen(), 3)\n",
    "    except ZeroDivisionError:\n",
    "        return 0.0"
   ]
  },
  {
   "cell_type": "markdown",
   "id": "b1ebc05b",
   "metadata": {},
   "source": [
    "### Average number of visits per full-time equivalent (FTE) provide\n",
    "Calculated based on `visit_volume` and `total_providers_FTE`."
   ]
  },
  {
   "cell_type": "code",
   "execution_count": 123,
   "id": "a9e93e1c",
   "metadata": {},
   "outputs": [],
   "source": [
    "def provider_productivity():\n",
    "    try:\n",
    "        return round(visit_volume() / total_providers_FTE(), 1)\n",
    "    except ZeroDivisionError:\n",
    "        return"
   ]
  },
  {
   "cell_type": "markdown",
   "id": "5f779d53",
   "metadata": {},
   "source": [
    "## Create a list of possible values for categorical "
   ]
  },
  {
   "cell_type": "code",
   "execution_count": 124,
   "id": "65e723d6",
   "metadata": {},
   "outputs": [],
   "source": [
    "practice_id = ['AP001', 'AP002', 'AP003', 'AP004', 'AP005', 'AP006', 'AP007', 'AP008', 'AP009', 'AP010', 'AP011', 'AP012']\n",
    "quarter = ['Q1', 'Q2', 'Q3', 'Q4']\n"
   ]
  },
  {
   "cell_type": "markdown",
   "id": "737275f9",
   "metadata": {},
   "source": [
    "## Generate Data for Each Column"
   ]
  },
  {
   "cell_type": "code",
   "execution_count": 125,
   "id": "773ab90d",
   "metadata": {},
   "outputs": [],
   "source": [
    "data = {\n",
    "    'Practice_ID': [random.choice(practice_id) for _ in range(5000)],\n",
    "    'Quarter': [random.choice(quarter) for _ in range(5000)],\n",
    "    'Visit_Volume': [visit_volume() for _ in range(5000)],\n",
    "    'Avg_Wait_Time_Min': [avg_wait_time_min() for _ in range(5000)],\n",
    "    'Patient_Satisfaction_Score': [patient_satisfaction_score() for _ in range(5000)],\n",
    "    'No_Show_Rate': [no_show_rate() for _ in range(5000)],\n",
    "    'Followup_Adherence_Rate': [followup_adherence_rate() for _ in range(5000)],\n",
    "    'Staff_to_Patient_Ratio': [staff_to_patient_ratio() for _ in range(5000)],\n",
    "    'Provider_Productivity': [provider_productivity() for _ in range(5000)],\n",
    "    'A1C_Screening_Compliance': [A1C_screening_compliance() for _ in range(5000)],\n",
    "    'Total_Providers_FTE': [total_providers_FTE() for _ in range(5000)],\n",
    "    'Total_Staff_FTE': [total_staff_FTE() for _ in range(5000)],\n",
    "    'Unique_Patients_Seen': [unique_patients_seen() for _ in range(5000)]\n",
    "}"
   ]
  },
  {
   "cell_type": "markdown",
   "id": "288d4a5c",
   "metadata": {},
   "source": [
    "## Create a DataFrame"
   ]
  },
  {
   "cell_type": "code",
   "execution_count": 126,
   "id": "cedfc074",
   "metadata": {},
   "outputs": [],
   "source": [
    "df = pd.DataFrame(data)"
   ]
  },
  {
   "cell_type": "markdown",
   "id": "1effb608",
   "metadata": {},
   "source": [
    "## Save the DataFrame as a csv file"
   ]
  },
  {
   "cell_type": "code",
   "execution_count": 127,
   "id": "e1c791f8",
   "metadata": {},
   "outputs": [],
   "source": [
    "df.to_csv('D:/GitHub/important-reference-repo/Data/fake_healthcare_data_v2.csv', index=False)"
   ]
  }
 ],
 "metadata": {
  "kernelspec": {
   "display_name": "Python 3",
   "language": "python",
   "name": "python3"
  },
  "language_info": {
   "codemirror_mode": {
    "name": "ipython",
    "version": 3
   },
   "file_extension": ".py",
   "mimetype": "text/x-python",
   "name": "python",
   "nbconvert_exporter": "python",
   "pygments_lexer": "ipython3",
   "version": "3.13.0"
  }
 },
 "nbformat": 4,
 "nbformat_minor": 5
}
