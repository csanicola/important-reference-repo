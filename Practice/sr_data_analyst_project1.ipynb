{
 "cells": [
  {
   "cell_type": "markdown",
   "id": "295e33b2",
   "metadata": {},
   "source": [
    "# Generate Healthcare Data for Analysis\n",
    "\n",
    "Create a mock dataset for 12 ambulatory practices including:\n",
    "- Visit volume\n",
    "- Average wait time\n",
    "- Patient satisfaction score\n",
    "- Appointment no-show rate\n",
    "- Follow-up adherence rate\n",
    "- Staff-to-patient ratio\n",
    "- Provider productivity (visits per FTE)\n",
    "- Quality measure compliance (e.g., A1C screening for diabetic patients)\n",
    "\n",
    "Rows will be based on monthly data from each practice\n",
    "\n",
    "Refer the to [Data Dictionary](Practice/sr_data_analyst_project1_data_dictionary.md) For the Data Variables Used in this Dataset."
   ]
  },
  {
   "cell_type": "code",
   "execution_count": null,
   "id": "d33ccd88",
   "metadata": {},
   "outputs": [],
   "source": [
    "# Import Packages\n",
    "import pandas as pd\n",
    "import random\n",
    "import numpy as np\n",
    "import math"
   ]
  },
  {
   "cell_type": "markdown",
   "id": "41893cfb",
   "metadata": {},
   "source": [
    "## Define functions to generate random values within specific ranges\n",
    "\n",
    "### Visit Volume"
   ]
  },
  {
   "cell_type": "code",
   "execution_count": null,
   "id": "ee719976",
   "metadata": {},
   "outputs": [],
   "source": [
    "def random_visit_volume():\n",
    "    return random.randint(500,5000)"
   ]
  },
  {
   "cell_type": "markdown",
   "id": "a6b51eb8",
   "metadata": {},
   "source": [
    "### Average Patient Wait Time Before Being Seen (in minutes)"
   ]
  },
  {
   "cell_type": "code",
   "execution_count": null,
   "id": "a7d09bda",
   "metadata": {},
   "outputs": [],
   "source": [
    "def avg_wait_time_min():\n",
    "    return round(random(uniform(0,60), 2))"
   ]
  },
  {
   "cell_type": "markdown",
   "id": "73a4dce5",
   "metadata": {},
   "source": [
    "### Average patient satisfaction score(0-100 scale)"
   ]
  },
  {
   "cell_type": "code",
   "execution_count": null,
   "id": "cda90f0d",
   "metadata": {},
   "outputs": [],
   "source": [
    "def patient_satisfaction_score():\n",
    "    return round(random(uniform(0,100), 2))"
   ]
  },
  {
   "cell_type": "markdown",
   "id": "5dc41306",
   "metadata": {},
   "source": [
    "### Percentage of scheduled appointments that patients missed\n",
    "**Best Approach: Beta Distribution (Adjustable Skew)**\n",
    "The beta distribution is great for controlling skewness. By setting alpha=1 and adjusting beta, you can control how much the distribution leans toward 0."
   ]
  },
  {
   "cell_type": "code",
   "execution_count": null,
   "id": "e83e5136",
   "metadata": {},
   "outputs": [],
   "source": [
    "def no_show_rate(mean=75, std_dev=15, min_val=0, max_val=100):\n",
    "    while True:\n",
    "        sample = np.random.normal(mean, std_dev)\n",
    "        if min_val <= sample <= max_val:\n",
    "            return int(round(sample))"
   ]
  },
  {
   "cell_type": "code",
   "execution_count": null,
   "id": "ca30884f",
   "metadata": {},
   "outputs": [],
   "source": [
    "def followup_adherence_rate(mean=75, std_dev=15, min_val=0, max_val=100):\n",
    "    while True:\n",
    "        sample = np.random.normal(mean, std_dev)\n",
    "        if min_val <= sample <= max_val:\n",
    "            return int(round(sample))"
   ]
  },
  {
   "cell_type": "markdown",
   "id": "5f779d53",
   "metadata": {},
   "source": [
    "## Create a list of possible values for categorical "
   ]
  },
  {
   "cell_type": "code",
   "execution_count": null,
   "id": "65e723d6",
   "metadata": {},
   "outputs": [],
   "source": [
    "practice_id = ['AP001', 'AP002', 'AP003', 'AP004', 'AP005', 'AP006', 'AP007', 'AP008', 'AP009', 'AP010', 'AP011', 'AP012']\n",
    "quarter = ['Q1', 'Q2', 'Q3', 'Q4']\n"
   ]
  },
  {
   "cell_type": "code",
   "execution_count": null,
   "id": "773ab90d",
   "metadata": {},
   "outputs": [],
   "source": [
    "data = {\n",
    "    'Practice_ID': [random.choice(practice_id) for _ in range(5000)],\n",
    "    'Quarter': [random.choice(quarter) for _ in range(5000)],\n",
    "    'Visit_Volume': [random_visit_volume() for _ in range(5000)],\n",
    "    'Avg_Wait_Time_Min': [avg_wait_time_min() for _ in range(5000)],\n",
    "    'Patient_Satisfaction_Score': [patient_satisfaction_score() for _ in range(5000)],\n",
    "    'No_Show_Rate': [no_show_rate() for _ in range(5000)],\n",
    "    'Followup_Adherence_Rate': [followup_adherence_rate() for _ in range(5000)],\n",
    "    'Staff_to_Patient_Ratio': \n",
    "    'Provider_Productivity': \n",
    "    'A1C_Screening_Compliance': \n",
    "    'Total_Providers_FTE': \n",
    "    'Total_Staff_FTE': \n",
    "    'Unique_Patients_Seen': \n",
    "}"
   ]
  }
 ],
 "metadata": {
  "language_info": {
   "name": "python"
  }
 },
 "nbformat": 4,
 "nbformat_minor": 5
}
