{
 "cells": [
  {
   "cell_type": "markdown",
   "id": "2cd39f15",
   "metadata": {},
   "source": [
    "# Generate Healthcare Data for Analysis\n",
    "\n",
    "Create a mock dataset for 12 ambulatory practices including:\n",
    "- Visit volume\n",
    "- Average wait time\n",
    "- Patient satisfaction score\n",
    "- Appointment no-show rate\n",
    "- Follow-up adherence rate\n",
    "- Staff-to-patient ratio\n",
    "- Provider productivity (visits per FTE)\n",
    "- Quality measure compliance (e.g., A1C screening for diabetic patients)\n",
    "\n",
    "Rows will be based on monthly data from each practice\n",
    "\n",
    "Refer the to [Data Dictionary](Practice/sr_data_analyst_project1_data_dictionary.md) For the Data Variables Used in this Dataset."
   ]
  },
  {
   "cell_type": "code",
   "execution_count": 9,
   "id": "edef44dc",
   "metadata": {},
   "outputs": [],
   "source": [
    "# Import Packages\n",
    "import random\n",
    "import numpy as np\n",
    "import pandas as pd\n",
    "from faker import Faker  # For realistic names/locations (install with: pip install faker)"
   ]
  },
  {
   "cell_type": "code",
   "execution_count": 10,
   "id": "56f19396",
   "metadata": {},
   "outputs": [],
   "source": [
    "# --- Initialize Faker for realistic practice names ---\n",
    "fake = Faker()"
   ]
  },
  {
   "cell_type": "code",
   "execution_count": 11,
   "id": "184c0755",
   "metadata": {},
   "outputs": [],
   "source": [
    "# --- Parameters ---\n",
    "n_practices = 50  # Number of unique practices\n",
    "n_entries = 5000  # Total rows\n",
    "years = [2021, 2022, 2023]\n",
    "quarters = ['Q1', 'Q2', 'Q3', 'Q4']"
   ]
  },
  {
   "cell_type": "code",
   "execution_count": 12,
   "id": "2c552d77",
   "metadata": {},
   "outputs": [],
   "source": [
    "# --- Generate realistic practice IDs with names ---\n",
    "practice_ids = [f\"PRAC{fake.unique.random_number(digits=5)}\" for _ in range(n_practices)]\n",
    "practice_names = [fake.company() for _ in range(n_practices)]\n",
    "practice_types = random.choices(['Primary Care', 'Specialty', 'Urgent Care', 'Hospital'], \n",
    "                              weights=[0.5, 0.3, 0.15, 0.05], k=n_practices)"
   ]
  },
  {
   "cell_type": "code",
   "execution_count": 13,
   "id": "d10d34be",
   "metadata": {},
   "outputs": [],
   "source": [
    "# --- Create base data with correlations ---\n",
    "data = {\n",
    "    'Practice_ID': [],\n",
    "    'Practice_Name': [],\n",
    "    'Practice_Type': [],\n",
    "    'Quarter': [],\n",
    "    'Year': [],\n",
    "    'Visit_Volume': [],\n",
    "    'Avg_Wait_Time_Min': [],\n",
    "    'Patient_Satisfaction_Score': [],\n",
    "    'No_Show_Rate': [],\n",
    "    'Followup_Adherence_Rate': [],\n",
    "    'Staff_to_Patient_Ratio': [],\n",
    "    'Provider_Productivity': [],\n",
    "    'A1C_Screening_Compliance': [],\n",
    "    'Total_Providers_FTE': [],\n",
    "    'Total_Staff_FTE': [],\n",
    "    'Unique_Patients_Seen': []\n",
    "}"
   ]
  },
  {
   "cell_type": "code",
   "execution_count": 17,
   "id": "14b05eff",
   "metadata": {},
   "outputs": [],
   "source": [
    "for _ in range(n_entries):\n",
    "    # Select practice with some practices being overrepresented\n",
    "    prac_idx = random.choices(range(n_practices), \n",
    "                            weights=[0.5 if i < 10 else 0.02 for i in range(n_practices)])[0]\n",
    "    \n",
    "    # Generate correlated metrics\n",
    "    base_volume = random.randint(500, 5000)\n",
    "    providers = max(1, int(np.random.normal(5, 2)))\n",
    "    staff = providers * random.randint(2, 4)\n",
    "    \n",
    "    # Add seasonal effects\n",
    "    quarter = random.choice(quarters)\n",
    "    q_multiplier = 1.1 if quarter in ['Q1', 'Q4'] else 0.9  # Higher volume in winter\n",
    "    \n",
    "    # --- Populate data with realistic distributions ---\n",
    "    data['Practice_ID'].append(practice_ids[prac_idx])\n",
    "    data['Practice_Name'].append(practice_names[prac_idx])\n",
    "    data['Practice_Type'].append(practice_types[prac_idx])\n",
    "    data['Quarter'].append(quarter)\n",
    "    data['Year'].append(random.choice(years))\n",
    "    \n",
    "    # Visit volume depends on practice size and season\n",
    "    data['Visit_Volume'].append(int(base_volume * q_multiplier * np.random.lognormal(0, 0.2)))\n",
    "    \n",
    "    # Wait times correlate inversely with staff ratio\n",
    "    staff_ratio = staff / (base_volume/30)  # Approximate daily patients\n",
    "    data['Avg_Wait_Time_Min'].append(max(5, min(120, np.random.normal(40 - staff_ratio*2, 10))))\n",
    "    \n",
    "    # Satisfaction depends on wait times and random factors\n",
    "    data['Patient_Satisfaction_Score'].append(\n",
    "        max(1, min(5, np.random.normal(\n",
    "            4 - (data['Avg_Wait_Time_Min'][-1]/40), 0.7)\n",
    "        )))\n",
    "    \n",
    "    # Other metrics with realistic distributions\n",
    "    data['No_Show_Rate'].append(min(0.5, max(0.01, np.random.beta(2, 10))))\n",
    "    data['Followup_Adherence_Rate'].append(min(0.95, max(0.3, np.random.beta(5, 2))))\n",
    "    data['Staff_to_Patient_Ratio'].append(staff_ratio)\n",
    "    data['Provider_Productivity'].append(min(40, max(5, np.random.normal(20, 5))))\n",
    "    data['A1C_Screening_Compliance'].append(min(1, max(0.5, np.random.beta(8, 2))))\n",
    "    data['Total_Providers_FTE'].append(providers)\n",
    "    data['Total_Staff_FTE'].append(staff)\n",
    "    data['Unique_Patients_Seen'].append(int(base_volume * random.uniform(0.6, 0.9)))\n"
   ]
  },
  {
   "cell_type": "code",
   "execution_count": 18,
   "id": "a62aab1e",
   "metadata": {},
   "outputs": [],
   "source": [
    "# Create DataFrame\n",
    "df = pd.DataFrame(data)"
   ]
  },
  {
   "cell_type": "code",
   "execution_count": 19,
   "id": "6503d866",
   "metadata": {},
   "outputs": [],
   "source": [
    "# Add some missing data (5% random NAs)\n",
    "for col in df.columns[5:]:\n",
    "    df.loc[df.sample(frac=0.05).index, col] = np.nan"
   ]
  },
  {
   "cell_type": "code",
   "execution_count": 1,
   "id": "82cd7b90",
   "metadata": {},
   "outputs": [
    {
     "ename": "NameError",
     "evalue": "name 'df' is not defined",
     "output_type": "error",
     "traceback": [
      "\u001b[1;31m---------------------------------------------------------------------------\u001b[0m",
      "\u001b[1;31mNameError\u001b[0m                                 Traceback (most recent call last)",
      "Cell \u001b[1;32mIn[1], line 1\u001b[0m\n\u001b[1;32m----> 1\u001b[0m \u001b[43mdf\u001b[49m\u001b[38;5;241m.\u001b[39mto_csv(\u001b[38;5;124m'\u001b[39m\u001b[38;5;124mD:/GitHub/important-reference-repo/Data/fake_healthcare_data_v3.csv\u001b[39m\u001b[38;5;124m'\u001b[39m, index\u001b[38;5;241m=\u001b[39m\u001b[38;5;28;01mFalse\u001b[39;00m)\n",
      "\u001b[1;31mNameError\u001b[0m: name 'df' is not defined"
     ]
    }
   ],
   "source": [
    "df.to_csv('D:/GitHub/important-reference-repo/Data/fake_healthcare_data_v3.csv', index=False)"
   ]
  }
 ],
 "metadata": {
  "kernelspec": {
   "display_name": "Python 3",
   "language": "python",
   "name": "python3"
  },
  "language_info": {
   "codemirror_mode": {
    "name": "ipython",
    "version": 3
   },
   "file_extension": ".py",
   "mimetype": "text/x-python",
   "name": "python",
   "nbconvert_exporter": "python",
   "pygments_lexer": "ipython3",
   "version": "3.11.0"
  }
 },
 "nbformat": 4,
 "nbformat_minor": 5
}
