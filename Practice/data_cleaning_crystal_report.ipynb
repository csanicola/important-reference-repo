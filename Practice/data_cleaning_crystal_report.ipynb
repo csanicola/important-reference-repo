{
 "cells": [
  {
   "cell_type": "markdown",
   "id": "7390d0ae",
   "metadata": {},
   "source": [
    "# Data Cleaning\n",
    "Script to clean and transform the Crystal Report 'UHMC Primary Surgery by Bariatric Surgeons' to match the formatting for the REDCap Database 'General Surgery Database'."
   ]
  },
  {
   "cell_type": "code",
   "execution_count": 27,
   "id": "0b8ad40c",
   "metadata": {},
   "outputs": [],
   "source": [
    "import pandas as pd\n",
    "from datetime import datetime"
   ]
  },
  {
   "cell_type": "code",
   "execution_count": 28,
   "id": "02872d05",
   "metadata": {},
   "outputs": [],
   "source": [
    "# Read the CSV\n",
    "df = pd.read_csv('/Users/carolinesanicola/Downloads/data.csv')"
   ]
  },
  {
   "cell_type": "code",
   "execution_count": 29,
   "id": "3887a905",
   "metadata": {},
   "outputs": [],
   "source": [
    "# data mapping\n",
    "# Surgeon mapping dictionary (all caps as input)\n",
    "surgeon_map = {\n",
    "    'AGARWALA DO, ASHISH': 10,\n",
    "    'BATES MD , ANDREW': 6,\n",
    "    'DOCIMO DO , SALVATORE': 3,\n",
    "    'HUGHES MD, MELANY': 11,\n",
    "    'LEE MD, EDMUND': 8,\n",
    "    'POWERS MD, PHD, KINGA': 4,\n",
    "    'PRYOR MD , AURORA': 1,\n",
    "    'ROSENBLUTH MD, AMY': 5,\n",
    "    'SCHNUR MD , JESSICA': 12,\n",
    "    'SHMELEV MD, ARTEM': 9,\n",
    "    'SPANIOLAS MD , KONSTANTINOS': 2,\n",
    "    'TELEM , DANA': 7\n",
    "}\n",
    "\n",
    "# gender mapping\n",
    "gender_map = {'Male': 0, 'Female': 1, 'Other': 2}"
   ]
  },
  {
   "cell_type": "code",
   "execution_count": 30,
   "id": "1206f20f",
   "metadata": {},
   "outputs": [
    {
     "name": "stderr",
     "output_type": "stream",
     "text": [
      "<ipython-input-30-c5b6fda51182>:2: UserWarning: Could not infer format, so each element will be parsed individually, falling back to `dateutil`. To ensure parsing is consistent and as-expected, please specify a format.\n",
      "  df['surgery_date'] = pd.to_datetime(df['Date of Surgery']).dt.strftime('%Y-%m-%d')\n"
     ]
    },
    {
     "name": "stdout",
     "output_type": "stream",
     "text": [
      "0    2015-01-02\n",
      "1    2015-01-06\n",
      "2    2015-01-06\n",
      "3    2015-01-06\n",
      "4    2015-01-06\n",
      "Name: surgery_date, dtype: object\n"
     ]
    }
   ],
   "source": [
    "# 1. Date of Surgery -> surgery_date\n",
    "df['surgery_date'] = pd.to_datetime(df['Date of Surgery']).dt.strftime('%Y-%m-%d')\n",
    "print(df['surgery_date'].head())"
   ]
  },
  {
   "cell_type": "code",
   "execution_count": 31,
   "id": "8a9c4c34",
   "metadata": {},
   "outputs": [
    {
     "name": "stdout",
     "output_type": "stream",
     "text": [
      "surgeon\n",
      "1     2439\n",
      "2     1895\n",
      "5     1181\n",
      "4     1016\n",
      "6      988\n",
      "3      931\n",
      "12     779\n",
      "9      440\n",
      "8      428\n",
      "7      356\n",
      "11     331\n",
      "10       1\n",
      "Name: count, dtype: int64\n"
     ]
    }
   ],
   "source": [
    "# 2. Surgeon -> surgeon \n",
    "df['surgeon'] = df['Surgeon'].map(surgeon_map).fillna(999).astype(int)\n",
    "print(df['surgeon'].value_counts())"
   ]
  },
  {
   "cell_type": "code",
   "execution_count": 32,
   "id": "8a668982",
   "metadata": {},
   "outputs": [
    {
     "name": "stdout",
     "output_type": "stream",
     "text": [
      "0    30447708\n",
      "1    30553527\n",
      "2    00290031\n",
      "3    00441107\n",
      "4    00031673\n",
      "Name: mrn, dtype: object\n"
     ]
    }
   ],
   "source": [
    "# 3. MRN -> mrn (8 digits, leading zeros)\n",
    "df['mrn'] = df['MRN'].astype(str).str.zfill(8)\n",
    "print(df['mrn'].head())"
   ]
  },
  {
   "cell_type": "code",
   "execution_count": 33,
   "id": "ed8c97f1",
   "metadata": {},
   "outputs": [
    {
     "name": "stdout",
     "output_type": "stream",
     "text": [
      "0    Hrushikesh\n",
      "1      Labertha\n",
      "2      Lorraine\n",
      "3       Shannon\n",
      "4        Dawn M\n",
      "Name: first_name, dtype: object\n",
      "0         Bhatt\n",
      "1    Harrington\n",
      "2          Goot\n",
      "3       Ziegler\n",
      "4          Ryan\n",
      "Name: last_name, dtype: object\n"
     ]
    }
   ],
   "source": [
    "# 4. Patient Name -> first_name, last_name\n",
    "name_split = df['Patient Name'].str.split(',', expand=True)\n",
    "df['last_name'] = name_split[0].str.strip().str.title()\n",
    "df['first_name'] = name_split[1].str.strip().str.title() if name_split.shape[1] > 1 else ''\n",
    "print(df['first_name'].head())\n",
    "print(df['last_name'].head())"
   ]
  },
  {
   "cell_type": "code",
   "execution_count": 34,
   "id": "f4055f03",
   "metadata": {},
   "outputs": [
    {
     "name": "stdout",
     "output_type": "stream",
     "text": [
      "gender\n",
      "1    6258\n",
      "0    4520\n",
      "2       7\n",
      "Name: count, dtype: int64\n"
     ]
    }
   ],
   "source": [
    "# 5. ADMIN_SEX -> gender\n",
    "df['gender'] = df['ADMIN_SEX'].map(gender_map).fillna(2).astype(int)\n",
    "print(df['gender'].value_counts())"
   ]
  },
  {
   "cell_type": "code",
   "execution_count": 35,
   "id": "c7ed8eca",
   "metadata": {},
   "outputs": [
    {
     "name": "stdout",
     "output_type": "stream",
     "text": [
      "0                44970\n",
      "1    44202,43235,49654\n",
      "2          43281,43644\n",
      "3                43644\n",
      "4                43235\n",
      "Name: cpt, dtype: object\n"
     ]
    }
   ],
   "source": [
    "# 6. CPT_1 to CPT_8 → cpt (comma-separated, skip blanks/NaN)\n",
    "cpt_cols = [f'CPT_{i}' for i in range(1, 9)]\n",
    "\n",
    "def clean_cpt(row):\n",
    "    # Only keep non-empty, non-NaN values\n",
    "    filtered = [str(x) for x in row if pd.notna(x) and str(x).strip() != '']\n",
    "    return ','.join(filtered)\n",
    "\n",
    "df['cpt'] = df[cpt_cols].apply(clean_cpt, axis=1)\n",
    "print(df['cpt'].head())"
   ]
  },
  {
   "cell_type": "code",
   "execution_count": 36,
   "id": "176f6561",
   "metadata": {},
   "outputs": [
    {
     "name": "stdout",
     "output_type": "stream",
     "text": [
      "0                           Laparoscopic appendectomy.\n",
      "1    Laparoscopic small bowel resection and reanast...\n",
      "2                                                  NaN\n",
      "3    Laparoscopic revision of sleeve gastrectomy an...\n",
      "4                                                  NaN\n",
      "Name: written_proc, dtype: object\n"
     ]
    }
   ],
   "source": [
    "# 7. Written Procedure -> written_proc\n",
    "df['written_proc'] = df['Written Procedure']\n",
    "print(df['written_proc'].head())"
   ]
  },
  {
   "cell_type": "code",
   "execution_count": 37,
   "id": "21ace485",
   "metadata": {},
   "outputs": [],
   "source": [
    "# 8. Select and order columns for output\n",
    "output_cols = [\n",
    "    'mrn',\n",
    "    'last_name',\n",
    "    'first_name',\n",
    "    'gender',\n",
    "    'surgery_date',\n",
    "    'surgeon',\n",
    "    'cpt',\n",
    "    'written_proc'\n",
    "]\n",
    "df_cleaned = df[output_cols]\n",
    "df_cleaned.to_csv('/Users/carolinesanicola/Downloads/cleaned_data.csv', index=False)"
   ]
  }
 ],
 "metadata": {
  "kernelspec": {
   "display_name": "base",
   "language": "python",
   "name": "python3"
  },
  "language_info": {
   "codemirror_mode": {
    "name": "ipython",
    "version": 3
   },
   "file_extension": ".py",
   "mimetype": "text/x-python",
   "name": "python",
   "nbconvert_exporter": "python",
   "pygments_lexer": "ipython3",
   "version": "3.8.8"
  }
 },
 "nbformat": 4,
 "nbformat_minor": 5
}
