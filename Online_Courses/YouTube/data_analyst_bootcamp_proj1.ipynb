{
 "cells": [
  {
   "cell_type": "markdown",
   "id": "5d11d623",
   "metadata": {},
   "source": [
    "# Amazon Web Scraper Project\n",
    "[Source](https://www.youtube.com/watch?v=PSNXoAs2FtQ&t=56106s) (16:47:39)"
   ]
  },
  {
   "cell_type": "code",
   "execution_count": 3,
   "id": "518f0ff8",
   "metadata": {},
   "outputs": [],
   "source": [
    "# import libraries\n",
    "\n",
    "from bs4 import BeautifulSoup\n",
    "import requests\n",
    "import smtplib\n",
    "import time\n",
    "import datetime\n",
    "\n",
    "import smtplib"
   ]
  },
  {
   "cell_type": "code",
   "execution_count": 4,
   "id": "924e1771",
   "metadata": {},
   "outputs": [
    {
     "name": "stdout",
     "output_type": "stream",
     "text": [
      "Got Data Funny Business Data Analyst T-Shirt\n",
      "$15.99\n"
     ]
    }
   ],
   "source": [
    "# first we need to direct beautifulsoup where we are getting our data from\n",
    "# Connect to website\n",
    "URL = 'https://www.amazon.com/Funny-Data-Systems-Business-Analyst/dp/B07FNW9FGJ'\n",
    "\n",
    "# this is unique to the computer and is gotten from: https://httpbin.org/get\n",
    "headers = {\"User-Agent\": \"Mozilla/5.0 (Windows NT 10.0; Win64; x64) AppleWebKit/537.36 (KHTML, like Gecko) Chrome/138.0.0.0 Safari/537.36\", \"Accept-Encoding\":\"gzip, deflate\", \"Accept\":\"text/html,application/xhtml+xml,application/xml;q=0.9,*/*;q=0.8\", \"DNT\":\"1\",\"Connection\":\"close\", \"Upgrade-Insecure-Requests\":\"1\"}\n",
    "\n",
    "page = requests.get(URL, headers=headers)\n",
    "\n",
    "soup1 = BeautifulSoup(page.content, \"html.parser\")\n",
    "\n",
    "soup2 = BeautifulSoup(soup1.prettify(), \"html.parser\")\n",
    "\n",
    "# print(soup2)\n",
    "\n",
    "title = soup2.find(id='productTitle').get_text(strip=True)\n",
    "\n",
    "print(title)\n",
    "\n",
    "# the old version of getting the price:\n",
    "# price = soup2.find(id='priceblock_ourprice').get_text()\n",
    "price = soup2.find(\"span\", class_=\"aok-offscreen\").get_text(strip=True)\n",
    "\n",
    "print(price)"
   ]
  },
  {
   "cell_type": "code",
   "execution_count": 5,
   "id": "8b2bc5fb",
   "metadata": {},
   "outputs": [
    {
     "name": "stdout",
     "output_type": "stream",
     "text": [
      "15.99\n"
     ]
    }
   ],
   "source": [
    "price = price.strip()[1:]\n",
    "print(price)"
   ]
  },
  {
   "cell_type": "code",
   "execution_count": 6,
   "id": "f61b70c9",
   "metadata": {},
   "outputs": [],
   "source": [
    "import datetime\n",
    "\n",
    "today = datetime.date.today()"
   ]
  },
  {
   "cell_type": "code",
   "execution_count": 7,
   "id": "ed27ec0b",
   "metadata": {},
   "outputs": [],
   "source": [
    "import csv\n",
    "\n",
    "header = ['Title', 'Price', 'Date']\n",
    "data = [title, price, today]\n",
    "\n",
    "# with open('D:\\GitHub\\important-reference-repo\\Data\\AmazonWebScraperDataset.csv', 'w', newline='', encoding='UTF8') as f:\n",
    "#    writer = csv.writer(f)\n",
    "#    writer.writerow(header)\n",
    "#    writer.writerow(data)"
   ]
  },
  {
   "cell_type": "code",
   "execution_count": 8,
   "id": "3324016a",
   "metadata": {},
   "outputs": [
    {
     "name": "stdout",
     "output_type": "stream",
     "text": [
      "                                           Title  Price        Date\n",
      "0   Got Data Funny Business Data Analyst T-Shirt  15.99  2025-07-18\n",
      "1   Got Data Funny Business Data Analyst T-Shirt  15.99  2025-07-18\n",
      "2   Got Data Funny Business Data Analyst T-Shirt  15.99  2025-07-18\n",
      "3   Got Data Funny Business Data Analyst T-Shirt  15.99  2025-07-18\n",
      "4   Got Data Funny Business Data Analyst T-Shirt  15.99  2025-07-18\n",
      "5   Got Data Funny Business Data Analyst T-Shirt  15.99  2025-07-18\n",
      "6   Got Data Funny Business Data Analyst T-Shirt  15.99  2025-07-18\n",
      "7   Got Data Funny Business Data Analyst T-Shirt  15.99  2025-07-18\n",
      "8   Got Data Funny Business Data Analyst T-Shirt  15.99  2025-07-18\n",
      "9   Got Data Funny Business Data Analyst T-Shirt  15.99  2025-07-18\n",
      "10  Got Data Funny Business Data Analyst T-Shirt  15.99  2025-07-18\n"
     ]
    }
   ],
   "source": [
    "import pandas as pd\n",
    "\n",
    "df = pd.read_csv(r'D:\\GitHub\\important-reference-repo\\Data\\AmazonWebScraperDataset.csv')\n",
    "\n",
    "print(df)"
   ]
  },
  {
   "cell_type": "code",
   "execution_count": 9,
   "id": "c2c7da5f",
   "metadata": {},
   "outputs": [
    {
     "name": "stderr",
     "output_type": "stream",
     "text": [
      "<>:3: SyntaxWarning: invalid escape sequence '\\G'\n",
      "<>:3: SyntaxWarning: invalid escape sequence '\\G'\n",
      "C:\\Users\\carol\\AppData\\Local\\Temp\\ipykernel_1292\\2628370111.py:3: SyntaxWarning: invalid escape sequence '\\G'\n",
      "  with open('D:\\GitHub\\important-reference-repo\\Data\\AmazonWebScraperDataset.csv', 'a+', newline='', encoding='UTF8') as f:\n"
     ]
    }
   ],
   "source": [
    "# Now we are appending data to the csv\n",
    "\n",
    "with open('D:\\GitHub\\important-reference-repo\\Data\\AmazonWebScraperDataset.csv', 'a+', newline='', encoding='UTF8') as f:\n",
    "    writer = csv.writer(f)\n",
    "    writer.writerow(data)"
   ]
  },
  {
   "cell_type": "code",
   "execution_count": 10,
   "id": "ad5592f7",
   "metadata": {},
   "outputs": [],
   "source": [
    "# If uou want to try sending yourself an email (just for fun) when a price hits below a certain level you can try it\n",
    "# out with this script\n",
    "\n",
    "def send_mail():\n",
    "    server = smtplib.SMTP_SSL('smtp.gmail.com',465)\n",
    "    server.ehlo()\n",
    "    #server.starttls()\n",
    "    server.ehlo()\n",
    "    server.login('AlexTheAnalyst95@gmail.com','xxxxxxxxxxxxxx')\n",
    "    \n",
    "    subject = \"The Shirt you want is below $15! Now is your chance to buy!\"\n",
    "    body = \"Alex, This is the moment we have been waiting for. Now is your chance to pick up the shirt of your dreams. Don't mess it up! Link here: https://www.amazon.com/Funny-Data-Systems-Business-Analyst/dp/B07FNW9FGJ/ref=sr_1_3?dchild=1&keywords=data+analyst+tshirt&qid=1626655184&sr=8-3\"\n",
    "   \n",
    "    msg = f\"Subject: {subject}\\n\\n{body}\"\n",
    "    \n",
    "    server.sendmail(\n",
    "        'AlexTheAnalyst95@gmail.com',\n",
    "        msg\n",
    "     \n",
    "    )"
   ]
  },
  {
   "cell_type": "code",
   "execution_count": 11,
   "id": "96ad78a2",
   "metadata": {},
   "outputs": [
    {
     "name": "stderr",
     "output_type": "stream",
     "text": [
      "<>:29: SyntaxWarning: invalid escape sequence '\\G'\n",
      "<>:29: SyntaxWarning: invalid escape sequence '\\G'\n",
      "C:\\Users\\carol\\AppData\\Local\\Temp\\ipykernel_1292\\3781164986.py:29: SyntaxWarning: invalid escape sequence '\\G'\n",
      "  with open('D:\\GitHub\\important-reference-repo\\Data\\AmazonWebScraperDataset.csv', 'a+', newline='', encoding='UTF8') as f:\n"
     ]
    }
   ],
   "source": [
    "def check_price():\n",
    "    URL = 'https://www.amazon.com/Funny-Data-Systems-Business-Analyst/dp/B07FNW9FGJ'\n",
    "\n",
    "    # this is unique to the computer and is gotten from: https://httpbin.org/get\n",
    "    headers = {\"User-Agent\": \"Mozilla/5.0 (Windows NT 10.0; Win64; x64) AppleWebKit/537.36 (KHTML, like Gecko) Chrome/138.0.0.0 Safari/537.36\", \"Accept-Encoding\":\"gzip, deflate\", \"Accept\":\"text/html,application/xhtml+xml,application/xml;q=0.9,*/*;q=0.8\", \"DNT\":\"1\",\"Connection\":\"close\", \"Upgrade-Insecure-Requests\":\"1\"}\n",
    "\n",
    "    page = requests.get(URL, headers=headers)\n",
    "\n",
    "    soup1 = BeautifulSoup(page.content, \"html.parser\")\n",
    "\n",
    "    soup2 = BeautifulSoup(soup1.prettify(), \"html.parser\")\n",
    "\n",
    "    title = soup2.find(id='productTitle').get_text(strip=True)\n",
    "\n",
    "    price = soup2.find(\"span\", class_=\"aok-offscreen\").get_text(strip=True)\n",
    "\n",
    "    price = price.strip()[1:]\n",
    "    \n",
    "    # for the email portion we need to convert the price to a float\n",
    "    price = float(price)\n",
    "\n",
    "    import datetime\n",
    "    today = datetime.date.today()\n",
    "    \n",
    "    import csv\n",
    "    header = ['Title', 'Price', 'Date']\n",
    "    data = [title, price, today]\n",
    "    \n",
    "    with open('D:\\GitHub\\important-reference-repo\\Data\\AmazonWebScraperDataset.csv', 'a+', newline='', encoding='UTF8') as f:\n",
    "        writer = csv.writer(f)\n",
    "        writer.writerow(data)\n",
    "\n",
    "    # optional: if the price goes below a certain point, you can have it generate an email\n",
    "    if(price < 14):\n",
    "        send_mail()"
   ]
  },
  {
   "cell_type": "code",
   "execution_count": 12,
   "id": "cb8e2240",
   "metadata": {},
   "outputs": [
    {
     "ename": "KeyboardInterrupt",
     "evalue": "",
     "output_type": "error",
     "traceback": [
      "\u001b[1;31m---------------------------------------------------------------------------\u001b[0m",
      "\u001b[1;31mKeyboardInterrupt\u001b[0m                         Traceback (most recent call last)",
      "Cell \u001b[1;32mIn[12], line 3\u001b[0m\n\u001b[0;32m      1\u001b[0m \u001b[38;5;28;01mwhile\u001b[39;00m(\u001b[38;5;28;01mTrue\u001b[39;00m):\n\u001b[0;32m      2\u001b[0m     check_price()\n\u001b[1;32m----> 3\u001b[0m     \u001b[43mtime\u001b[49m\u001b[38;5;241;43m.\u001b[39;49m\u001b[43msleep\u001b[49m\u001b[43m(\u001b[49m\u001b[38;5;241;43m5\u001b[39;49m\u001b[43m)\u001b[49m\n\u001b[0;32m      4\u001b[0m     \u001b[38;5;66;03m# if you want once a day checks\u001b[39;00m\n\u001b[0;32m      5\u001b[0m     \u001b[38;5;66;03m# time.sleep(86400)\u001b[39;00m\n",
      "\u001b[1;31mKeyboardInterrupt\u001b[0m: "
     ]
    }
   ],
   "source": [
    "while(True):\n",
    "    check_price()\n",
    "    time.sleep(5)\n",
    "    # if you want once a day checks\n",
    "    # time.sleep(86400)"
   ]
  },
  {
   "cell_type": "code",
   "execution_count": 13,
   "id": "46df7479",
   "metadata": {},
   "outputs": [
    {
     "name": "stdout",
     "output_type": "stream",
     "text": [
      "                                           Title  Price        Date\n",
      "0   Got Data Funny Business Data Analyst T-Shirt  15.99  2025-07-18\n",
      "1   Got Data Funny Business Data Analyst T-Shirt  15.99  2025-07-18\n",
      "2   Got Data Funny Business Data Analyst T-Shirt  15.99  2025-07-18\n",
      "3   Got Data Funny Business Data Analyst T-Shirt  15.99  2025-07-18\n",
      "4   Got Data Funny Business Data Analyst T-Shirt  15.99  2025-07-18\n",
      "5   Got Data Funny Business Data Analyst T-Shirt  15.99  2025-07-18\n",
      "6   Got Data Funny Business Data Analyst T-Shirt  15.99  2025-07-18\n",
      "7   Got Data Funny Business Data Analyst T-Shirt  15.99  2025-07-18\n",
      "8   Got Data Funny Business Data Analyst T-Shirt  15.99  2025-07-18\n",
      "9   Got Data Funny Business Data Analyst T-Shirt  15.99  2025-07-18\n",
      "10  Got Data Funny Business Data Analyst T-Shirt  15.99  2025-07-18\n",
      "11  Got Data Funny Business Data Analyst T-Shirt  15.99  2025-07-18\n",
      "12  Got Data Funny Business Data Analyst T-Shirt  15.99  2025-07-18\n"
     ]
    }
   ],
   "source": [
    "df = pd.read_csv(r'D:\\GitHub\\important-reference-repo\\Data\\AmazonWebScraperDataset.csv')\n",
    "\n",
    "print(df)"
   ]
  }
 ],
 "metadata": {
  "kernelspec": {
   "display_name": "Python 3",
   "language": "python",
   "name": "python3"
  },
  "language_info": {
   "codemirror_mode": {
    "name": "ipython",
    "version": 3
   },
   "file_extension": ".py",
   "mimetype": "text/x-python",
   "name": "python",
   "nbconvert_exporter": "python",
   "pygments_lexer": "ipython3",
   "version": "3.13.0"
  }
 },
 "nbformat": 4,
 "nbformat_minor": 5
}
