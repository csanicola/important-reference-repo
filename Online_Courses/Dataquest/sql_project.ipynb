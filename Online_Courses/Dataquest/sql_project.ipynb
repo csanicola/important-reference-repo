{
 "cells": [
  {
   "cell_type": "markdown",
   "id": "1be16b85",
   "metadata": {},
   "source": [
    "# Guided Project: Analyzing Kickstarter Projects\n",
    "[Source](https://app.dataquest.io/c/150/m/811/guided-project%3A-analyzing-kickstarter-projects/1/retrieving-column-data-types)\n",
    "\n",
    "For this guided project, you'll take on the role of a data analyst at a startup. The product team is considering launching a campaign on Kickstarter to test the viability of some offerings. You've been asked to pull data that will help the team understand what might influence the success of a campaign. The data source is a selection of fields from Kaggle.\n",
    "\n",
    "Specifically, we'll answer the following questions:\n",
    "\n",
    "What types of projects are most likely to be successful?\n",
    "Which projects fail?\n",
    "To get you started, here are the definitions of the columns in this data:\n",
    "\n",
    "```sql\n",
    "ID: Kickstarter project ID\n",
    "name: Name of project\n",
    "category: Category of project\n",
    "main_category: Main category of project\n",
    "goal: Fundraising goal\n",
    "pledged: Amount pledged\n",
    "state: State of project (successful, canceled, etc.)\n",
    "backers: Number of project backers\n",
    "```\n",
    "\n",
    "___\n",
    "## Establish the database connection"
   ]
  },
  {
   "cell_type": "code",
   "execution_count": 12,
   "id": "ea55dd17",
   "metadata": {},
   "outputs": [
    {
     "name": "stdout",
     "output_type": "stream",
     "text": [
      "Cleaned column names: ['ID', 'name', 'category', 'main_category', 'currency', 'deadline', 'goal', 'launched', 'pledged', 'state', 'backers', 'country', 'usd pledged', 'Unnamed: 13', 'Unnamed: 14', 'Unnamed: 15', 'Unnamed: 16']\n",
      "\n",
      "First 3 rows of selected data:\n"
     ]
    },
    {
     "name": "stderr",
     "output_type": "stream",
     "text": [
      "C:\\Users\\carol\\AppData\\Local\\Temp\\ipykernel_26228\\3177498674.py:12: DtypeWarning: Columns (13,14,15) have mixed types. Specify dtype option on import or set low_memory=False.\n",
      "  df = pd.read_csv(\n"
     ]
    },
    {
     "data": {
      "application/vnd.microsoft.datawrangler.viewer.v0+json": {
       "columns": [
        {
         "name": "index",
         "rawType": "int64",
         "type": "integer"
        },
        {
         "name": "id",
         "rawType": "int64",
         "type": "integer"
        },
        {
         "name": "name",
         "rawType": "object",
         "type": "string"
        },
        {
         "name": "category",
         "rawType": "object",
         "type": "string"
        },
        {
         "name": "main_category",
         "rawType": "object",
         "type": "string"
        },
        {
         "name": "goal",
         "rawType": "object",
         "type": "string"
        },
        {
         "name": "pledged",
         "rawType": "object",
         "type": "string"
        },
        {
         "name": "state",
         "rawType": "object",
         "type": "string"
        },
        {
         "name": "backers",
         "rawType": "object",
         "type": "string"
        }
       ],
       "ref": "c6c1bc4c-b988-4f50-b15c-15cb4b91df59",
       "rows": [
        [
         "0",
         "1000002330",
         "The Songs of Adelaide & Abullah",
         "Poetry",
         "Publishing",
         "1000",
         "0",
         "failed",
         "0"
        ],
        [
         "1",
         "1000004038",
         "Where is Hank?",
         "Narrative Film",
         "Film & Video",
         "45000",
         "220",
         "failed",
         "3"
        ],
        [
         "2",
         "1000007540",
         "ToshiCapital Rekordz Needs Help to Complete Album",
         "Music",
         "Music",
         "5000",
         "1",
         "failed",
         "1"
        ]
       ],
       "shape": {
        "columns": 8,
        "rows": 3
       }
      },
      "text/html": [
       "<div>\n",
       "<style scoped>\n",
       "    .dataframe tbody tr th:only-of-type {\n",
       "        vertical-align: middle;\n",
       "    }\n",
       "\n",
       "    .dataframe tbody tr th {\n",
       "        vertical-align: top;\n",
       "    }\n",
       "\n",
       "    .dataframe thead th {\n",
       "        text-align: right;\n",
       "    }\n",
       "</style>\n",
       "<table border=\"1\" class=\"dataframe\">\n",
       "  <thead>\n",
       "    <tr style=\"text-align: right;\">\n",
       "      <th></th>\n",
       "      <th>id</th>\n",
       "      <th>name</th>\n",
       "      <th>category</th>\n",
       "      <th>main_category</th>\n",
       "      <th>goal</th>\n",
       "      <th>pledged</th>\n",
       "      <th>state</th>\n",
       "      <th>backers</th>\n",
       "    </tr>\n",
       "  </thead>\n",
       "  <tbody>\n",
       "    <tr>\n",
       "      <th>0</th>\n",
       "      <td>1000002330</td>\n",
       "      <td>The Songs of Adelaide &amp; Abullah</td>\n",
       "      <td>Poetry</td>\n",
       "      <td>Publishing</td>\n",
       "      <td>1000</td>\n",
       "      <td>0</td>\n",
       "      <td>failed</td>\n",
       "      <td>0</td>\n",
       "    </tr>\n",
       "    <tr>\n",
       "      <th>1</th>\n",
       "      <td>1000004038</td>\n",
       "      <td>Where is Hank?</td>\n",
       "      <td>Narrative Film</td>\n",
       "      <td>Film &amp; Video</td>\n",
       "      <td>45000</td>\n",
       "      <td>220</td>\n",
       "      <td>failed</td>\n",
       "      <td>3</td>\n",
       "    </tr>\n",
       "    <tr>\n",
       "      <th>2</th>\n",
       "      <td>1000007540</td>\n",
       "      <td>ToshiCapital Rekordz Needs Help to Complete Album</td>\n",
       "      <td>Music</td>\n",
       "      <td>Music</td>\n",
       "      <td>5000</td>\n",
       "      <td>1</td>\n",
       "      <td>failed</td>\n",
       "      <td>1</td>\n",
       "    </tr>\n",
       "  </tbody>\n",
       "</table>\n",
       "</div>"
      ],
      "text/plain": [
       "           id                                               name  \\\n",
       "0  1000002330                    The Songs of Adelaide & Abullah   \n",
       "1  1000004038                                     Where is Hank?   \n",
       "2  1000007540  ToshiCapital Rekordz Needs Help to Complete Album   \n",
       "\n",
       "         category main_category   goal pledged   state backers  \n",
       "0          Poetry    Publishing   1000       0  failed       0  \n",
       "1  Narrative Film  Film & Video  45000     220  failed       3  \n",
       "2           Music         Music   5000       1  failed       1  "
      ]
     },
     "metadata": {},
     "output_type": "display_data"
    },
    {
     "name": "stdout",
     "output_type": "stream",
     "text": [
      "\n",
      "✅ Successfully created SQLite database at: ksprojects.db\n",
      "\n",
      "Table structure:\n"
     ]
    },
    {
     "data": {
      "application/vnd.microsoft.datawrangler.viewer.v0+json": {
       "columns": [
        {
         "name": "index",
         "rawType": "int64",
         "type": "integer"
        },
        {
         "name": "cid",
         "rawType": "int64",
         "type": "integer"
        },
        {
         "name": "name",
         "rawType": "object",
         "type": "string"
        },
        {
         "name": "type",
         "rawType": "object",
         "type": "string"
        },
        {
         "name": "notnull",
         "rawType": "int64",
         "type": "integer"
        },
        {
         "name": "dflt_value",
         "rawType": "object",
         "type": "unknown"
        },
        {
         "name": "pk",
         "rawType": "int64",
         "type": "integer"
        }
       ],
       "ref": "96d4dd84-e025-4e1b-b65c-b4680defdd9d",
       "rows": [
        [
         "0",
         "0",
         "id",
         "INTEGER",
         "0",
         null,
         "1"
        ],
        [
         "1",
         "1",
         "name",
         "TEXT",
         "0",
         null,
         "0"
        ],
        [
         "2",
         "2",
         "category",
         "TEXT",
         "0",
         null,
         "0"
        ],
        [
         "3",
         "3",
         "main_category",
         "TEXT",
         "0",
         null,
         "0"
        ],
        [
         "4",
         "4",
         "goal",
         "REAL",
         "0",
         null,
         "0"
        ],
        [
         "5",
         "5",
         "pledged",
         "REAL",
         "0",
         null,
         "0"
        ],
        [
         "6",
         "6",
         "state",
         "TEXT",
         "0",
         null,
         "0"
        ],
        [
         "7",
         "7",
         "backers",
         "INTEGER",
         "0",
         null,
         "0"
        ]
       ],
       "shape": {
        "columns": 6,
        "rows": 8
       }
      },
      "text/html": [
       "<div>\n",
       "<style scoped>\n",
       "    .dataframe tbody tr th:only-of-type {\n",
       "        vertical-align: middle;\n",
       "    }\n",
       "\n",
       "    .dataframe tbody tr th {\n",
       "        vertical-align: top;\n",
       "    }\n",
       "\n",
       "    .dataframe thead th {\n",
       "        text-align: right;\n",
       "    }\n",
       "</style>\n",
       "<table border=\"1\" class=\"dataframe\">\n",
       "  <thead>\n",
       "    <tr style=\"text-align: right;\">\n",
       "      <th></th>\n",
       "      <th>cid</th>\n",
       "      <th>name</th>\n",
       "      <th>type</th>\n",
       "      <th>notnull</th>\n",
       "      <th>dflt_value</th>\n",
       "      <th>pk</th>\n",
       "    </tr>\n",
       "  </thead>\n",
       "  <tbody>\n",
       "    <tr>\n",
       "      <th>0</th>\n",
       "      <td>0</td>\n",
       "      <td>id</td>\n",
       "      <td>INTEGER</td>\n",
       "      <td>0</td>\n",
       "      <td>None</td>\n",
       "      <td>1</td>\n",
       "    </tr>\n",
       "    <tr>\n",
       "      <th>1</th>\n",
       "      <td>1</td>\n",
       "      <td>name</td>\n",
       "      <td>TEXT</td>\n",
       "      <td>0</td>\n",
       "      <td>None</td>\n",
       "      <td>0</td>\n",
       "    </tr>\n",
       "    <tr>\n",
       "      <th>2</th>\n",
       "      <td>2</td>\n",
       "      <td>category</td>\n",
       "      <td>TEXT</td>\n",
       "      <td>0</td>\n",
       "      <td>None</td>\n",
       "      <td>0</td>\n",
       "    </tr>\n",
       "    <tr>\n",
       "      <th>3</th>\n",
       "      <td>3</td>\n",
       "      <td>main_category</td>\n",
       "      <td>TEXT</td>\n",
       "      <td>0</td>\n",
       "      <td>None</td>\n",
       "      <td>0</td>\n",
       "    </tr>\n",
       "    <tr>\n",
       "      <th>4</th>\n",
       "      <td>4</td>\n",
       "      <td>goal</td>\n",
       "      <td>REAL</td>\n",
       "      <td>0</td>\n",
       "      <td>None</td>\n",
       "      <td>0</td>\n",
       "    </tr>\n",
       "    <tr>\n",
       "      <th>5</th>\n",
       "      <td>5</td>\n",
       "      <td>pledged</td>\n",
       "      <td>REAL</td>\n",
       "      <td>0</td>\n",
       "      <td>None</td>\n",
       "      <td>0</td>\n",
       "    </tr>\n",
       "    <tr>\n",
       "      <th>6</th>\n",
       "      <td>6</td>\n",
       "      <td>state</td>\n",
       "      <td>TEXT</td>\n",
       "      <td>0</td>\n",
       "      <td>None</td>\n",
       "      <td>0</td>\n",
       "    </tr>\n",
       "    <tr>\n",
       "      <th>7</th>\n",
       "      <td>7</td>\n",
       "      <td>backers</td>\n",
       "      <td>INTEGER</td>\n",
       "      <td>0</td>\n",
       "      <td>None</td>\n",
       "      <td>0</td>\n",
       "    </tr>\n",
       "  </tbody>\n",
       "</table>\n",
       "</div>"
      ],
      "text/plain": [
       "   cid           name     type  notnull dflt_value  pk\n",
       "0    0             id  INTEGER        0       None   1\n",
       "1    1           name     TEXT        0       None   0\n",
       "2    2       category     TEXT        0       None   0\n",
       "3    3  main_category     TEXT        0       None   0\n",
       "4    4           goal     REAL        0       None   0\n",
       "5    5        pledged     REAL        0       None   0\n",
       "6    6          state     TEXT        0       None   0\n",
       "7    7        backers  INTEGER        0       None   0"
      ]
     },
     "metadata": {},
     "output_type": "display_data"
    },
    {
     "name": "stdout",
     "output_type": "stream",
     "text": [
      "\n",
      "Testing database query...\n"
     ]
    },
    {
     "data": {
      "application/vnd.microsoft.datawrangler.viewer.v0+json": {
       "columns": [
        {
         "name": "index",
         "rawType": "int64",
         "type": "integer"
        },
        {
         "name": "id",
         "rawType": "int64",
         "type": "integer"
        },
        {
         "name": "name",
         "rawType": "object",
         "type": "string"
        },
        {
         "name": "category",
         "rawType": "object",
         "type": "string"
        },
        {
         "name": "main_category",
         "rawType": "object",
         "type": "string"
        },
        {
         "name": "goal",
         "rawType": "float64",
         "type": "float"
        },
        {
         "name": "pledged",
         "rawType": "float64",
         "type": "float"
        },
        {
         "name": "state",
         "rawType": "object",
         "type": "string"
        },
        {
         "name": "backers",
         "rawType": "int64",
         "type": "integer"
        }
       ],
       "ref": "c4a6d6b4-609a-4538-ac28-0d8948f180cd",
       "rows": [
        [
         "0",
         "5971",
         "An American Apocalypse: The Reckoning",
         "Comics",
         "Comics",
         "48000.0",
         "376.0",
         "failed",
         "7"
        ],
        [
         "1",
         "18520",
         "Grandma's are Life",
         "World Music",
         "Music",
         "15000.0",
         "62.0",
         "failed",
         "4"
        ],
        [
         "2",
         "21109",
         "Meta",
         "Performance Art",
         "Art",
         "150.0",
         "173.0",
         "successful",
         "11"
        ],
        [
         "3",
         "21371",
         "Water Powered Car",
         "Technology",
         "Technology",
         "75000.0",
         "120.0",
         "failed",
         "4"
        ],
        [
         "4",
         "24380",
         "Puss N' Books: A relaxing cat cafe and bookstore.",
         "Spaces",
         "Food",
         "20000.0",
         "776.0",
         "failed",
         "18"
        ]
       ],
       "shape": {
        "columns": 8,
        "rows": 5
       }
      },
      "text/html": [
       "<div>\n",
       "<style scoped>\n",
       "    .dataframe tbody tr th:only-of-type {\n",
       "        vertical-align: middle;\n",
       "    }\n",
       "\n",
       "    .dataframe tbody tr th {\n",
       "        vertical-align: top;\n",
       "    }\n",
       "\n",
       "    .dataframe thead th {\n",
       "        text-align: right;\n",
       "    }\n",
       "</style>\n",
       "<table border=\"1\" class=\"dataframe\">\n",
       "  <thead>\n",
       "    <tr style=\"text-align: right;\">\n",
       "      <th></th>\n",
       "      <th>id</th>\n",
       "      <th>name</th>\n",
       "      <th>category</th>\n",
       "      <th>main_category</th>\n",
       "      <th>goal</th>\n",
       "      <th>pledged</th>\n",
       "      <th>state</th>\n",
       "      <th>backers</th>\n",
       "    </tr>\n",
       "  </thead>\n",
       "  <tbody>\n",
       "    <tr>\n",
       "      <th>0</th>\n",
       "      <td>5971</td>\n",
       "      <td>An American Apocalypse: The Reckoning</td>\n",
       "      <td>Comics</td>\n",
       "      <td>Comics</td>\n",
       "      <td>48000.0</td>\n",
       "      <td>376.0</td>\n",
       "      <td>failed</td>\n",
       "      <td>7</td>\n",
       "    </tr>\n",
       "    <tr>\n",
       "      <th>1</th>\n",
       "      <td>18520</td>\n",
       "      <td>Grandma's are Life</td>\n",
       "      <td>World Music</td>\n",
       "      <td>Music</td>\n",
       "      <td>15000.0</td>\n",
       "      <td>62.0</td>\n",
       "      <td>failed</td>\n",
       "      <td>4</td>\n",
       "    </tr>\n",
       "    <tr>\n",
       "      <th>2</th>\n",
       "      <td>21109</td>\n",
       "      <td>Meta</td>\n",
       "      <td>Performance Art</td>\n",
       "      <td>Art</td>\n",
       "      <td>150.0</td>\n",
       "      <td>173.0</td>\n",
       "      <td>successful</td>\n",
       "      <td>11</td>\n",
       "    </tr>\n",
       "    <tr>\n",
       "      <th>3</th>\n",
       "      <td>21371</td>\n",
       "      <td>Water Powered Car</td>\n",
       "      <td>Technology</td>\n",
       "      <td>Technology</td>\n",
       "      <td>75000.0</td>\n",
       "      <td>120.0</td>\n",
       "      <td>failed</td>\n",
       "      <td>4</td>\n",
       "    </tr>\n",
       "    <tr>\n",
       "      <th>4</th>\n",
       "      <td>24380</td>\n",
       "      <td>Puss N' Books: A relaxing cat cafe and bookstore.</td>\n",
       "      <td>Spaces</td>\n",
       "      <td>Food</td>\n",
       "      <td>20000.0</td>\n",
       "      <td>776.0</td>\n",
       "      <td>failed</td>\n",
       "      <td>18</td>\n",
       "    </tr>\n",
       "  </tbody>\n",
       "</table>\n",
       "</div>"
      ],
      "text/plain": [
       "      id                                               name         category  \\\n",
       "0   5971              An American Apocalypse: The Reckoning           Comics   \n",
       "1  18520                                 Grandma's are Life      World Music   \n",
       "2  21109                                               Meta  Performance Art   \n",
       "3  21371                                  Water Powered Car       Technology   \n",
       "4  24380  Puss N' Books: A relaxing cat cafe and bookstore.           Spaces   \n",
       "\n",
       "  main_category     goal  pledged       state  backers  \n",
       "0        Comics  48000.0    376.0      failed        7  \n",
       "1         Music  15000.0     62.0      failed        4  \n",
       "2           Art    150.0    173.0  successful       11  \n",
       "3    Technology  75000.0    120.0      failed        4  \n",
       "4          Food  20000.0    776.0      failed       18  "
      ]
     },
     "metadata": {},
     "output_type": "display_data"
    }
   ],
   "source": [
    "# since the dataset is already pre-loaded, to have it run here I am going to pre-load it in using the below script\n",
    "\n",
    "import pandas as pd\n",
    "import sqlite3\n",
    "from IPython.display import display\n",
    "\n",
    "# File path to the CSV\n",
    "csv_path = \"D:/GitHub/important-reference-repo/Data/ks-projects-201612.csv\"\n",
    "\n",
    "try:\n",
    "    # 1. Read the CSV with correct encoding and handle trailing spaces\n",
    "    df = pd.read_csv(\n",
    "        csv_path,\n",
    "        encoding='windows-1252',\n",
    "        skipinitialspace=True  # This handles trailing/leading spaces in column names\n",
    "    )\n",
    "    \n",
    "    # Clean column names by stripping whitespace\n",
    "    df.columns = df.columns.str.strip()\n",
    "    print(\"Cleaned column names:\", list(df.columns))\n",
    "    \n",
    "    # 2. Select and rename the columns you want\n",
    "    column_mapping = {\n",
    "        'ID': 'id',\n",
    "        'name': 'name',\n",
    "        'category': 'category',\n",
    "        'main_category': 'main_category',\n",
    "        'goal': 'goal',\n",
    "        'pledged': 'pledged',\n",
    "        'state': 'state',\n",
    "        'backers': 'backers'\n",
    "    }\n",
    "    \n",
    "    # Keep only the columns we want and rename them\n",
    "    df = df[list(column_mapping.keys())].rename(columns=column_mapping)\n",
    "    \n",
    "    print(\"\\nFirst 3 rows of selected data:\")\n",
    "    display(df.head(3))\n",
    "    \n",
    "    # 3. Create SQLite database\n",
    "    db_path = \"ksprojects.db\"\n",
    "    conn = sqlite3.connect(db_path)\n",
    "    \n",
    "    # Define SQL data types\n",
    "    dtype_mapping = {\n",
    "        'id': 'INTEGER PRIMARY KEY',\n",
    "        'name': 'TEXT',\n",
    "        'category': 'TEXT',\n",
    "        'main_category': 'TEXT',\n",
    "        'goal': 'REAL',\n",
    "        'pledged': 'REAL',\n",
    "        'state': 'TEXT',\n",
    "        'backers': 'INTEGER'\n",
    "    }\n",
    "    \n",
    "    # Create table\n",
    "    df.to_sql(\n",
    "        'ksprojects',\n",
    "        conn,\n",
    "        if_exists='replace',\n",
    "        index=False,\n",
    "        dtype=dtype_mapping\n",
    "    )\n",
    "    \n",
    "    print(f\"\\n✅ Successfully created SQLite database at: {db_path}\")\n",
    "    print(\"\\nTable structure:\")\n",
    "    display(pd.read_sql(\"PRAGMA table_info(ksprojects);\", conn))\n",
    "    \n",
    "except Exception as e:\n",
    "    print(f\"\\n❌ Error: {str(e)}\")\n",
    "    if 'df' in locals():\n",
    "        print(\"\\nPartial data loaded:\")\n",
    "        display(df.head(3))\n",
    "finally:\n",
    "    if 'conn' in locals():\n",
    "        conn.close()\n",
    "\n",
    "# Verification function\n",
    "def query_db(query=\"SELECT * FROM ksprojects LIMIT 5\"):\n",
    "    with sqlite3.connect(db_path) as conn:\n",
    "        return pd.read_sql(query, conn)\n",
    "\n",
    "# Test the database\n",
    "print(\"\\nTesting database query...\")\n",
    "display(query_db())"
   ]
  },
  {
   "cell_type": "code",
   "execution_count": 13,
   "id": "5389fab4",
   "metadata": {},
   "outputs": [
    {
     "name": "stdout",
     "output_type": "stream",
     "text": [
      "Requirement already satisfied: ipython-sql in e:\\python\\python311\\lib\\site-packages (0.5.0)\n",
      "Requirement already satisfied: prettytable in e:\\python\\python311\\lib\\site-packages (from ipython-sql) (3.16.0)\n",
      "Requirement already satisfied: ipython in c:\\users\\carol\\appdata\\roaming\\python\\python311\\site-packages (from ipython-sql) (8.32.0)\n",
      "Requirement already satisfied: sqlalchemy>=2.0 in e:\\python\\python311\\lib\\site-packages (from ipython-sql) (2.0.41)\n",
      "Requirement already satisfied: sqlparse in e:\\python\\python311\\lib\\site-packages (from ipython-sql) (0.5.3)\n",
      "Requirement already satisfied: six in e:\\python\\python311\\lib\\site-packages (from ipython-sql) (1.17.0)\n",
      "Requirement already satisfied: ipython-genutils in e:\\python\\python311\\lib\\site-packages (from ipython-sql) (0.2.0)\n",
      "Requirement already satisfied: greenlet>=1 in e:\\python\\python311\\lib\\site-packages (from sqlalchemy>=2.0->ipython-sql) (3.2.3)\n",
      "Requirement already satisfied: typing-extensions>=4.6.0 in e:\\python\\python311\\lib\\site-packages (from sqlalchemy>=2.0->ipython-sql) (4.12.2)\n",
      "Requirement already satisfied: colorama in e:\\python\\python311\\lib\\site-packages (from ipython->ipython-sql) (0.4.6)\n",
      "Requirement already satisfied: decorator in c:\\users\\carol\\appdata\\roaming\\python\\python311\\site-packages (from ipython->ipython-sql) (5.1.1)\n",
      "Requirement already satisfied: jedi>=0.16 in c:\\users\\carol\\appdata\\roaming\\python\\python311\\site-packages (from ipython->ipython-sql) (0.19.2)\n",
      "Requirement already satisfied: matplotlib-inline in c:\\users\\carol\\appdata\\roaming\\python\\python311\\site-packages (from ipython->ipython-sql) (0.1.7)\n",
      "Requirement already satisfied: prompt_toolkit<3.1.0,>=3.0.41 in c:\\users\\carol\\appdata\\roaming\\python\\python311\\site-packages (from ipython->ipython-sql) (3.0.50)\n",
      "Requirement already satisfied: pygments>=2.4.0 in c:\\users\\carol\\appdata\\roaming\\python\\python311\\site-packages (from ipython->ipython-sql) (2.19.1)\n",
      "Requirement already satisfied: stack_data in c:\\users\\carol\\appdata\\roaming\\python\\python311\\site-packages (from ipython->ipython-sql) (0.6.3)\n",
      "Requirement already satisfied: traitlets>=5.13.0 in c:\\users\\carol\\appdata\\roaming\\python\\python311\\site-packages (from ipython->ipython-sql) (5.14.3)\n",
      "Requirement already satisfied: wcwidth in c:\\users\\carol\\appdata\\roaming\\python\\python311\\site-packages (from prettytable->ipython-sql) (0.2.13)\n",
      "Requirement already satisfied: parso<0.9.0,>=0.8.4 in c:\\users\\carol\\appdata\\roaming\\python\\python311\\site-packages (from jedi>=0.16->ipython->ipython-sql) (0.8.4)\n",
      "Requirement already satisfied: executing>=1.2.0 in c:\\users\\carol\\appdata\\roaming\\python\\python311\\site-packages (from stack_data->ipython->ipython-sql) (2.2.0)\n",
      "Requirement already satisfied: asttokens>=2.1.0 in c:\\users\\carol\\appdata\\roaming\\python\\python311\\site-packages (from stack_data->ipython->ipython-sql) (3.0.0)\n",
      "Requirement already satisfied: pure-eval in c:\\users\\carol\\appdata\\roaming\\python\\python311\\site-packages (from stack_data->ipython->ipython-sql) (0.2.3)\n"
     ]
    },
    {
     "name": "stderr",
     "output_type": "stream",
     "text": [
      "\n",
      "[notice] A new release of pip is available: 25.0.1 -> 25.1.1\n",
      "[notice] To update, run: python.exe -m pip install --upgrade pip\n"
     ]
    },
    {
     "name": "stdout",
     "output_type": "stream",
     "text": [
      "Requirement already satisfied: ipython-sql in e:\\python\\python311\\lib\\site-packages (0.5.0)\n",
      "Requirement already satisfied: prettytable in e:\\python\\python311\\lib\\site-packages (from ipython-sql) (3.16.0)\n",
      "Requirement already satisfied: ipython in c:\\users\\carol\\appdata\\roaming\\python\\python311\\site-packages (from ipython-sql) (8.32.0)\n",
      "Requirement already satisfied: sqlalchemy>=2.0 in e:\\python\\python311\\lib\\site-packages (from ipython-sql) (2.0.41)\n",
      "Requirement already satisfied: sqlparse in e:\\python\\python311\\lib\\site-packages (from ipython-sql) (0.5.3)\n",
      "Requirement already satisfied: six in e:\\python\\python311\\lib\\site-packages (from ipython-sql) (1.17.0)\n",
      "Requirement already satisfied: ipython-genutils in e:\\python\\python311\\lib\\site-packages (from ipython-sql) (0.2.0)\n",
      "Requirement already satisfied: greenlet>=1 in e:\\python\\python311\\lib\\site-packages (from sqlalchemy>=2.0->ipython-sql) (3.2.3)\n",
      "Requirement already satisfied: typing-extensions>=4.6.0 in e:\\python\\python311\\lib\\site-packages (from sqlalchemy>=2.0->ipython-sql) (4.12.2)\n",
      "Requirement already satisfied: colorama in e:\\python\\python311\\lib\\site-packages (from ipython->ipython-sql) (0.4.6)\n",
      "Requirement already satisfied: decorator in c:\\users\\carol\\appdata\\roaming\\python\\python311\\site-packages (from ipython->ipython-sql) (5.1.1)\n",
      "Requirement already satisfied: jedi>=0.16 in c:\\users\\carol\\appdata\\roaming\\python\\python311\\site-packages (from ipython->ipython-sql) (0.19.2)\n",
      "Requirement already satisfied: matplotlib-inline in c:\\users\\carol\\appdata\\roaming\\python\\python311\\site-packages (from ipython->ipython-sql) (0.1.7)\n",
      "Requirement already satisfied: prompt_toolkit<3.1.0,>=3.0.41 in c:\\users\\carol\\appdata\\roaming\\python\\python311\\site-packages (from ipython->ipython-sql) (3.0.50)\n",
      "Requirement already satisfied: pygments>=2.4.0 in c:\\users\\carol\\appdata\\roaming\\python\\python311\\site-packages (from ipython->ipython-sql) (2.19.1)\n",
      "Requirement already satisfied: stack_data in c:\\users\\carol\\appdata\\roaming\\python\\python311\\site-packages (from ipython->ipython-sql) (0.6.3)\n",
      "Requirement already satisfied: traitlets>=5.13.0 in c:\\users\\carol\\appdata\\roaming\\python\\python311\\site-packages (from ipython->ipython-sql) (5.14.3)\n",
      "Requirement already satisfied: wcwidth in c:\\users\\carol\\appdata\\roaming\\python\\python311\\site-packages (from prettytable->ipython-sql) (0.2.13)\n",
      "Requirement already satisfied: parso<0.9.0,>=0.8.4 in c:\\users\\carol\\appdata\\roaming\\python\\python311\\site-packages (from jedi>=0.16->ipython->ipython-sql) (0.8.4)\n",
      "Requirement already satisfied: executing>=1.2.0 in c:\\users\\carol\\appdata\\roaming\\python\\python311\\site-packages (from stack_data->ipython->ipython-sql) (2.2.0)\n",
      "Requirement already satisfied: asttokens>=2.1.0 in c:\\users\\carol\\appdata\\roaming\\python\\python311\\site-packages (from stack_data->ipython->ipython-sql) (3.0.0)\n",
      "Requirement already satisfied: pure-eval in c:\\users\\carol\\appdata\\roaming\\python\\python311\\site-packages (from stack_data->ipython->ipython-sql) (0.2.3)\n",
      "The sql extension is already loaded. To reload it, use:\n",
      "  %reload_ext sql\n"
     ]
    },
    {
     "name": "stderr",
     "output_type": "stream",
     "text": [
      "\n",
      "[notice] A new release of pip is available: 25.0.1 -> 25.1.1\n",
      "[notice] To update, run: python.exe -m pip install --upgrade pip\n"
     ]
    }
   ],
   "source": [
    "# Install the ipython-sql package if you haven't already\n",
    "!pip install ipython-sql\n",
    "!pip3 install ipython-sql\n",
    "# Load the SQL extension\n",
    "%load_ext sql"
   ]
  },
  {
   "cell_type": "code",
   "execution_count": 14,
   "id": "4685c4a6",
   "metadata": {},
   "outputs": [
    {
     "name": "stdout",
     "output_type": "stream",
     "text": [
      "Requirement already satisfied: prettytable in e:\\python\\python311\\lib\\site-packages (3.16.0)\n",
      "Requirement already satisfied: wcwidth in c:\\users\\carol\\appdata\\roaming\\python\\python311\\site-packages (from prettytable) (0.2.13)\n"
     ]
    },
    {
     "name": "stderr",
     "output_type": "stream",
     "text": [
      "\n",
      "[notice] A new release of pip is available: 25.0.1 -> 25.1.1\n",
      "[notice] To update, run: python.exe -m pip install --upgrade pip\n"
     ]
    },
    {
     "name": "stdout",
     "output_type": "stream",
     "text": [
      "Requirement already satisfied: ipython-sql in e:\\python\\python311\\lib\\site-packages (0.5.0)\n",
      "Requirement already satisfied: prettytable in e:\\python\\python311\\lib\\site-packages (from ipython-sql) (3.16.0)\n",
      "Requirement already satisfied: ipython in c:\\users\\carol\\appdata\\roaming\\python\\python311\\site-packages (from ipython-sql) (8.32.0)\n",
      "Requirement already satisfied: sqlalchemy>=2.0 in e:\\python\\python311\\lib\\site-packages (from ipython-sql) (2.0.41)\n",
      "Requirement already satisfied: sqlparse in e:\\python\\python311\\lib\\site-packages (from ipython-sql) (0.5.3)\n",
      "Requirement already satisfied: six in e:\\python\\python311\\lib\\site-packages (from ipython-sql) (1.17.0)\n",
      "Requirement already satisfied: ipython-genutils in e:\\python\\python311\\lib\\site-packages (from ipython-sql) (0.2.0)\n",
      "Requirement already satisfied: greenlet>=1 in e:\\python\\python311\\lib\\site-packages (from sqlalchemy>=2.0->ipython-sql) (3.2.3)\n",
      "Requirement already satisfied: typing-extensions>=4.6.0 in e:\\python\\python311\\lib\\site-packages (from sqlalchemy>=2.0->ipython-sql) (4.12.2)\n",
      "Requirement already satisfied: colorama in e:\\python\\python311\\lib\\site-packages (from ipython->ipython-sql) (0.4.6)\n",
      "Requirement already satisfied: decorator in c:\\users\\carol\\appdata\\roaming\\python\\python311\\site-packages (from ipython->ipython-sql) (5.1.1)\n",
      "Requirement already satisfied: jedi>=0.16 in c:\\users\\carol\\appdata\\roaming\\python\\python311\\site-packages (from ipython->ipython-sql) (0.19.2)\n",
      "Requirement already satisfied: matplotlib-inline in c:\\users\\carol\\appdata\\roaming\\python\\python311\\site-packages (from ipython->ipython-sql) (0.1.7)\n",
      "Requirement already satisfied: prompt_toolkit<3.1.0,>=3.0.41 in c:\\users\\carol\\appdata\\roaming\\python\\python311\\site-packages (from ipython->ipython-sql) (3.0.50)\n",
      "Requirement already satisfied: pygments>=2.4.0 in c:\\users\\carol\\appdata\\roaming\\python\\python311\\site-packages (from ipython->ipython-sql) (2.19.1)\n",
      "Requirement already satisfied: stack_data in c:\\users\\carol\\appdata\\roaming\\python\\python311\\site-packages (from ipython->ipython-sql) (0.6.3)\n",
      "Requirement already satisfied: traitlets>=5.13.0 in c:\\users\\carol\\appdata\\roaming\\python\\python311\\site-packages (from ipython->ipython-sql) (5.14.3)\n",
      "Requirement already satisfied: wcwidth in c:\\users\\carol\\appdata\\roaming\\python\\python311\\site-packages (from prettytable->ipython-sql) (0.2.13)\n",
      "Requirement already satisfied: parso<0.9.0,>=0.8.4 in c:\\users\\carol\\appdata\\roaming\\python\\python311\\site-packages (from jedi>=0.16->ipython->ipython-sql) (0.8.4)\n",
      "Requirement already satisfied: executing>=1.2.0 in c:\\users\\carol\\appdata\\roaming\\python\\python311\\site-packages (from stack_data->ipython->ipython-sql) (2.2.0)\n",
      "Requirement already satisfied: asttokens>=2.1.0 in c:\\users\\carol\\appdata\\roaming\\python\\python311\\site-packages (from stack_data->ipython->ipython-sql) (3.0.0)\n",
      "Requirement already satisfied: pure-eval in c:\\users\\carol\\appdata\\roaming\\python\\python311\\site-packages (from stack_data->ipython->ipython-sql) (0.2.3)\n"
     ]
    },
    {
     "name": "stderr",
     "output_type": "stream",
     "text": [
      "\n",
      "[notice] A new release of pip is available: 25.0.1 -> 25.1.1\n",
      "[notice] To update, run: python.exe -m pip install --upgrade pip\n"
     ]
    }
   ],
   "source": [
    "# First, let's fix the prettytable configuration\n",
    "!pip install --upgrade prettytable\n",
    "!pip install --upgrade ipython-sql\n",
    "\n",
    "# Then restart your notebook kernel (Kernel -> Restart Kernel)"
   ]
  },
  {
   "cell_type": "code",
   "execution_count": 15,
   "id": "42ca8a6e",
   "metadata": {},
   "outputs": [
    {
     "name": "stdout",
     "output_type": "stream",
     "text": [
      "The sql extension is already loaded. To reload it, use:\n",
      "  %reload_ext sql\n"
     ]
    }
   ],
   "source": [
    "# Connect to your SQLite database\n",
    "%load_ext sql\n",
    "%sql sqlite:///ksprojects.db"
   ]
  },
  {
   "cell_type": "code",
   "execution_count": 16,
   "id": "705fb7bb",
   "metadata": {},
   "outputs": [
    {
     "data": {
      "application/vnd.microsoft.datawrangler.viewer.v0+json": {
       "columns": [
        {
         "name": "index",
         "rawType": "int64",
         "type": "integer"
        },
        {
         "name": "category",
         "rawType": "object",
         "type": "string"
        },
        {
         "name": "total_projects",
         "rawType": "int64",
         "type": "integer"
        },
        {
         "name": "successful",
         "rawType": "int64",
         "type": "integer"
        }
       ],
       "ref": "9ab41c02-0ad5-43c6-a639-2ae5c7b6408f",
       "rows": [
        [
         "0",
         "Shorts",
         "11681",
         "6315"
        ],
        [
         "1",
         "Product Design",
         "17477",
         "5919"
        ],
        [
         "2",
         "Tabletop Games",
         "10708",
         "5731"
        ],
        [
         "3",
         "Music",
         "13907",
         "5559"
        ],
        [
         "4",
         "Documentary",
         "14891",
         "5454"
        ],
        [
         "5",
         "Theater",
         "6833",
         "4269"
        ],
        [
         "6",
         "Indie Rock",
         "5372",
         "3438"
        ],
        [
         "7",
         "Rock",
         "6345",
         "3275"
        ],
        [
         "8",
         "Food",
         "10533",
         "3094"
        ],
        [
         "9",
         "Art",
         "6894",
         "2784"
        ]
       ],
       "shape": {
        "columns": 3,
        "rows": 10
       }
      },
      "text/html": [
       "<div>\n",
       "<style scoped>\n",
       "    .dataframe tbody tr th:only-of-type {\n",
       "        vertical-align: middle;\n",
       "    }\n",
       "\n",
       "    .dataframe tbody tr th {\n",
       "        vertical-align: top;\n",
       "    }\n",
       "\n",
       "    .dataframe thead th {\n",
       "        text-align: right;\n",
       "    }\n",
       "</style>\n",
       "<table border=\"1\" class=\"dataframe\">\n",
       "  <thead>\n",
       "    <tr style=\"text-align: right;\">\n",
       "      <th></th>\n",
       "      <th>category</th>\n",
       "      <th>total_projects</th>\n",
       "      <th>successful</th>\n",
       "    </tr>\n",
       "  </thead>\n",
       "  <tbody>\n",
       "    <tr>\n",
       "      <th>0</th>\n",
       "      <td>Shorts</td>\n",
       "      <td>11681</td>\n",
       "      <td>6315</td>\n",
       "    </tr>\n",
       "    <tr>\n",
       "      <th>1</th>\n",
       "      <td>Product Design</td>\n",
       "      <td>17477</td>\n",
       "      <td>5919</td>\n",
       "    </tr>\n",
       "    <tr>\n",
       "      <th>2</th>\n",
       "      <td>Tabletop Games</td>\n",
       "      <td>10708</td>\n",
       "      <td>5731</td>\n",
       "    </tr>\n",
       "    <tr>\n",
       "      <th>3</th>\n",
       "      <td>Music</td>\n",
       "      <td>13907</td>\n",
       "      <td>5559</td>\n",
       "    </tr>\n",
       "    <tr>\n",
       "      <th>4</th>\n",
       "      <td>Documentary</td>\n",
       "      <td>14891</td>\n",
       "      <td>5454</td>\n",
       "    </tr>\n",
       "    <tr>\n",
       "      <th>5</th>\n",
       "      <td>Theater</td>\n",
       "      <td>6833</td>\n",
       "      <td>4269</td>\n",
       "    </tr>\n",
       "    <tr>\n",
       "      <th>6</th>\n",
       "      <td>Indie Rock</td>\n",
       "      <td>5372</td>\n",
       "      <td>3438</td>\n",
       "    </tr>\n",
       "    <tr>\n",
       "      <th>7</th>\n",
       "      <td>Rock</td>\n",
       "      <td>6345</td>\n",
       "      <td>3275</td>\n",
       "    </tr>\n",
       "    <tr>\n",
       "      <th>8</th>\n",
       "      <td>Food</td>\n",
       "      <td>10533</td>\n",
       "      <td>3094</td>\n",
       "    </tr>\n",
       "    <tr>\n",
       "      <th>9</th>\n",
       "      <td>Art</td>\n",
       "      <td>6894</td>\n",
       "      <td>2784</td>\n",
       "    </tr>\n",
       "  </tbody>\n",
       "</table>\n",
       "</div>"
      ],
      "text/plain": [
       "         category  total_projects  successful\n",
       "0          Shorts           11681        6315\n",
       "1  Product Design           17477        5919\n",
       "2  Tabletop Games           10708        5731\n",
       "3           Music           13907        5559\n",
       "4     Documentary           14891        5454\n",
       "5         Theater            6833        4269\n",
       "6      Indie Rock            5372        3438\n",
       "7            Rock            6345        3275\n",
       "8            Food           10533        3094\n",
       "9             Art            6894        2784"
      ]
     },
     "execution_count": 16,
     "metadata": {},
     "output_type": "execute_result"
    }
   ],
   "source": [
    "import sqlite3\n",
    "from IPython.display import display\n",
    "import pandas as pd\n",
    "\n",
    "# Connect to the database\n",
    "conn = sqlite3.connect('ksprojects.db')\n",
    "\n",
    "# Safely handle database connections\n",
    "def sql_query(query):\n",
    "    with sqlite3.connect('ksprojects.db') as conn:\n",
    "        df = pd.read_sql(query, conn)\n",
    "        # display(df) # it was showing the query results as duplicates by including this too\n",
    "        return df\n",
    "\n",
    "# Example usage:\n",
    "sql_query(\"\"\"\n",
    "SELECT \n",
    "    category,\n",
    "    COUNT(*) as total_projects,\n",
    "    SUM(CASE WHEN state = 'successful' THEN 1 ELSE 0 END) as successful\n",
    "FROM ksprojects\n",
    "GROUP BY category\n",
    "ORDER BY successful DESC\n",
    "LIMIT 10;\n",
    "\"\"\")"
   ]
  },
  {
   "cell_type": "markdown",
   "id": "6c40a7fd",
   "metadata": {},
   "source": [
    "# Instructions\n",
    "This database consists of one table, `ksprojects`.\n",
    "\n",
    "1. List the column names and data types for the ksprojects table in the database using `PRAGMA table_info`"
   ]
  },
  {
   "cell_type": "code",
   "execution_count": 17,
   "id": "fa1fb692",
   "metadata": {},
   "outputs": [
    {
     "data": {
      "application/vnd.microsoft.datawrangler.viewer.v0+json": {
       "columns": [
        {
         "name": "index",
         "rawType": "int64",
         "type": "integer"
        },
        {
         "name": "cid",
         "rawType": "int64",
         "type": "integer"
        },
        {
         "name": "name",
         "rawType": "object",
         "type": "string"
        },
        {
         "name": "type",
         "rawType": "object",
         "type": "string"
        },
        {
         "name": "notnull",
         "rawType": "int64",
         "type": "integer"
        },
        {
         "name": "dflt_value",
         "rawType": "object",
         "type": "unknown"
        },
        {
         "name": "pk",
         "rawType": "int64",
         "type": "integer"
        }
       ],
       "ref": "6d060a09-bd7d-4b12-a795-178e0941920d",
       "rows": [
        [
         "0",
         "0",
         "id",
         "INTEGER",
         "0",
         null,
         "1"
        ],
        [
         "1",
         "1",
         "name",
         "TEXT",
         "0",
         null,
         "0"
        ],
        [
         "2",
         "2",
         "category",
         "TEXT",
         "0",
         null,
         "0"
        ],
        [
         "3",
         "3",
         "main_category",
         "TEXT",
         "0",
         null,
         "0"
        ],
        [
         "4",
         "4",
         "goal",
         "REAL",
         "0",
         null,
         "0"
        ],
        [
         "5",
         "5",
         "pledged",
         "REAL",
         "0",
         null,
         "0"
        ],
        [
         "6",
         "6",
         "state",
         "TEXT",
         "0",
         null,
         "0"
        ],
        [
         "7",
         "7",
         "backers",
         "INTEGER",
         "0",
         null,
         "0"
        ]
       ],
       "shape": {
        "columns": 6,
        "rows": 8
       }
      },
      "text/html": [
       "<div>\n",
       "<style scoped>\n",
       "    .dataframe tbody tr th:only-of-type {\n",
       "        vertical-align: middle;\n",
       "    }\n",
       "\n",
       "    .dataframe tbody tr th {\n",
       "        vertical-align: top;\n",
       "    }\n",
       "\n",
       "    .dataframe thead th {\n",
       "        text-align: right;\n",
       "    }\n",
       "</style>\n",
       "<table border=\"1\" class=\"dataframe\">\n",
       "  <thead>\n",
       "    <tr style=\"text-align: right;\">\n",
       "      <th></th>\n",
       "      <th>cid</th>\n",
       "      <th>name</th>\n",
       "      <th>type</th>\n",
       "      <th>notnull</th>\n",
       "      <th>dflt_value</th>\n",
       "      <th>pk</th>\n",
       "    </tr>\n",
       "  </thead>\n",
       "  <tbody>\n",
       "    <tr>\n",
       "      <th>0</th>\n",
       "      <td>0</td>\n",
       "      <td>id</td>\n",
       "      <td>INTEGER</td>\n",
       "      <td>0</td>\n",
       "      <td>None</td>\n",
       "      <td>1</td>\n",
       "    </tr>\n",
       "    <tr>\n",
       "      <th>1</th>\n",
       "      <td>1</td>\n",
       "      <td>name</td>\n",
       "      <td>TEXT</td>\n",
       "      <td>0</td>\n",
       "      <td>None</td>\n",
       "      <td>0</td>\n",
       "    </tr>\n",
       "    <tr>\n",
       "      <th>2</th>\n",
       "      <td>2</td>\n",
       "      <td>category</td>\n",
       "      <td>TEXT</td>\n",
       "      <td>0</td>\n",
       "      <td>None</td>\n",
       "      <td>0</td>\n",
       "    </tr>\n",
       "    <tr>\n",
       "      <th>3</th>\n",
       "      <td>3</td>\n",
       "      <td>main_category</td>\n",
       "      <td>TEXT</td>\n",
       "      <td>0</td>\n",
       "      <td>None</td>\n",
       "      <td>0</td>\n",
       "    </tr>\n",
       "    <tr>\n",
       "      <th>4</th>\n",
       "      <td>4</td>\n",
       "      <td>goal</td>\n",
       "      <td>REAL</td>\n",
       "      <td>0</td>\n",
       "      <td>None</td>\n",
       "      <td>0</td>\n",
       "    </tr>\n",
       "    <tr>\n",
       "      <th>5</th>\n",
       "      <td>5</td>\n",
       "      <td>pledged</td>\n",
       "      <td>REAL</td>\n",
       "      <td>0</td>\n",
       "      <td>None</td>\n",
       "      <td>0</td>\n",
       "    </tr>\n",
       "    <tr>\n",
       "      <th>6</th>\n",
       "      <td>6</td>\n",
       "      <td>state</td>\n",
       "      <td>TEXT</td>\n",
       "      <td>0</td>\n",
       "      <td>None</td>\n",
       "      <td>0</td>\n",
       "    </tr>\n",
       "    <tr>\n",
       "      <th>7</th>\n",
       "      <td>7</td>\n",
       "      <td>backers</td>\n",
       "      <td>INTEGER</td>\n",
       "      <td>0</td>\n",
       "      <td>None</td>\n",
       "      <td>0</td>\n",
       "    </tr>\n",
       "  </tbody>\n",
       "</table>\n",
       "</div>"
      ],
      "text/plain": [
       "   cid           name     type  notnull dflt_value  pk\n",
       "0    0             id  INTEGER        0       None   1\n",
       "1    1           name     TEXT        0       None   0\n",
       "2    2       category     TEXT        0       None   0\n",
       "3    3  main_category     TEXT        0       None   0\n",
       "4    4           goal     REAL        0       None   0\n",
       "5    5        pledged     REAL        0       None   0\n",
       "6    6          state     TEXT        0       None   0\n",
       "7    7        backers  INTEGER        0       None   0"
      ]
     },
     "execution_count": 17,
     "metadata": {},
     "output_type": "execute_result"
    }
   ],
   "source": [
    "sql_query(\"\"\"\n",
    "PRAGMA table_info(ksprojects)\n",
    "\"\"\")"
   ]
  },
  {
   "cell_type": "markdown",
   "id": "6bdbdcb8",
   "metadata": {},
   "source": [
    "# Initial Selection of Rows and Columns\n",
    "We are now going to begin constructing a query with several components. Each screen of this project will guide you through another piece, until you have the final query.\n",
    "\n",
    "To start, even a database with one table likely contains data that's not necessary to our analysis. In this step, we'll specify which columns to read from the table.\n",
    "\n",
    "## Instructions\n",
    "1. Pull the relevant columns from the `ksprojects` table that will allow us to assess a project's result based on its main category, amount of money set as a goal, number of backers, and amount of money pledged. Return just the first 10 rows.\n"
   ]
  },
  {
   "cell_type": "code",
   "execution_count": 18,
   "id": "13015234",
   "metadata": {},
   "outputs": [
    {
     "data": {
      "application/vnd.microsoft.datawrangler.viewer.v0+json": {
       "columns": [
        {
         "name": "index",
         "rawType": "int64",
         "type": "integer"
        },
        {
         "name": "Main Category",
         "rawType": "object",
         "type": "string"
        },
        {
         "name": "Amount of Money Set as Goal",
         "rawType": "float64",
         "type": "float"
        },
        {
         "name": "Number of Backers",
         "rawType": "int64",
         "type": "integer"
        },
        {
         "name": "Amount of Money Pledged",
         "rawType": "float64",
         "type": "float"
        }
       ],
       "ref": "3d616448-fa9f-4c3e-9508-b56996566933",
       "rows": [
        [
         "0",
         "Comics",
         "48000.0",
         "7",
         "376.0"
        ],
        [
         "1",
         "Music",
         "15000.0",
         "4",
         "62.0"
        ],
        [
         "2",
         "Art",
         "150.0",
         "11",
         "173.0"
        ],
        [
         "3",
         "Technology",
         "75000.0",
         "4",
         "120.0"
        ],
        [
         "4",
         "Food",
         "20000.0",
         "18",
         "776.0"
        ],
        [
         "5",
         "Fashion",
         "18000.0",
         "42",
         "2798.0"
        ],
        [
         "6",
         "Food",
         "2500.0",
         "68",
         "3239.0"
        ],
        [
         "7",
         "Film & Video",
         "10500.0",
         "66",
         "11545.0"
        ],
        [
         "8",
         "Art",
         "20000.0",
         "171",
         "21563.0"
        ],
        [
         "9",
         "Film & Video",
         "25000.0",
         "505",
         "66237.0"
        ]
       ],
       "shape": {
        "columns": 4,
        "rows": 10
       }
      },
      "text/html": [
       "<div>\n",
       "<style scoped>\n",
       "    .dataframe tbody tr th:only-of-type {\n",
       "        vertical-align: middle;\n",
       "    }\n",
       "\n",
       "    .dataframe tbody tr th {\n",
       "        vertical-align: top;\n",
       "    }\n",
       "\n",
       "    .dataframe thead th {\n",
       "        text-align: right;\n",
       "    }\n",
       "</style>\n",
       "<table border=\"1\" class=\"dataframe\">\n",
       "  <thead>\n",
       "    <tr style=\"text-align: right;\">\n",
       "      <th></th>\n",
       "      <th>Main Category</th>\n",
       "      <th>Amount of Money Set as Goal</th>\n",
       "      <th>Number of Backers</th>\n",
       "      <th>Amount of Money Pledged</th>\n",
       "    </tr>\n",
       "  </thead>\n",
       "  <tbody>\n",
       "    <tr>\n",
       "      <th>0</th>\n",
       "      <td>Comics</td>\n",
       "      <td>48000.0</td>\n",
       "      <td>7</td>\n",
       "      <td>376.0</td>\n",
       "    </tr>\n",
       "    <tr>\n",
       "      <th>1</th>\n",
       "      <td>Music</td>\n",
       "      <td>15000.0</td>\n",
       "      <td>4</td>\n",
       "      <td>62.0</td>\n",
       "    </tr>\n",
       "    <tr>\n",
       "      <th>2</th>\n",
       "      <td>Art</td>\n",
       "      <td>150.0</td>\n",
       "      <td>11</td>\n",
       "      <td>173.0</td>\n",
       "    </tr>\n",
       "    <tr>\n",
       "      <th>3</th>\n",
       "      <td>Technology</td>\n",
       "      <td>75000.0</td>\n",
       "      <td>4</td>\n",
       "      <td>120.0</td>\n",
       "    </tr>\n",
       "    <tr>\n",
       "      <th>4</th>\n",
       "      <td>Food</td>\n",
       "      <td>20000.0</td>\n",
       "      <td>18</td>\n",
       "      <td>776.0</td>\n",
       "    </tr>\n",
       "    <tr>\n",
       "      <th>5</th>\n",
       "      <td>Fashion</td>\n",
       "      <td>18000.0</td>\n",
       "      <td>42</td>\n",
       "      <td>2798.0</td>\n",
       "    </tr>\n",
       "    <tr>\n",
       "      <th>6</th>\n",
       "      <td>Food</td>\n",
       "      <td>2500.0</td>\n",
       "      <td>68</td>\n",
       "      <td>3239.0</td>\n",
       "    </tr>\n",
       "    <tr>\n",
       "      <th>7</th>\n",
       "      <td>Film &amp; Video</td>\n",
       "      <td>10500.0</td>\n",
       "      <td>66</td>\n",
       "      <td>11545.0</td>\n",
       "    </tr>\n",
       "    <tr>\n",
       "      <th>8</th>\n",
       "      <td>Art</td>\n",
       "      <td>20000.0</td>\n",
       "      <td>171</td>\n",
       "      <td>21563.0</td>\n",
       "    </tr>\n",
       "    <tr>\n",
       "      <th>9</th>\n",
       "      <td>Film &amp; Video</td>\n",
       "      <td>25000.0</td>\n",
       "      <td>505</td>\n",
       "      <td>66237.0</td>\n",
       "    </tr>\n",
       "  </tbody>\n",
       "</table>\n",
       "</div>"
      ],
      "text/plain": [
       "  Main Category  Amount of Money Set as Goal  Number of Backers  \\\n",
       "0        Comics                      48000.0                  7   \n",
       "1         Music                      15000.0                  4   \n",
       "2           Art                        150.0                 11   \n",
       "3    Technology                      75000.0                  4   \n",
       "4          Food                      20000.0                 18   \n",
       "5       Fashion                      18000.0                 42   \n",
       "6          Food                       2500.0                 68   \n",
       "7  Film & Video                      10500.0                 66   \n",
       "8           Art                      20000.0                171   \n",
       "9  Film & Video                      25000.0                505   \n",
       "\n",
       "   Amount of Money Pledged  \n",
       "0                    376.0  \n",
       "1                     62.0  \n",
       "2                    173.0  \n",
       "3                    120.0  \n",
       "4                    776.0  \n",
       "5                   2798.0  \n",
       "6                   3239.0  \n",
       "7                  11545.0  \n",
       "8                  21563.0  \n",
       "9                  66237.0  "
      ]
     },
     "execution_count": 18,
     "metadata": {},
     "output_type": "execute_result"
    }
   ],
   "source": [
    "sql_query(\"\"\"\n",
    "SELECT main_category AS 'Main Category',\n",
    "    goal AS 'Amount of Money Set as Goal',\n",
    "    backers AS 'Number of Backers',\n",
    "    pledged AS 'Amount of Money Pledged'\n",
    "FROM ksprojects\n",
    "LIMIT 10;\n",
    "\"\"\")"
   ]
  },
  {
   "cell_type": "markdown",
   "id": "ba0ed22b",
   "metadata": {},
   "source": [
    "# Filtering by Category\n",
    "From this point on in your project each screen will build upon the existing query. To help save time, we will provide the suggested answer code from the previous screen in the coding environment, but if you would prefer to use your own code feel free to copy and paste it!\n",
    "\n",
    "Now that you've selected the relevant columns, we'll filter the data to include only those in certain categories.\n",
    "\n",
    "Thomas Edison famously said, \"I have not failed. I've just found 10,000 ways that won't work.\" To that end, your product team would like to know more about the projects that weren't successful.\n",
    "\n",
    "## Instructions\n",
    "1. Repeat your query from the previous screen, but this time only keep the records where the project state is either `'failed'`, `'canceled'`, or `'suspended'`."
   ]
  },
  {
   "cell_type": "code",
   "execution_count": 19,
   "id": "5e5beb2b",
   "metadata": {},
   "outputs": [
    {
     "data": {
      "application/vnd.microsoft.datawrangler.viewer.v0+json": {
       "columns": [
        {
         "name": "index",
         "rawType": "int64",
         "type": "integer"
        },
        {
         "name": "main_category",
         "rawType": "object",
         "type": "string"
        },
        {
         "name": "goal",
         "rawType": "float64",
         "type": "float"
        },
        {
         "name": "backers",
         "rawType": "int64",
         "type": "integer"
        },
        {
         "name": "pledged",
         "rawType": "float64",
         "type": "float"
        }
       ],
       "ref": "55c650b7-c57b-4c0a-a793-df6197c6c703",
       "rows": [
        [
         "0",
         "Comics",
         "48000.0",
         "7",
         "376.0"
        ],
        [
         "1",
         "Music",
         "15000.0",
         "4",
         "62.0"
        ],
        [
         "2",
         "Technology",
         "75000.0",
         "4",
         "120.0"
        ],
        [
         "3",
         "Food",
         "20000.0",
         "18",
         "776.0"
        ],
        [
         "4",
         "Fashion",
         "18000.0",
         "42",
         "2798.0"
        ],
        [
         "5",
         "Art",
         "10000.0",
         "0",
         "0.0"
        ],
        [
         "6",
         "Games",
         "65000.0",
         "2",
         "11.0"
        ],
        [
         "7",
         "Film & Video",
         "5000.0",
         "3",
         "135.0"
        ],
        [
         "8",
         "Technology",
         "100000.0",
         "0",
         "0.0"
        ],
        [
         "9",
         "Music",
         "1800.0",
         "1",
         "15.0"
        ]
       ],
       "shape": {
        "columns": 4,
        "rows": 10
       }
      },
      "text/html": [
       "<div>\n",
       "<style scoped>\n",
       "    .dataframe tbody tr th:only-of-type {\n",
       "        vertical-align: middle;\n",
       "    }\n",
       "\n",
       "    .dataframe tbody tr th {\n",
       "        vertical-align: top;\n",
       "    }\n",
       "\n",
       "    .dataframe thead th {\n",
       "        text-align: right;\n",
       "    }\n",
       "</style>\n",
       "<table border=\"1\" class=\"dataframe\">\n",
       "  <thead>\n",
       "    <tr style=\"text-align: right;\">\n",
       "      <th></th>\n",
       "      <th>main_category</th>\n",
       "      <th>goal</th>\n",
       "      <th>backers</th>\n",
       "      <th>pledged</th>\n",
       "    </tr>\n",
       "  </thead>\n",
       "  <tbody>\n",
       "    <tr>\n",
       "      <th>0</th>\n",
       "      <td>Comics</td>\n",
       "      <td>48000.0</td>\n",
       "      <td>7</td>\n",
       "      <td>376.0</td>\n",
       "    </tr>\n",
       "    <tr>\n",
       "      <th>1</th>\n",
       "      <td>Music</td>\n",
       "      <td>15000.0</td>\n",
       "      <td>4</td>\n",
       "      <td>62.0</td>\n",
       "    </tr>\n",
       "    <tr>\n",
       "      <th>2</th>\n",
       "      <td>Technology</td>\n",
       "      <td>75000.0</td>\n",
       "      <td>4</td>\n",
       "      <td>120.0</td>\n",
       "    </tr>\n",
       "    <tr>\n",
       "      <th>3</th>\n",
       "      <td>Food</td>\n",
       "      <td>20000.0</td>\n",
       "      <td>18</td>\n",
       "      <td>776.0</td>\n",
       "    </tr>\n",
       "    <tr>\n",
       "      <th>4</th>\n",
       "      <td>Fashion</td>\n",
       "      <td>18000.0</td>\n",
       "      <td>42</td>\n",
       "      <td>2798.0</td>\n",
       "    </tr>\n",
       "    <tr>\n",
       "      <th>5</th>\n",
       "      <td>Art</td>\n",
       "      <td>10000.0</td>\n",
       "      <td>0</td>\n",
       "      <td>0.0</td>\n",
       "    </tr>\n",
       "    <tr>\n",
       "      <th>6</th>\n",
       "      <td>Games</td>\n",
       "      <td>65000.0</td>\n",
       "      <td>2</td>\n",
       "      <td>11.0</td>\n",
       "    </tr>\n",
       "    <tr>\n",
       "      <th>7</th>\n",
       "      <td>Film &amp; Video</td>\n",
       "      <td>5000.0</td>\n",
       "      <td>3</td>\n",
       "      <td>135.0</td>\n",
       "    </tr>\n",
       "    <tr>\n",
       "      <th>8</th>\n",
       "      <td>Technology</td>\n",
       "      <td>100000.0</td>\n",
       "      <td>0</td>\n",
       "      <td>0.0</td>\n",
       "    </tr>\n",
       "    <tr>\n",
       "      <th>9</th>\n",
       "      <td>Music</td>\n",
       "      <td>1800.0</td>\n",
       "      <td>1</td>\n",
       "      <td>15.0</td>\n",
       "    </tr>\n",
       "  </tbody>\n",
       "</table>\n",
       "</div>"
      ],
      "text/plain": [
       "  main_category      goal  backers  pledged\n",
       "0        Comics   48000.0        7    376.0\n",
       "1         Music   15000.0        4     62.0\n",
       "2    Technology   75000.0        4    120.0\n",
       "3          Food   20000.0       18    776.0\n",
       "4       Fashion   18000.0       42   2798.0\n",
       "5           Art   10000.0        0      0.0\n",
       "6         Games   65000.0        2     11.0\n",
       "7  Film & Video    5000.0        3    135.0\n",
       "8    Technology  100000.0        0      0.0\n",
       "9         Music    1800.0        1     15.0"
      ]
     },
     "execution_count": 19,
     "metadata": {},
     "output_type": "execute_result"
    }
   ],
   "source": [
    "sql_query(\"\"\"\n",
    "SELECT main_category, goal, backers, pledged\n",
    "FROM ksprojects\n",
    "WHERE state IN ('failed', 'canceled', 'suspended')\n",
    "LIMIT 10;\n",
    "\"\"\")"
   ]
  },
  {
   "cell_type": "markdown",
   "id": "dd63e312",
   "metadata": {},
   "source": [
    "# Filtering by Quantity\n",
    "\n",
    "For our analysis, we'll only want to look at projects of a certain size. This is because there are a lot of small projects in the database that aren't relevant to our analysis. Now that we've filtered our records to meet certain categories, let's also filter them to meet given quantities, too.\n",
    "\n",
    "## Instructions\n",
    "1. Expand your query from the previous screen to find which of these projects had at least 100 backers and at least $20,000 pledged."
   ]
  },
  {
   "cell_type": "code",
   "execution_count": 21,
   "id": "2dc7743f",
   "metadata": {},
   "outputs": [
    {
     "data": {
      "application/vnd.microsoft.datawrangler.viewer.v0+json": {
       "columns": [
        {
         "name": "index",
         "rawType": "int64",
         "type": "integer"
        },
        {
         "name": "name",
         "rawType": "object",
         "type": "string"
        },
        {
         "name": "main_category",
         "rawType": "object",
         "type": "string"
        },
        {
         "name": "backers",
         "rawType": "int64",
         "type": "integer"
        },
        {
         "name": "pledged",
         "rawType": "float64",
         "type": "float"
        },
        {
         "name": "goal",
         "rawType": "float64",
         "type": "float"
        },
        {
         "name": "state",
         "rawType": "object",
         "type": "string"
        }
       ],
       "ref": "40f3ae3b-b614-45a4-823d-3a972dac5ea2",
       "rows": [
        [
         "0",
         "LUCI™, Advanced Lucid Dream Inducer (Canceled)",
         "Technology",
         "2569",
         "363302.16",
         "40000.0",
         "canceled"
        ],
        [
         "1",
         "HOLHO - Hologram generator for SMARTPHONE and TABLET",
         "Design",
         "319",
         "26943.0",
         "58000.0",
         "canceled"
        ],
        [
         "2",
         "WarQuest by Glenn Drover (Canceled)",
         "Games",
         "286",
         "60583.0",
         "85000.0",
         "canceled"
        ],
        [
         "3",
         "Online Educational Gaming Ecosystem for Children",
         "Technology",
         "158",
         "62989.0",
         "100000.0",
         "failed"
        ],
        [
         "4",
         "Help John Start QuadshoX",
         "Technology",
         "218",
         "54681.0",
         "96000.0",
         "failed"
        ],
        [
         "5",
         "New Brooklyn Theater",
         "Theater",
         "510",
         "41412.01",
         "200000.0",
         "failed"
        ],
        [
         "6",
         "Yellowberry Swim - Active Swimwear for Young Girls",
         "Fashion",
         "362",
         "33553.0",
         "50000.0",
         "canceled"
        ],
        [
         "7",
         "Merry Go Round (Canceled)",
         "Games",
         "129",
         "33710.0",
         "110000.0",
         "canceled"
        ],
        [
         "8",
         "Shift: The New Generation of Drone and Controller",
         "Technology",
         "272",
         "103831.0",
         "50000.0",
         "canceled"
        ],
        [
         "9",
         "TapTap, a touch communication wristband",
         "Technology",
         "890",
         "107148.74",
         "130000.0",
         "failed"
        ]
       ],
       "shape": {
        "columns": 6,
        "rows": 10
       }
      },
      "text/html": [
       "<div>\n",
       "<style scoped>\n",
       "    .dataframe tbody tr th:only-of-type {\n",
       "        vertical-align: middle;\n",
       "    }\n",
       "\n",
       "    .dataframe tbody tr th {\n",
       "        vertical-align: top;\n",
       "    }\n",
       "\n",
       "    .dataframe thead th {\n",
       "        text-align: right;\n",
       "    }\n",
       "</style>\n",
       "<table border=\"1\" class=\"dataframe\">\n",
       "  <thead>\n",
       "    <tr style=\"text-align: right;\">\n",
       "      <th></th>\n",
       "      <th>name</th>\n",
       "      <th>main_category</th>\n",
       "      <th>backers</th>\n",
       "      <th>pledged</th>\n",
       "      <th>goal</th>\n",
       "      <th>state</th>\n",
       "    </tr>\n",
       "  </thead>\n",
       "  <tbody>\n",
       "    <tr>\n",
       "      <th>0</th>\n",
       "      <td>LUCI™, Advanced Lucid Dream Inducer (Canceled)</td>\n",
       "      <td>Technology</td>\n",
       "      <td>2569</td>\n",
       "      <td>363302.16</td>\n",
       "      <td>40000.0</td>\n",
       "      <td>canceled</td>\n",
       "    </tr>\n",
       "    <tr>\n",
       "      <th>1</th>\n",
       "      <td>HOLHO - Hologram generator for SMARTPHONE and ...</td>\n",
       "      <td>Design</td>\n",
       "      <td>319</td>\n",
       "      <td>26943.00</td>\n",
       "      <td>58000.0</td>\n",
       "      <td>canceled</td>\n",
       "    </tr>\n",
       "    <tr>\n",
       "      <th>2</th>\n",
       "      <td>WarQuest by Glenn Drover (Canceled)</td>\n",
       "      <td>Games</td>\n",
       "      <td>286</td>\n",
       "      <td>60583.00</td>\n",
       "      <td>85000.0</td>\n",
       "      <td>canceled</td>\n",
       "    </tr>\n",
       "    <tr>\n",
       "      <th>3</th>\n",
       "      <td>Online Educational Gaming Ecosystem for Children</td>\n",
       "      <td>Technology</td>\n",
       "      <td>158</td>\n",
       "      <td>62989.00</td>\n",
       "      <td>100000.0</td>\n",
       "      <td>failed</td>\n",
       "    </tr>\n",
       "    <tr>\n",
       "      <th>4</th>\n",
       "      <td>Help John Start QuadshoX</td>\n",
       "      <td>Technology</td>\n",
       "      <td>218</td>\n",
       "      <td>54681.00</td>\n",
       "      <td>96000.0</td>\n",
       "      <td>failed</td>\n",
       "    </tr>\n",
       "    <tr>\n",
       "      <th>5</th>\n",
       "      <td>New Brooklyn Theater</td>\n",
       "      <td>Theater</td>\n",
       "      <td>510</td>\n",
       "      <td>41412.01</td>\n",
       "      <td>200000.0</td>\n",
       "      <td>failed</td>\n",
       "    </tr>\n",
       "    <tr>\n",
       "      <th>6</th>\n",
       "      <td>Yellowberry Swim - Active Swimwear for Young G...</td>\n",
       "      <td>Fashion</td>\n",
       "      <td>362</td>\n",
       "      <td>33553.00</td>\n",
       "      <td>50000.0</td>\n",
       "      <td>canceled</td>\n",
       "    </tr>\n",
       "    <tr>\n",
       "      <th>7</th>\n",
       "      <td>Merry Go Round (Canceled)</td>\n",
       "      <td>Games</td>\n",
       "      <td>129</td>\n",
       "      <td>33710.00</td>\n",
       "      <td>110000.0</td>\n",
       "      <td>canceled</td>\n",
       "    </tr>\n",
       "    <tr>\n",
       "      <th>8</th>\n",
       "      <td>Shift: The New Generation of Drone and Controller</td>\n",
       "      <td>Technology</td>\n",
       "      <td>272</td>\n",
       "      <td>103831.00</td>\n",
       "      <td>50000.0</td>\n",
       "      <td>canceled</td>\n",
       "    </tr>\n",
       "    <tr>\n",
       "      <th>9</th>\n",
       "      <td>TapTap, a touch communication wristband</td>\n",
       "      <td>Technology</td>\n",
       "      <td>890</td>\n",
       "      <td>107148.74</td>\n",
       "      <td>130000.0</td>\n",
       "      <td>failed</td>\n",
       "    </tr>\n",
       "  </tbody>\n",
       "</table>\n",
       "</div>"
      ],
      "text/plain": [
       "                                                name main_category  backers  \\\n",
       "0     LUCI™, Advanced Lucid Dream Inducer (Canceled)    Technology     2569   \n",
       "1  HOLHO - Hologram generator for SMARTPHONE and ...        Design      319   \n",
       "2                WarQuest by Glenn Drover (Canceled)         Games      286   \n",
       "3   Online Educational Gaming Ecosystem for Children    Technology      158   \n",
       "4                           Help John Start QuadshoX    Technology      218   \n",
       "5                               New Brooklyn Theater       Theater      510   \n",
       "6  Yellowberry Swim - Active Swimwear for Young G...       Fashion      362   \n",
       "7                          Merry Go Round (Canceled)         Games      129   \n",
       "8  Shift: The New Generation of Drone and Controller    Technology      272   \n",
       "9            TapTap, a touch communication wristband    Technology      890   \n",
       "\n",
       "     pledged      goal     state  \n",
       "0  363302.16   40000.0  canceled  \n",
       "1   26943.00   58000.0  canceled  \n",
       "2   60583.00   85000.0  canceled  \n",
       "3   62989.00  100000.0    failed  \n",
       "4   54681.00   96000.0    failed  \n",
       "5   41412.01  200000.0    failed  \n",
       "6   33553.00   50000.0  canceled  \n",
       "7   33710.00  110000.0  canceled  \n",
       "8  103831.00   50000.0  canceled  \n",
       "9  107148.74  130000.0    failed  "
      ]
     },
     "execution_count": 21,
     "metadata": {},
     "output_type": "execute_result"
    }
   ],
   "source": [
    "sql_query(\"\"\"\n",
    "SELECT name, main_category, backers, pledged, goal, state\n",
    " FROM ksprojects\n",
    "WHERE state IN ('failed', 'canceled', 'suspended') AND\n",
    "    backers >= 100 AND\n",
    "    pledged >= 20000\n",
    "LIMIT 10;\n",
    "\"\"\")"
   ]
  },
  {
   "cell_type": "markdown",
   "id": "1bf66971",
   "metadata": {},
   "source": [
    "# Ordering Results\n",
    "In addition to selecting the relevant columns and filtering the relevant rows, sorting your results can be quite valuable in making sense of the data. In this case, the product team would like to view projects by categories, along with the percentage of the goal that was funded.\n",
    "\n",
    "## Instructions\n",
    "1. Continue building on your query from the previous screen. This time, you'll sort the results by two fields:\n",
    "- Main category sorted in ascending order.\n",
    "- A calculated field called `pct_pledged`, which divides `pledged` by `goal`. Sort this field in descending order. (Add `pct_pledged` to the `SELECT` clause, too.)\n",
    "2. Now, modify your query so that only projects in a `failed` state are returned."
   ]
  },
  {
   "cell_type": "code",
   "execution_count": 22,
   "id": "c6612657",
   "metadata": {},
   "outputs": [
    {
     "data": {
      "application/vnd.microsoft.datawrangler.viewer.v0+json": {
       "columns": [
        {
         "name": "index",
         "rawType": "int64",
         "type": "integer"
        },
        {
         "name": "main_category",
         "rawType": "object",
         "type": "string"
        },
        {
         "name": "backers",
         "rawType": "int64",
         "type": "integer"
        },
        {
         "name": "pledged",
         "rawType": "float64",
         "type": "float"
        },
        {
         "name": "goal",
         "rawType": "float64",
         "type": "float"
        },
        {
         "name": "pct_pledged",
         "rawType": "float64",
         "type": "float"
        }
       ],
       "ref": "a2408f38-14fc-4c47-bbfc-4a823da9ef2e",
       "rows": [
        [
         "0",
         "Art",
         "294",
         "52565.25",
         "60000.0",
         "0.8760875"
        ],
        [
         "1",
         "Art",
         "172",
         "21310.0",
         "25000.0",
         "0.8524"
        ],
        [
         "2",
         "Art",
         "185",
         "27630.24",
         "35000.0",
         "0.7894354285714286"
        ],
        [
         "3",
         "Art",
         "552",
         "37621.97",
         "50000.0",
         "0.7524394"
        ],
        [
         "4",
         "Art",
         "336",
         "33485.0",
         "52000.0",
         "0.6439423076923076"
        ],
        [
         "5",
         "Art",
         "130",
         "20374.99",
         "35000.0",
         "0.5821425714285715"
        ],
        [
         "6",
         "Art",
         "133",
         "54387.0",
         "100000.0",
         "0.54387"
        ],
        [
         "7",
         "Art",
         "136",
         "39206.49",
         "77777.0",
         "0.5040884837419802"
        ],
        [
         "8",
         "Art",
         "257",
         "50230.0",
         "100000.0",
         "0.5023"
        ],
        [
         "9",
         "Art",
         "115",
         "27413.0",
         "80000.0",
         "0.3426625"
        ]
       ],
       "shape": {
        "columns": 5,
        "rows": 10
       }
      },
      "text/html": [
       "<div>\n",
       "<style scoped>\n",
       "    .dataframe tbody tr th:only-of-type {\n",
       "        vertical-align: middle;\n",
       "    }\n",
       "\n",
       "    .dataframe tbody tr th {\n",
       "        vertical-align: top;\n",
       "    }\n",
       "\n",
       "    .dataframe thead th {\n",
       "        text-align: right;\n",
       "    }\n",
       "</style>\n",
       "<table border=\"1\" class=\"dataframe\">\n",
       "  <thead>\n",
       "    <tr style=\"text-align: right;\">\n",
       "      <th></th>\n",
       "      <th>main_category</th>\n",
       "      <th>backers</th>\n",
       "      <th>pledged</th>\n",
       "      <th>goal</th>\n",
       "      <th>pct_pledged</th>\n",
       "    </tr>\n",
       "  </thead>\n",
       "  <tbody>\n",
       "    <tr>\n",
       "      <th>0</th>\n",
       "      <td>Art</td>\n",
       "      <td>294</td>\n",
       "      <td>52565.25</td>\n",
       "      <td>60000.0</td>\n",
       "      <td>0.876088</td>\n",
       "    </tr>\n",
       "    <tr>\n",
       "      <th>1</th>\n",
       "      <td>Art</td>\n",
       "      <td>172</td>\n",
       "      <td>21310.00</td>\n",
       "      <td>25000.0</td>\n",
       "      <td>0.852400</td>\n",
       "    </tr>\n",
       "    <tr>\n",
       "      <th>2</th>\n",
       "      <td>Art</td>\n",
       "      <td>185</td>\n",
       "      <td>27630.24</td>\n",
       "      <td>35000.0</td>\n",
       "      <td>0.789435</td>\n",
       "    </tr>\n",
       "    <tr>\n",
       "      <th>3</th>\n",
       "      <td>Art</td>\n",
       "      <td>552</td>\n",
       "      <td>37621.97</td>\n",
       "      <td>50000.0</td>\n",
       "      <td>0.752439</td>\n",
       "    </tr>\n",
       "    <tr>\n",
       "      <th>4</th>\n",
       "      <td>Art</td>\n",
       "      <td>336</td>\n",
       "      <td>33485.00</td>\n",
       "      <td>52000.0</td>\n",
       "      <td>0.643942</td>\n",
       "    </tr>\n",
       "    <tr>\n",
       "      <th>5</th>\n",
       "      <td>Art</td>\n",
       "      <td>130</td>\n",
       "      <td>20374.99</td>\n",
       "      <td>35000.0</td>\n",
       "      <td>0.582143</td>\n",
       "    </tr>\n",
       "    <tr>\n",
       "      <th>6</th>\n",
       "      <td>Art</td>\n",
       "      <td>133</td>\n",
       "      <td>54387.00</td>\n",
       "      <td>100000.0</td>\n",
       "      <td>0.543870</td>\n",
       "    </tr>\n",
       "    <tr>\n",
       "      <th>7</th>\n",
       "      <td>Art</td>\n",
       "      <td>136</td>\n",
       "      <td>39206.49</td>\n",
       "      <td>77777.0</td>\n",
       "      <td>0.504088</td>\n",
       "    </tr>\n",
       "    <tr>\n",
       "      <th>8</th>\n",
       "      <td>Art</td>\n",
       "      <td>257</td>\n",
       "      <td>50230.00</td>\n",
       "      <td>100000.0</td>\n",
       "      <td>0.502300</td>\n",
       "    </tr>\n",
       "    <tr>\n",
       "      <th>9</th>\n",
       "      <td>Art</td>\n",
       "      <td>115</td>\n",
       "      <td>27413.00</td>\n",
       "      <td>80000.0</td>\n",
       "      <td>0.342662</td>\n",
       "    </tr>\n",
       "  </tbody>\n",
       "</table>\n",
       "</div>"
      ],
      "text/plain": [
       "  main_category  backers   pledged      goal  pct_pledged\n",
       "0           Art      294  52565.25   60000.0     0.876088\n",
       "1           Art      172  21310.00   25000.0     0.852400\n",
       "2           Art      185  27630.24   35000.0     0.789435\n",
       "3           Art      552  37621.97   50000.0     0.752439\n",
       "4           Art      336  33485.00   52000.0     0.643942\n",
       "5           Art      130  20374.99   35000.0     0.582143\n",
       "6           Art      133  54387.00  100000.0     0.543870\n",
       "7           Art      136  39206.49   77777.0     0.504088\n",
       "8           Art      257  50230.00  100000.0     0.502300\n",
       "9           Art      115  27413.00   80000.0     0.342662"
      ]
     },
     "execution_count": 22,
     "metadata": {},
     "output_type": "execute_result"
    }
   ],
   "source": [
    "sql_query(\"\"\"\n",
    "SELECT main_category, backers, pledged, goal,\n",
    "        pledged / goal AS pct_pledged\n",
    "  FROM ksprojects\n",
    " WHERE state = 'failed'\n",
    "   AND backers >= 100 AND pledged >= 20000\n",
    "ORDER BY main_category ASC, pct_pledged DESC\n",
    " LIMIT 10;\n",
    "\"\"\")"
   ]
  },
  {
   "cell_type": "markdown",
   "id": "352f24d0",
   "metadata": {},
   "source": [
    "# Applying Conditional Logic\n",
    "\n",
    "It can often be helpful to make sense of a set of records by grouping them into categories based on some condition, which in SQL can be done with `CASE` statements.\n",
    "\n",
    "While it's interesting to view the results of failed projects by metrics like the number of backers, what really makes or breaks a Kickstarter project is whether it meets its pledge goal.\n",
    "\n",
    "## Instructions\n",
    "1. Create a field `funding_status` that applies the following logic based on the percentage of amount pledged to campaign goal:\n",
    "- If the percentage pledged is greater than or equal to 1, then the project is \"Fully funded\".\n",
    "- If the percentage pledged is between 75% and 100%, then the project is \"Nearly funded\".\n",
    "- If the percentage pledged is less than 75%, then the project is \"Not nearly funded\".\n",
    "2. Write either a line or block comment with your observations about the funding status of the sample output. For example, are these failed projects failing because they don't have any backers or funding?"
   ]
  },
  {
   "cell_type": "code",
   "execution_count": 23,
   "id": "1715263c",
   "metadata": {},
   "outputs": [
    {
     "data": {
      "application/vnd.microsoft.datawrangler.viewer.v0+json": {
       "columns": [
        {
         "name": "index",
         "rawType": "int64",
         "type": "integer"
        },
        {
         "name": "main_category",
         "rawType": "object",
         "type": "string"
        },
        {
         "name": "backers",
         "rawType": "int64",
         "type": "integer"
        },
        {
         "name": "pledged",
         "rawType": "float64",
         "type": "float"
        },
        {
         "name": "goal",
         "rawType": "float64",
         "type": "float"
        },
        {
         "name": "pct_pledged",
         "rawType": "float64",
         "type": "float"
        },
        {
         "name": "funding_status",
         "rawType": "object",
         "type": "string"
        }
       ],
       "ref": "6f4e9861-76b5-4137-b689-2d46ff2f6d07",
       "rows": [
        [
         "0",
         "Art",
         "294",
         "52565.25",
         "60000.0",
         "0.8760875",
         "Nearly funded"
        ],
        [
         "1",
         "Art",
         "172",
         "21310.0",
         "25000.0",
         "0.8524",
         "Nearly funded"
        ],
        [
         "2",
         "Art",
         "185",
         "27630.24",
         "35000.0",
         "0.7894354285714286",
         "Nearly funded"
        ],
        [
         "3",
         "Art",
         "552",
         "37621.97",
         "50000.0",
         "0.7524394",
         "Nearly funded"
        ],
        [
         "4",
         "Art",
         "336",
         "33485.0",
         "52000.0",
         "0.6439423076923076",
         "Not nearly funded"
        ],
        [
         "5",
         "Art",
         "130",
         "20374.99",
         "35000.0",
         "0.5821425714285715",
         "Not nearly funded"
        ],
        [
         "6",
         "Art",
         "133",
         "54387.0",
         "100000.0",
         "0.54387",
         "Not nearly funded"
        ],
        [
         "7",
         "Art",
         "136",
         "39206.49",
         "77777.0",
         "0.5040884837419802",
         "Not nearly funded"
        ],
        [
         "8",
         "Art",
         "257",
         "50230.0",
         "100000.0",
         "0.5023",
         "Not nearly funded"
        ],
        [
         "9",
         "Art",
         "115",
         "27413.0",
         "80000.0",
         "0.3426625",
         "Not nearly funded"
        ]
       ],
       "shape": {
        "columns": 6,
        "rows": 10
       }
      },
      "text/html": [
       "<div>\n",
       "<style scoped>\n",
       "    .dataframe tbody tr th:only-of-type {\n",
       "        vertical-align: middle;\n",
       "    }\n",
       "\n",
       "    .dataframe tbody tr th {\n",
       "        vertical-align: top;\n",
       "    }\n",
       "\n",
       "    .dataframe thead th {\n",
       "        text-align: right;\n",
       "    }\n",
       "</style>\n",
       "<table border=\"1\" class=\"dataframe\">\n",
       "  <thead>\n",
       "    <tr style=\"text-align: right;\">\n",
       "      <th></th>\n",
       "      <th>main_category</th>\n",
       "      <th>backers</th>\n",
       "      <th>pledged</th>\n",
       "      <th>goal</th>\n",
       "      <th>pct_pledged</th>\n",
       "      <th>funding_status</th>\n",
       "    </tr>\n",
       "  </thead>\n",
       "  <tbody>\n",
       "    <tr>\n",
       "      <th>0</th>\n",
       "      <td>Art</td>\n",
       "      <td>294</td>\n",
       "      <td>52565.25</td>\n",
       "      <td>60000.0</td>\n",
       "      <td>0.876088</td>\n",
       "      <td>Nearly funded</td>\n",
       "    </tr>\n",
       "    <tr>\n",
       "      <th>1</th>\n",
       "      <td>Art</td>\n",
       "      <td>172</td>\n",
       "      <td>21310.00</td>\n",
       "      <td>25000.0</td>\n",
       "      <td>0.852400</td>\n",
       "      <td>Nearly funded</td>\n",
       "    </tr>\n",
       "    <tr>\n",
       "      <th>2</th>\n",
       "      <td>Art</td>\n",
       "      <td>185</td>\n",
       "      <td>27630.24</td>\n",
       "      <td>35000.0</td>\n",
       "      <td>0.789435</td>\n",
       "      <td>Nearly funded</td>\n",
       "    </tr>\n",
       "    <tr>\n",
       "      <th>3</th>\n",
       "      <td>Art</td>\n",
       "      <td>552</td>\n",
       "      <td>37621.97</td>\n",
       "      <td>50000.0</td>\n",
       "      <td>0.752439</td>\n",
       "      <td>Nearly funded</td>\n",
       "    </tr>\n",
       "    <tr>\n",
       "      <th>4</th>\n",
       "      <td>Art</td>\n",
       "      <td>336</td>\n",
       "      <td>33485.00</td>\n",
       "      <td>52000.0</td>\n",
       "      <td>0.643942</td>\n",
       "      <td>Not nearly funded</td>\n",
       "    </tr>\n",
       "    <tr>\n",
       "      <th>5</th>\n",
       "      <td>Art</td>\n",
       "      <td>130</td>\n",
       "      <td>20374.99</td>\n",
       "      <td>35000.0</td>\n",
       "      <td>0.582143</td>\n",
       "      <td>Not nearly funded</td>\n",
       "    </tr>\n",
       "    <tr>\n",
       "      <th>6</th>\n",
       "      <td>Art</td>\n",
       "      <td>133</td>\n",
       "      <td>54387.00</td>\n",
       "      <td>100000.0</td>\n",
       "      <td>0.543870</td>\n",
       "      <td>Not nearly funded</td>\n",
       "    </tr>\n",
       "    <tr>\n",
       "      <th>7</th>\n",
       "      <td>Art</td>\n",
       "      <td>136</td>\n",
       "      <td>39206.49</td>\n",
       "      <td>77777.0</td>\n",
       "      <td>0.504088</td>\n",
       "      <td>Not nearly funded</td>\n",
       "    </tr>\n",
       "    <tr>\n",
       "      <th>8</th>\n",
       "      <td>Art</td>\n",
       "      <td>257</td>\n",
       "      <td>50230.00</td>\n",
       "      <td>100000.0</td>\n",
       "      <td>0.502300</td>\n",
       "      <td>Not nearly funded</td>\n",
       "    </tr>\n",
       "    <tr>\n",
       "      <th>9</th>\n",
       "      <td>Art</td>\n",
       "      <td>115</td>\n",
       "      <td>27413.00</td>\n",
       "      <td>80000.0</td>\n",
       "      <td>0.342662</td>\n",
       "      <td>Not nearly funded</td>\n",
       "    </tr>\n",
       "  </tbody>\n",
       "</table>\n",
       "</div>"
      ],
      "text/plain": [
       "  main_category  backers   pledged      goal  pct_pledged     funding_status\n",
       "0           Art      294  52565.25   60000.0     0.876088      Nearly funded\n",
       "1           Art      172  21310.00   25000.0     0.852400      Nearly funded\n",
       "2           Art      185  27630.24   35000.0     0.789435      Nearly funded\n",
       "3           Art      552  37621.97   50000.0     0.752439      Nearly funded\n",
       "4           Art      336  33485.00   52000.0     0.643942  Not nearly funded\n",
       "5           Art      130  20374.99   35000.0     0.582143  Not nearly funded\n",
       "6           Art      133  54387.00  100000.0     0.543870  Not nearly funded\n",
       "7           Art      136  39206.49   77777.0     0.504088  Not nearly funded\n",
       "8           Art      257  50230.00  100000.0     0.502300  Not nearly funded\n",
       "9           Art      115  27413.00   80000.0     0.342662  Not nearly funded"
      ]
     },
     "execution_count": 23,
     "metadata": {},
     "output_type": "execute_result"
    }
   ],
   "source": [
    "sql_query(\"\"\"\n",
    "  SELECT main_category, backers, pledged, goal,\n",
    "         pledged / goal AS pct_pledged,\n",
    "     CASE WHEN (pledged / goal) >= 1 THEN 'Fully funded'\n",
    "          WHEN (pledged / goal) BETWEEN .75 AND 1 THEN 'Nearly funded'\n",
    "          ELSE 'Not nearly funded'\n",
    "     END AS funding_status\n",
    "    FROM ksprojects\n",
    "   WHERE state IN ('failed')\n",
    "     AND backers >= 100 AND pledged >= 20000\n",
    "ORDER BY main_category, pct_pledged DESC\n",
    "   LIMIT 10;\n",
    "-- yes, these failed projects are failing because they don't have enough funding\n",
    "\"\"\")"
   ]
  },
  {
   "cell_type": "code",
   "execution_count": 24,
   "id": "3b754f2c",
   "metadata": {},
   "outputs": [],
   "source": [
    "# close the connection when we are done\n",
    "conn.close()"
   ]
  }
 ],
 "metadata": {
  "kernelspec": {
   "display_name": "Python 3",
   "language": "python",
   "name": "python3"
  },
  "language_info": {
   "codemirror_mode": {
    "name": "ipython",
    "version": 3
   },
   "file_extension": ".py",
   "mimetype": "text/x-python",
   "name": "python",
   "nbconvert_exporter": "python",
   "pygments_lexer": "ipython3",
   "version": "3.11.0"
  }
 },
 "nbformat": 4,
 "nbformat_minor": 5
}
