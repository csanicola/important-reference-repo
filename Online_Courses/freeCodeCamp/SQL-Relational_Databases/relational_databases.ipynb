{
 "cells": [
  {
   "cell_type": "markdown",
   "id": "81403c95",
   "metadata": {},
   "source": [
    "# Celestial Bodies Database\n",
    "For this project, you need to log in to PostgreSQL with psql to create your database. Do that by entering `psql --username=freecodecamp --dbname=postgres` in the terminal. Make all the tests below pass to complete the project. Be sure to get creative, and have fun!\n",
    "\n",
    "Don't forget to connect to your database after you create it 😄\n",
    "\n",
    "Here's some ideas for other column and table names: `description`, `has_life`, `is_spherical`, `age_in_millions_of_years`, `planet_types`, `galaxy_types`, `distance_from_earth`.\n",
    "\n",
    "Notes:\n",
    "If you leave your virtual machine, your database may not be saved. You can make a dump of it by entering `pg_dump -cC --inserts -U freecodecamp universe > universe.sql` in a bash terminal (not the psql one). It will save the commands to rebuild your database in `universe.sql`. The file will be located where the command was entered. If it's anything inside the `project` folder, the file will be saved in the VM. You can rebuild the database by entering `psql -U postgres < universe.sql` in a terminal where the `.sql` file is.\n",
    "\n",
    "If you are saving your progress on freeCodeCamp.org, after getting all the tests to pass, follow the instructions above to save a dump of your database. Save the `universe.sql` file in a public repository and submit the URL to it on freeCodeCamp.org."
   ]
  },
  {
   "cell_type": "markdown",
   "id": "23852135",
   "metadata": {},
   "source": [
    "Complete the tasks below\n",
    "\n",
    "You should create a database named `universe`\n",
    "\n",
    "Be sure to connect to your database with `\\c universe`. Then, you should add tables named `galaxy`, `star`, `planet`, and `moon`\n",
    "\n",
    "Each table should have a primary key\n",
    "\n",
    "Each primary key should automatically increment\n",
    "\n",
    "Each table should have a `name` column\n",
    "\n",
    "You should use the `INT` data type for at least two columns that are not a primary or foreign key\n",
    "\n",
    "You should use the `NUMERIC` data type at least once\n",
    "\n",
    "You should use the `TEXT` data type at least once\n",
    "\n",
    "You should use the `BOOLEAN` data type on at least two columns\n",
    "\n",
    "Each \"star\" should have a foreign key that references one of the rows in `galaxy`\n",
    "\n",
    "Each \"planet\" should have a foreign key that references one of the rows in `star`\n",
    "\n",
    "Each \"moon\" should have a foreign key that references one of the rows in `planet`\n",
    "\n",
    "Your database should have at least five tables\n",
    "\n",
    "Each table should have at least three rows\n",
    "\n",
    "The `galaxy` and `star` tables should each have at least six rows\n",
    "\n",
    "The `planet` table should have at least 12 rows\n",
    "\n",
    "The `moon` table should have at least 20 rows\n",
    "\n",
    "Each table should have at least three columns\n",
    "\n",
    "The `galaxy`, `star`, `planet`, and `moon` tables should each have at least five columns\n",
    "\n",
    "At least two columns per table should not accept `NULL` values\n",
    "\n",
    "At least one column from each table should be required to be `UNIQUE`\n",
    "\n",
    "All columns named name should be of type `VARCHAR`\n",
    "\n",
    "Each primary key column should follow the naming convention `table_name_id`. For example, the `moon` table should have a primary key column named `moon_id`\n",
    "\n",
    "Each foreign key column should have the same name as the column it is referencing"
   ]
  },
  {
   "cell_type": "code",
   "execution_count": null,
   "id": "55ed9b82",
   "metadata": {
    "vscode": {
     "languageId": "sql"
    }
   },
   "outputs": [],
   "source": [
    "CREATE DATABASE universe;"
   ]
  },
  {
   "cell_type": "code",
   "execution_count": null,
   "id": "8d1e8508",
   "metadata": {
    "vscode": {
     "languageId": "sql"
    }
   },
   "outputs": [],
   "source": [
    "CREATE TABLE galaxy (\n",
    "    galaxy_id SERIAL PRIMARY KEY,\n",
    "    name VARCHAR(50) NOT NULL UNIQUE,\n",
    "    type VARCHAR(30) NOT NULL,\n",
    "    diameter_lightyears NUMERIC(10,2),\n",
    "    age_billion_years NUMERIC(5,2),\n",
    "    has_supermassive_blackhole BOOLEAN DEFAULT TRUE\n",
    ");\n",
    "\n",
    "CREATE TABLE star (\n",
    "    star_id SERIAL PRIMARY KEY,\n",
    "    galaxy_id INTEGER REFERENCES galaxy(galaxy_id),\n",
    "    name VARCHAR(50) NOT NULL UNIQUE,\n",
    "    spectral_class CHAR(1) NOT NULL,\n",
    "    temperature_kelvin INTEGER,\n",
    "    mass_relative_to_sun NUMERIC(6,2)\n",
    ");\n",
    "\n",
    "CREATE TABLE planet (\n",
    "    planet_id SERIAL PRIMARY KEY,\n",
    "    star_id INTEGER REFERENCES star(star_id),\n",
    "    name VARCHAR(50) NOT NULL UNIQUE,\n",
    "    type VARCHAR(20) NOT NULL,\n",
    "    has_life BOOLEAN DEFAULT FALSE,\n",
    "    orbital_period_days NUMERIC(10,2),\n",
    "    mean_surface_temp_celsius NUMERIC(10,2)\n",
    ");\n",
    "\n",
    "CREATE TABLE moon (\n",
    "    moon_id SERIAL PRIMARY KEY,\n",
    "    planet_id INTEGER REFERENCES planet(planet_id),\n",
    "    name VARCHAR(50) NOT NULL UNIQUE,\n",
    "    diameter_km INTEGER,\n",
    "    has_atmosphere BOOLEAN DEFAULT FALSE,\n",
    "    discovery_year INTEGER\n",
    ");\n",
    "\n",
    "CREATE TABLE species (\n",
    "    species_id SERIAL PRIMARY KEY,\n",
    "    planet_id INTEGER REFERENCES planet(planet_id),\n",
    "    name VARCHAR(50) NOT NULL UNIQUE,\n",
    "    intelligence_level VARCHAR(20),\n",
    "    is_technological BOOLEAN DEFAULT FALSE,\n",
    "    population_estimate BIGINT\n",
    ");"
   ]
  },
  {
   "cell_type": "code",
   "execution_count": null,
   "id": "91a413b5",
   "metadata": {
    "vscode": {
     "languageId": "sql"
    }
   },
   "outputs": [],
   "source": [
    "INSERT INTO galaxy (name, type, diameter_lightyears, age_billion_years) VALUES\n",
    "('Milky Way', 'Spiral', 105700.00, 13.61),\n",
    "('Andromeda', 'Spiral', 220000.00, 10.01),\n",
    "('Triangulum', 'Spiral', 60000.00, 6.00),\n",
    "('Messier 87', 'Elliptical', 240000.00, 12.93),\n",
    "('Sombrero', 'Spiral', 50000.00, 13.25),\n",
    "('Whirlpool', 'Spiral', 60000.00, 13.00);"
   ]
  },
  {
   "cell_type": "code",
   "execution_count": null,
   "id": "868f29ba",
   "metadata": {
    "vscode": {
     "languageId": "sql"
    }
   },
   "outputs": [],
   "source": [
    "INSERT INTO star (galaxy_id, name, spectral_class, temperature_kelvin, mass_relative_to_sun) VALUES\n",
    "(1, 'Sun', 'G', 5778, 1.00),\n",
    "(1, 'Sirius', 'A', 9940, 2.06),\n",
    "(1, 'Alpha Centauri A', 'G', 5790, 1.10),\n",
    "(2, 'Alpheratz', 'B', 13800, 3.80),\n",
    "(3, 'Mirach', 'M', 3800, 2.50),\n",
    "(4, 'Virgo A', 'G', 5500, 1.20);"
   ]
  },
  {
   "cell_type": "code",
   "execution_count": null,
   "id": "8a688208",
   "metadata": {
    "vscode": {
     "languageId": "sql"
    }
   },
   "outputs": [],
   "source": [
    "INSERT INTO planet (star_id, name, type, has_life, orbital_period_days, mean_surface_temp_celsius) VALUES\n",
    "(1, 'Mercury', 'Terrestrial', FALSE, 88.00, 167),\n",
    "(1, 'Venus', 'Terrestrial', FALSE, 224.70, 464),\n",
    "(1, 'Earth', 'Terrestrial', TRUE, 365.25, 15),\n",
    "(1, 'Mars', 'Terrestrial', FALSE, 687.00, -63),\n",
    "(1, 'Jupiter', 'Gas Giant', FALSE, 4333.00, -145),\n",
    "(1, 'Saturn', 'Gas Giant', FALSE, 10759.00, -178),\n",
    "(2, 'Sirius b', 'White Dwarf', FALSE, 50.00, 25000),\n",
    "(3, 'Proxima Centauri b', 'Super Earth', TRUE, 11.19, -39),\n",
    "(4, 'Alpheratz b', 'Gas Giant', FALSE, 300.00, -120),\n",
    "(5, 'Mirach b', 'Ice Giant', FALSE, 500.00, -200),\n",
    "(6, 'Virgo A b', 'Terrestrial', TRUE, 400.00, 22),\n",
    "(6, 'Virgo A c', 'Gas Giant', FALSE, 1200.00, -150);"
   ]
  },
  {
   "cell_type": "code",
   "execution_count": null,
   "id": "d06f9cb1",
   "metadata": {
    "vscode": {
     "languageId": "sql"
    }
   },
   "outputs": [],
   "source": [
    "INSERT INTO moon (planet_id, name, diameter_km, has_atmosphere, discovery_year) VALUES\n",
    "(3, 'Moon', 3474, FALSE, NULL),\n",
    "(4, 'Phobos', 22, FALSE, 1877),\n",
    "(4, 'Deimos', 12, FALSE, 1877),\n",
    "(5, 'Io', 3643, FALSE, 1610),\n",
    "(5, 'Europa', 3121, TRUE, 1610),\n",
    "(5, 'Ganymede', 5262, TRUE, 1610),\n",
    "(5, 'Callisto', 4820, TRUE, 1610),\n",
    "(6, 'Titan', 5149, TRUE, 1655),\n",
    "(6, 'Rhea', 1527, FALSE, 1672),\n",
    "(6, 'Iapetus', 1468, FALSE, 1671),\n",
    "(6, 'Dione', 1123, FALSE, 1684),\n",
    "(6, 'Tethys', 1062, FALSE, 1684),\n",
    "(6, 'Enceladus', 504, TRUE, 1789),\n",
    "(6, 'Mimas', 396, FALSE, 1789),\n",
    "(7, 'Sirius b1', 1200, FALSE, 2020),\n",
    "(8, 'Proxima b1', 800, FALSE, 2030),\n",
    "(9, 'Alpheratz b1', 2000, FALSE, 2025),\n",
    "(10, 'Mirach b1', 1500, FALSE, 2023),\n",
    "(11, 'Virgo A b1', 1200, TRUE, 2028),\n",
    "(12, 'Virgo A c1', 1800, FALSE, 2029);"
   ]
  },
  {
   "cell_type": "code",
   "execution_count": null,
   "id": "b5f1d569",
   "metadata": {
    "vscode": {
     "languageId": "sql"
    }
   },
   "outputs": [],
   "source": [
    "INSERT INTO species (planet_id, name, intelligence_level, is_technological, population_estimate) VALUES\n",
    "(3, 'Humans', 'High', TRUE, 8000000000),\n",
    "(8, 'Proximans', 'Medium', FALSE, 500000000),\n",
    "(11, 'Virgonians', 'High', TRUE, 12000000000),\n",
    "(3, 'Dolphins', 'Medium', FALSE, 10000000),\n",
    "(4, 'Martian Microbes', 'None', FALSE, 1000000000000);"
   ]
  }
 ],
 "metadata": {
  "language_info": {
   "name": "python"
  }
 },
 "nbformat": 4,
 "nbformat_minor": 5
}
