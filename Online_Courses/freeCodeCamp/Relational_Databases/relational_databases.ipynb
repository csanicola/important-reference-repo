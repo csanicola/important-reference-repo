{
 "cells": [
  {
   "cell_type": "markdown",
   "id": "83105f0b",
   "metadata": {},
   "source": [
    "# Learn Bash by Building a Boilerplate\n",
    "The terminal allows you to send text commands to your computer that can manipulate the file system, run programs, automate tasks, and much more.\n",
    "___\n",
    "In this lesson course, you will, learn terminal commands by creating a website boilerplate using only the command line."
   ]
  },
  {
   "cell_type": "code",
   "execution_count": null,
   "id": "93c71b17",
   "metadata": {
    "vscode": {
     "languageId": "plaintext"
    }
   },
   "outputs": [],
   "source": []
  }
 ],
 "metadata": {
  "language_info": {
   "name": "python"
  }
 },
 "nbformat": 4,
 "nbformat_minor": 5
}
