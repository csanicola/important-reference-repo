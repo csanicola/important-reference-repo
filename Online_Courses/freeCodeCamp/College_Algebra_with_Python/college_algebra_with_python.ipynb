{
 "cells": [
  {
   "cell_type": "markdown",
   "metadata": {},
   "source": [
    "# Introduction\n",
    "\n",
    "**Question**\n",
    "When adding text in Google Colab, what symbol would you use to create a heading that will appear in the table of contents?\n",
    "-> #"
   ]
  },
  {
   "cell_type": "markdown",
   "metadata": {},
   "source": [
    "# Learn Ratios and Proportions"
   ]
  },
  {
   "cell_type": "code",
   "execution_count": 8,
   "metadata": {},
   "outputs": [
    {
     "name": "stdout",
     "output_type": "stream",
     "text": [
      "n2 =  8.0\n"
     ]
    }
   ],
   "source": [
    "# Proportions\n",
    "# ratio a part of a whole; proportions is two ratios that equal a whole\n",
    "\n",
    "# Put a zero in for the unknown value \n",
    "n1 = 1\n",
    "d1 = 2\n",
    "n2 = 0\n",
    "d2 = 16\n",
    "\n",
    "if n2==0:\n",
    "    answer = d2 * n1 / d1\n",
    "    print(\"n2 = \", answer)\n",
    "\n",
    "if d2==0:\n",
    "    answer = n2 * d1 / n1\n",
    "    print(\"d2 = \", answer)"
   ]
  },
  {
   "cell_type": "markdown",
   "metadata": {},
   "source": [
    "In solving a proportion, if one numerator is zero, does the other numerator have to be zero for the statement to be true?\n",
    "-> Yes"
   ]
  },
  {
   "cell_type": "code",
   "execution_count": null,
   "metadata": {},
   "outputs": [
    {
     "name": "stdout",
     "output_type": "stream",
     "text": [
      "x +  -2  =  4\n"
     ]
    }
   ],
   "source": [
    "# converts string input (even fractions) to float\n",
    "def string_frac(in_string):\n",
    "    if \"/\" in in_string:\n",
    "        nd = in_string.split(\"/\")\n",
    "        n = float(nd[0])\n",
    "        d = float(nd[1])\n",
    "        ans = n/d\n",
    "        return ans\n",
    "    else:\n",
    "        ans = float(in_string)\n",
    "        return ans\n",
    "\n",
    "# Simplest one-step addition\n",
    "def one_step_add():\n",
    "    import random\n",
    "    # Display problem\n",
    "    a = random.randint(-4,10)\n",
    "    b = random.randint(2,24)\n",
    "    print(\"x + \", a, \" = \", b)\n",
    "    ans = float(input(\"x = \"))\n",
    "    answer = b - a\n",
    "    # Test input\n",
    "    if ans==answer:\n",
    "        print(\"Correct! \\n\")\n",
    "    else:\n",
    "        print(\"Try again\")\n",
    "        print(\"The correct answer is \", answer, \"\\n\")\n",
    "\n",
    "# One-step addition with negative numbers\n",
    "def one_step_subtract():\n",
    "    import random\n",
    "    a = random.randint(-19,-1)\n",
    "    b = random.randint(2,24)\n",
    "    print(a, \" + x = \", b)\n",
    "    ans = float(input(\"x = \"))\n",
    "    # test\n",
    "    answer = b-a\n",
    "    if ans==answer:\n",
    "        print(\"Correct! \\n\")\n",
    "    else:\n",
    "        print(\"Try again\")\n",
    "        print(\"The correct answer is \", answer, \"\\n\")\n",
    "\n",
    "# One-step multiply\n",
    "def one_step_mult():\n",
    "    # Uses string_frac(<input string>)\n",
    "    import random\n",
    "    a = random.randint(1,11)\n",
    "    b = random.randint(2,24)\n",
    "    print(a, \"x = \",b)\n",
    "    print(\"Round your answer to two decimal places.\")\n",
    "    ans_in = (input(\"x = \"))\n",
    "    answer = round(b/a,2)\n",
    "    # test\n",
    "    if string_frac(ans_in)==answer:\n",
    "        print(\"Correct! \\n\")\n",
    "    else:\n",
    "        print(\"Try again\")\n",
    "        print(\"The correct answer is \", answer, \"\\n\")\n",
    "\n",
    "# One-step divide\n",
    "def one_step_div():\n",
    "    import random\n",
    "    a = random.randint(1,11)\n",
    "    b = random.randint(2,24)\n",
    "    print(\"x/\", a, \" = \", b)\n",
    "    ans = float(input(\"x = \"))\n",
    "    answer = b*a\n",
    "    # test\n",
    "    if ans==answer:\n",
    "        print(\"Correct! \\n\")\n",
    "    else:\n",
    "        print(\"Try again\")\n",
    "        print(\"The correct answer is \", answer, \"\\n\")\n",
    "\n",
    "# Two-step problems\n",
    "def two_step():\n",
    "    import random\n",
    "    # Uses string_frac()\n",
    "    a = random.randint(1,11)\n",
    "    b = random.randint(-7,12)\n",
    "    c = random.randint(2,36)\n",
    "    print(a, \"x + \", b, \" = \", c)\n",
    "    print(\"Round answer to two decimal places\")\n",
    "    ans_in = input(\"x = \")\n",
    "    answer = (c-b)/a\n",
    "    # test \n",
    "    if round(string_frac(ans_in),2)==round(answer,2):\n",
    "        print(\"Correct! \\n\")\n",
    "    else:\n",
    "        print(\"Try again\")\n",
    "        print(\"The correct answer is \", answer, \"\\n\")\n",
    "\n",
    "# test loop\n",
    "for a in range(2):\n",
    "    one_step_add()\n",
    "    one_step_subtract()\n",
    "    one_step_mult()\n",
    "    one_step_div()\n",
    "    two_step()\n",
    "    print(\" \")\n",
    "\n",
    "two_step()\n",
    "two_step()"
   ]
  },
  {
   "cell_type": "markdown",
   "metadata": {},
   "source": [
    "**Question**\n",
    "What is another way to write 0.9999...(repeating 9)?\n",
    "-> 1\n",
    "\n",
    "x = .99999\n",
    "10x = 9.99999\n",
    "9x = 9\n",
    "x = 1"
   ]
  },
  {
   "cell_type": "markdown",
   "metadata": {},
   "source": [
    "# Solve for X\n",
    "\n",
    "- the goal is to get \"x = *something*\"\n",
    "- whatever you are doing to one side of the equation, you need to do it to the other side\n",
    "- solving for x, the variable `eq` is the equation set equal to zero. this will print an array of solutions"
   ]
  },
  {
   "cell_type": "code",
   "execution_count": null,
   "metadata": {},
   "outputs": [
    {
     "name": "stdout",
     "output_type": "stream",
     "text": [
      "Requirement already satisfied: sympy in e:\\python\\python311\\lib\\site-packages (1.13.3)\n",
      "Requirement already satisfied: mpmath<1.4,>=1.1.0 in e:\\python\\python311\\lib\\site-packages (from sympy) (1.3.0)\n",
      "Requirement already satisfied: sympy in e:\\python\\python311\\lib\\site-packages (1.13.3)\n",
      "Requirement already satisfied: mpmath<1.4,>=1.1.0 in e:\\python\\python311\\lib\\site-packages (from sympy) (1.3.0)\n",
      "Requirement already satisfied: sympy in e:\\python\\python311\\lib\\site-packages (1.13.3)\n",
      "Requirement already satisfied: mpmath<1.4,>=1.1.0 in e:\\python\\python311\\lib\\site-packages (from sympy) (1.3.0)\n",
      "Requirement already satisfied: sympy in e:\\python\\python311\\lib\\site-packages (1.13.3)\n",
      "Requirement already satisfied: mpmath<1.4,>=1.1.0 in e:\\python\\python311\\lib\\site-packages (from sympy) (1.3.0)\n"
     ]
    }
   ],
   "source": [
    "!pip3 install sympy\n",
    "!pip install sympy\n",
    "\n",
    "!pip3 install --upgrade sympy\n",
    "!pip install --upgrade sympy"
   ]
  },
  {
   "cell_type": "code",
   "execution_count": 4,
   "metadata": {},
   "outputs": [
    {
     "name": "stdout",
     "output_type": "stream",
     "text": [
      "x =  [2]\n",
      "x =  [-2, 2]\n",
      "x =  [2]\n"
     ]
    }
   ],
   "source": [
    "import sympy\n",
    "from sympy import symbols \n",
    "from sympy.solvers import solve \n",
    "\n",
    "x = symbols('x')\n",
    "\n",
    "# Put the equation here \n",
    "eq = x - 2\n",
    "eq2 = x**2 - 4\n",
    "eq3 = 2*x - 4\n",
    "\n",
    "print(\"x = \", solve(eq, x))\n",
    "print(\"x = \", solve(eq2, x))\n",
    "print(\"x = \", solve(eq3, x))"
   ]
  },
  {
   "cell_type": "code",
   "execution_count": 3,
   "metadata": {},
   "outputs": [
    {
     "name": "stdout",
     "output_type": "stream",
     "text": [
      "x =  [2]\n"
     ]
    }
   ],
   "source": [
    "# Prompt for someone to enter the equation, then solve \n",
    "\n",
    "import sympy\n",
    "from sympy import symbols\n",
    "from sympy.solvers import solve\n",
    "\n",
    "x = symbols('x')\n",
    "eq = input('Enter equation: 0 = ')\n",
    "\n",
    "print(\"x = \", solve(eq, x))"
   ]
  },
  {
   "cell_type": "code",
   "execution_count": 4,
   "metadata": {},
   "outputs": [
    {
     "name": "stdout",
     "output_type": "stream",
     "text": [
      "x =  2\n"
     ]
    }
   ],
   "source": [
    "# multiple solutions\n",
    "import sympy \n",
    "from sympy import symbols \n",
    "from sympy.solvers import solve \n",
    "\n",
    "x = symbols('x')\n",
    "\n",
    "# Two different ways to get the equation\n",
    "eq = 2*x - 4\n",
    "# eq = input('Enter Equation: 0 = ')\n",
    "\n",
    "solution = solve(eq, x)\n",
    "for s in solution:\n",
    "    print(\"x = \", s)"
   ]
  },
  {
   "cell_type": "code",
   "execution_count": null,
   "metadata": {},
   "outputs": [
    {
     "name": "stdout",
     "output_type": "stream",
     "text": [
      "x =  y/2 - 5\n"
     ]
    }
   ],
   "source": [
    "from sympy import *\n",
    "\n",
    "var('x y')\n",
    "\n",
    "# First equation set equal to zero, ready to solve \n",
    "first = 2*x + 10\n",
    "\n",
    "# Sympy sytax for equation equal to zero, ready to factor \n",
    "# eq1 = Eq(first, 0) # this is basically just saying that the first set is equal to 0\n",
    "eq1 = Eq(first, y) # we now can also ask it to solve for y\n",
    "\n",
    "# Sympy solve for x\n",
    "sol = solve(eq1, x) \n",
    "\n",
    "# Show factored results\n",
    "print(\"x = \", sol[0]) # we know there is only 1 result but this is basically say print the first factored result"
   ]
  },
  {
   "cell_type": "code",
   "execution_count": 6,
   "metadata": {},
   "outputs": [
    {
     "name": "stdout",
     "output_type": "stream",
     "text": [
      "[4]\n"
     ]
    }
   ],
   "source": [
    "example = 3*x - 12\n",
    "equation = Eq(example, 0)\n",
    "solution = solve(equation, x)\n",
    "print(solution)"
   ]
  }
 ],
 "metadata": {
  "kernelspec": {
   "display_name": "Python 3",
   "language": "python",
   "name": "python3"
  },
  "language_info": {
   "codemirror_mode": {
    "name": "ipython",
    "version": 3
   },
   "file_extension": ".py",
   "mimetype": "text/x-python",
   "name": "python",
   "nbconvert_exporter": "python",
   "pygments_lexer": "ipython3",
   "version": "3.11.0"
  }
 },
 "nbformat": 4,
 "nbformat_minor": 2
}
