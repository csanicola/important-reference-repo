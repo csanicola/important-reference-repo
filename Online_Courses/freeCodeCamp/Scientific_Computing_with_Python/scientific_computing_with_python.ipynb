{
 "cells": [
  {
   "cell_type": "markdown",
   "metadata": {},
   "source": [
    "# Learn String Manipulation by Building a Cipher\n",
    "**Cipher**: an algorithm for performing encryption or decryption\n",
    "___\n",
    "*Things Learned:*\n",
    "- variables\n",
    "- functions\n",
    "- loops\n",
    "- conditional statements"
   ]
  },
  {
   "cell_type": "code",
   "execution_count": 30,
   "metadata": {},
   "outputs": [
    {
     "name": "stdout",
     "output_type": "stream",
     "text": [
      "Hello World\n",
      "W\n",
      "d\n",
      "11\n",
      "<class 'str'>\n",
      "<class 'int'>\n"
     ]
    }
   ],
   "source": [
    "number = 5\n",
    "text = 'Hello World'\n",
    "print(text)\n",
    "print(text[6]) # this prints the character at index 6\n",
    "print(text[-1]) # this prints the last character\n",
    "print(len(text)) # this prints the length of the string\n",
    "print(type(text)) # this prints the type of the variable\n",
    "shift = 3\n",
    "print(type(shift))"
   ]
  },
  {
   "cell_type": "code",
   "execution_count": 31,
   "metadata": {},
   "outputs": [
    {
     "data": {
      "text/plain": [
       "25"
      ]
     },
     "execution_count": 31,
     "metadata": {},
     "output_type": "execute_result"
    }
   ],
   "source": [
    "alphabet = 'abcdefghijklmnopqrstuvwxyz'\n",
    "alphabet.find('z') # .find() is used to find the index of a character in a string\n"
   ]
  },
  {
   "cell_type": "code",
   "execution_count": 32,
   "metadata": {},
   "outputs": [
    {
     "name": "stdout",
     "output_type": "stream",
     "text": [
      "-1\n",
      "hello world\n"
     ]
    }
   ],
   "source": [
    "index = alphabet.find(text[0])\n",
    "print(index) # this returns -1 because the first character is not in the alphabet (its looking for a capital H but the 'alphabet' only has lowercase letters)\n",
    "print(text.lower())"
   ]
  },
  {
   "cell_type": "code",
   "execution_count": 33,
   "metadata": {},
   "outputs": [
    {
     "name": "stdout",
     "output_type": "stream",
     "text": [
      "7\n",
      "h\n",
      "k\n"
     ]
    }
   ],
   "source": [
    "index = alphabet.find(text[0].lower()) # this will turn the first character into lowercase and then find that first character in the string 'alphabet' and then assign it to the variable 'index'\n",
    "print(index)\n",
    "shifted = alphabet[index] # this will then assign the character at index 'index' to the variable 'shifted'\n",
    "print(shifted)\n",
    "shifted = alphabet[index + shift]\n",
    "print(shifted)"
   ]
  },
  {
   "cell_type": "code",
   "execution_count": 34,
   "metadata": {},
   "outputs": [
    {
     "name": "stdout",
     "output_type": "stream",
     "text": [
      "H\n",
      "e\n",
      "l\n",
      "l\n",
      "o\n",
      " \n",
      "W\n",
      "o\n",
      "r\n",
      "l\n",
      "d\n"
     ]
    }
   ],
   "source": [
    "for i in text:\n",
    "    print(i) # this loop statement will print each character in the string 'text' on its own line"
   ]
  },
  {
   "cell_type": "code",
   "execution_count": 35,
   "metadata": {},
   "outputs": [
    {
     "name": "stdout",
     "output_type": "stream",
     "text": [
      "h 7\n",
      "e 4\n",
      "l 11\n",
      "l 11\n",
      "o 14\n",
      "  -1\n",
      "w 22\n",
      "o 14\n",
      "r 17\n",
      "l 11\n",
      "d 3\n"
     ]
    }
   ],
   "source": [
    "for char in text.lower():\n",
    "    index = alphabet.find(char)\n",
    "    print(char, index)"
   ]
  },
  {
   "cell_type": "code",
   "execution_count": 36,
   "metadata": {},
   "outputs": [
    {
     "name": "stdout",
     "output_type": "stream",
     "text": [
      "char:  h new char: k\n",
      "char:  e new char: h\n",
      "char:  l new char: o\n",
      "char:  l new char: o\n",
      "char:  o new char: r\n",
      "char:    new char: c\n",
      "char:  w new char: z\n",
      "char:  o new char: r\n",
      "char:  r new char: u\n",
      "char:  l new char: o\n",
      "char:  d new char: g\n"
     ]
    }
   ],
   "source": [
    "for char in text.lower():\n",
    "    index = alphabet.find(char)\n",
    "    new_index = index + shift\n",
    "    new_char = alphabet[new_index]\n",
    "    print('char: ', char, 'new char:', new_char)"
   ]
  },
  {
   "cell_type": "code",
   "execution_count": null,
   "metadata": {},
   "outputs": [
    {
     "name": "stdout",
     "output_type": "stream",
     "text": [
      "char:  h encrypted text:  k\n",
      "char:  e encrypted text:  kh\n",
      "char:  l encrypted text:  kho\n",
      "char:  l encrypted text:  khoo\n",
      "char:  o encrypted text:  khoor\n",
      "char:    encrypted text:  khoorc\n",
      "char:  w encrypted text:  khoorcz\n",
      "char:  o encrypted text:  khoorczr\n",
      "char:  r encrypted text:  khoorczru\n",
      "char:  l encrypted text:  khoorczruo\n",
      "char:  d encrypted text:  khoorczruog\n"
     ]
    }
   ],
   "source": [
    "encrypted_text = ''\n",
    "\n",
    "for char in text.lower():\n",
    "    index = alphabet.find(char)\n",
    "    new_index = index + shift\n",
    "    encrypted_text += alphabet[new_index] # this is the same as writing 'encrypted_text = encrypted_text + alphabet[new_index]'\n",
    "    print('char: ', char, 'encrypted text: ', encrypted_text)"
   ]
  },
  {
   "cell_type": "code",
   "execution_count": 39,
   "metadata": {},
   "outputs": [
    {
     "name": "stdout",
     "output_type": "stream",
     "text": [
      "char: h encrypted text: k\n",
      "char: e encrypted text: kh\n",
      "char: l encrypted text: kho\n",
      "char: l encrypted text: khoo\n",
      "char: o encrypted text: khoor\n",
      "space!\n",
      "char:   encrypted text: khoorc\n",
      "char: w encrypted text: khoorcz\n",
      "char: o encrypted text: khoorczr\n",
      "char: r encrypted text: khoorczru\n",
      "char: l encrypted text: khoorczruo\n",
      "char: d encrypted text: khoorczruog\n"
     ]
    }
   ],
   "source": [
    "encrypted_text = ''\n",
    "\n",
    "for char in text.lower():\n",
    "    if char == ' ':\n",
    "        print('space!') # this is a conditional statement that will print 'space!' if the character is a space\n",
    "    index = alphabet.find(char)\n",
    "    new_index = index + shift\n",
    "    encrypted_text += alphabet[new_index]\n",
    "    print('char:', char, 'encrypted text:', encrypted_text)"
   ]
  },
  {
   "cell_type": "code",
   "execution_count": null,
   "metadata": {},
   "outputs": [
    {
     "name": "stdout",
     "output_type": "stream",
     "text": [
      "char: h encrypted text: k\n",
      "char: e encrypted text: kh\n",
      "char: l encrypted text: kho\n",
      "char: l encrypted text: khoo\n",
      "char: o encrypted text: khoor\n",
      "char:   encrypted text: khoor c\n",
      "char: w encrypted text: khoor cz\n",
      "char: o encrypted text: khoor czr\n",
      "char: r encrypted text: khoor czru\n",
      "char: l encrypted text: khoor czruo\n",
      "char: d encrypted text: khoor czruog\n"
     ]
    }
   ],
   "source": [
    "encrypted_text = ''\n",
    "\n",
    "for char in text.lower():\n",
    "    if char == ' ':\n",
    "        encrypted_text += char # this is now saying add a space if there is no character\n",
    "    else: # we are saying that instead of adding a character for the space to continue encrypting the rest of the characters\n",
    "        index = alphabet.find(char) \n",
    "        new_index = index + shift\n",
    "        encrypted_text += alphabet[new_index]\n",
    "    print('char:', char, 'encrypted text:', encrypted_text)"
   ]
  },
  {
   "cell_type": "code",
   "execution_count": null,
   "metadata": {},
   "outputs": [
    {
     "name": "stdout",
     "output_type": "stream",
     "text": [
      "char: h encrypted text: k\n",
      "char: e encrypted text: kh\n",
      "char: l encrypted text: kho\n",
      "char: l encrypted text: khoo\n",
      "char: o encrypted text: khoor\n",
      "char:   encrypted text: khoor \n",
      "char: z encrypted text: khoor c\n",
      "char: a encrypted text: khoor cd\n",
      "char: i encrypted text: khoor cdl\n",
      "char: r encrypted text: khoor cdlu\n",
      "char: a encrypted text: khoor cdlud\n"
     ]
    }
   ],
   "source": [
    "text = 'Hello Zaira'\n",
    "shift = 3\n",
    "alphabet = 'abcdefghijklmnopqrstuvwxyz'\n",
    "encrypted_text = ''\n",
    "\n",
    "for char in text.lower():\n",
    "    if char == ' ':\n",
    "        encrypted_text += char\n",
    "    else:\n",
    "        index = alphabet.find(char)\n",
    "        new_index = (index + shift) % 26 # using a modulo operator to make sure that the new index is within the range of the alphabet (26 characters)\n",
    "        encrypted_text += alphabet[new_index]\n",
    "    print('char:', char, 'encrypted text:', encrypted_text)"
   ]
  },
  {
   "cell_type": "code",
   "execution_count": 42,
   "metadata": {},
   "outputs": [
    {
     "name": "stdout",
     "output_type": "stream",
     "text": [
      "char: h encrypted text: k\n",
      "char: e encrypted text: kh\n",
      "char: l encrypted text: kho\n",
      "char: l encrypted text: khoo\n",
      "char: o encrypted text: khoor\n",
      "char:   encrypted text: khoor \n",
      "char: z encrypted text: khoor c\n",
      "char: a encrypted text: khoor cd\n",
      "char: i encrypted text: khoor cdl\n",
      "char: r encrypted text: khoor cdlu\n",
      "char: a encrypted text: khoor cdlud\n"
     ]
    }
   ],
   "source": [
    "text = 'Hello Zaira'\n",
    "shift = 3\n",
    "alphabet = 'abcdefghijklmnopqrstuvwxyz'\n",
    "encrypted_text = ''\n",
    "\n",
    "for char in text.lower():\n",
    "    if char == ' ':\n",
    "        encrypted_text += char\n",
    "    else:\n",
    "        index = alphabet.find(char)\n",
    "        new_index = (index + shift) % len(alphabet) # instead of a number like above, you can use the length of the alphabet in case you add or take away from it without having to change the number each time\n",
    "        encrypted_text += alphabet[new_index]\n",
    "    print('char:', char, 'encrypted text:', encrypted_text)"
   ]
  },
  {
   "cell_type": "code",
   "execution_count": 43,
   "metadata": {},
   "outputs": [
    {
     "name": "stdout",
     "output_type": "stream",
     "text": [
      "plain text: Hello Zaira\n",
      "encrypted text: khoor cdlud\n"
     ]
    }
   ],
   "source": [
    "text = 'Hello Zaira'\n",
    "shift = 3\n",
    "alphabet = 'abcdefghijklmnopqrstuvwxyz'\n",
    "encrypted_text = ''\n",
    "\n",
    "for char in text.lower():\n",
    "    if char == ' ':\n",
    "        encrypted_text += char\n",
    "    else:\n",
    "        index = alphabet.find(char)\n",
    "        new_index = (index + shift) % len(alphabet)\n",
    "        encrypted_text += alphabet[new_index]\n",
    "print('plain text:', text)\n",
    "print('encrypted text:', encrypted_text) # to only store the text one time so it doesnt keep adding to the loop, you put the print statement outside of the loop"
   ]
  },
  {
   "cell_type": "code",
   "execution_count": null,
   "metadata": {},
   "outputs": [
    {
     "name": "stdout",
     "output_type": "stream",
     "text": [
      "plain text: Hello Zaira\n",
      "encrypted text: khoor cdlud\n"
     ]
    }
   ],
   "source": [
    "text = 'Hello Zaira'\n",
    "shift = 3\n",
    "\n",
    "def caesar(message, offset): # this is a function that takes in a message and an offset\n",
    "    alphabet = 'abcdefghijklmnopqrstuvwxyz'\n",
    "    encrypted_text = ''\n",
    "\n",
    "    for char in message.lower():\n",
    "        if char == ' ':\n",
    "            encrypted_text += char\n",
    "        else:\n",
    "            index = alphabet.find(char)\n",
    "            new_index = (index + offset) % len(alphabet)\n",
    "            encrypted_text += alphabet[new_index]\n",
    "    print('plain text:', message)\n",
    "    print('encrypted text:', encrypted_text)\n",
    "\n",
    "caesar(text, shift)"
   ]
  },
  {
   "cell_type": "code",
   "execution_count": 45,
   "metadata": {},
   "outputs": [
    {
     "name": "stdout",
     "output_type": "stream",
     "text": [
      "wcesc mpgkh\n"
     ]
    }
   ],
   "source": [
    "text = 'Hello Zaira'\n",
    "custom_key = 'python'\n",
    "\n",
    "def vigenere(message, key):\n",
    "    key_index = 0\n",
    "    alphabet = 'abcdefghijklmnopqrstuvwxyz'\n",
    "    encrypted_text = ''\n",
    "\n",
    "    for char in message.lower():\n",
    "        # Append space to the message\n",
    "        if char == ' ':\n",
    "            encrypted_text += char\n",
    "        else:\n",
    "            # Find the right key character to encode\n",
    "            key_char = key[key_index % len(key)] # assigns the value of key at the index key_index mod the length of key\n",
    "            key_index += 1\n",
    "            \n",
    "            # Define the offset and the encrypted letter\n",
    "            offset = alphabet.index(key_char)\n",
    "            index = alphabet.find(char)\n",
    "            new_index = (index + offset) % len(alphabet)\n",
    "            encrypted_text += alphabet[new_index]\n",
    "            \n",
    "    return encrypted_text\n",
    "\n",
    "encryption = vigenere(text, custom_key)\n",
    "print(encryption)"
   ]
  },
  {
   "cell_type": "code",
   "execution_count": null,
   "metadata": {},
   "outputs": [
    {
     "name": "stdout",
     "output_type": "stream",
     "text": [
      "wcesc mpgkh\n",
      "hello zaira\n"
     ]
    }
   ],
   "source": [
    "text = 'Hello Zaira'\n",
    "custom_key = 'python'\n",
    "\n",
    "def vigenere(message, key, direction): # by adding another variable called direction, you can change the direction of the encryption\n",
    "    key_index = 0\n",
    "    alphabet = 'abcdefghijklmnopqrstuvwxyz'\n",
    "    encrypted_text = ''\n",
    "\n",
    "    for char in message.lower():\n",
    "        # Append space to the message\n",
    "        if char == ' ':\n",
    "            encrypted_text += char\n",
    "        else:\n",
    "            # Find the right key character to encode\n",
    "            key_char = key[key_index % len(key)] # assigns the value of key at the index key_index mod the length of key\n",
    "            key_index += 1\n",
    "            \n",
    "            # Define the offset and the encrypted letter\n",
    "            offset = alphabet.index(key_char)\n",
    "            index = alphabet.find(char)\n",
    "            new_index = (index + offset * direction) % len(alphabet) # adding the direction to the offset\n",
    "            encrypted_text += alphabet[new_index]\n",
    "            \n",
    "    return encrypted_text\n",
    "\n",
    "encryption = vigenere(text, custom_key, 1)\n",
    "print(encryption)\n",
    "decryption = vigenere(encryption, custom_key, -1)\n",
    "print(decryption)"
   ]
  },
  {
   "cell_type": "code",
   "execution_count": 3,
   "metadata": {},
   "outputs": [
    {
     "name": "stdout",
     "output_type": "stream",
     "text": [
      "wcesc mpgkh!\n",
      "hello zaira!\n"
     ]
    }
   ],
   "source": [
    "text = 'Hello Zaira!'\n",
    "custom_key = 'python'\n",
    "\n",
    "def vigenere(message, key, direction=1): # some functions can have default arguments in them so for this we will have the default of direction be 1\n",
    "    key_index = 0\n",
    "    alphabet = 'abcdefghijklmnopqrstuvwxyz'\n",
    "    final_message = ''\n",
    "\n",
    "    for char in message.lower():\n",
    "        # Append any non-letter character to the message\n",
    "        if not char.isalpha(): # adding the not operator at the beginning of the if condition checks if the character is not alphabetic\n",
    "            final_message += char\n",
    "        else:\n",
    "            # Find the right key character to encode/decode\n",
    "            key_char = key[key_index % len(key)] # assigns the value of key at the index key_index mod the length of key\n",
    "            key_index += 1\n",
    "            \n",
    "            # Define the offset and the encrypted/decryption letter\n",
    "            offset = alphabet.index(key_char)\n",
    "            index = alphabet.find(char)\n",
    "            new_index = (index + offset * direction) % len(alphabet) # adding the direction to the offset\n",
    "            final_message += alphabet[new_index]\n",
    "            \n",
    "    return final_message\n",
    "def encrypt(message, key):\n",
    "    return vigenere(message, key)\n",
    "\n",
    "def decrypt(message, key):\n",
    "    return vigenere(message, key, -1)\n",
    "\n",
    "encryption = encrypt(text, custom_key)\n",
    "print(encryption)\n",
    "decryption = decrypt(encryption, custom_key)\n",
    "print(decryption)"
   ]
  },
  {
   "cell_type": "code",
   "execution_count": 4,
   "metadata": {},
   "outputs": [
    {
     "name": "stdout",
     "output_type": "stream",
     "text": [
      "\n",
      "Encrypted text: mrttaqrhknsw ih puggrur\n",
      "Key: happycoding\n",
      "\n",
      "Decrypted text: freecodecamp is awesome\n",
      "\n"
     ]
    }
   ],
   "source": [
    "text = 'mrttaqrhknsw ih puggrur'\n",
    "custom_key = 'happycoding'\n",
    "\n",
    "def vigenere(message, key, direction=1):\n",
    "    key_index = 0\n",
    "    alphabet = 'abcdefghijklmnopqrstuvwxyz'\n",
    "    final_message = ''\n",
    "\n",
    "    for char in message.lower():\n",
    "\n",
    "        # Append any non-letter character to the message\n",
    "        if not char.isalpha():\n",
    "            final_message += char\n",
    "        else:        \n",
    "            # Find the right key character to encode/decode\n",
    "            key_char = key[key_index % len(key)]\n",
    "            key_index += 1\n",
    "\n",
    "            # Define the offset and the encrypted/decrypted letter\n",
    "            offset = alphabet.index(key_char)\n",
    "            index = alphabet.find(char)\n",
    "            new_index = (index + offset*direction) % len(alphabet)\n",
    "            final_message += alphabet[new_index]\n",
    "    \n",
    "    return final_message\n",
    "\n",
    "def encrypt(message, key):\n",
    "    return vigenere(message, key)\n",
    "    \n",
    "def decrypt(message, key):\n",
    "    return vigenere(message, key, -1)\n",
    "\n",
    "print(f'\\nEncrypted text: {text}') # the \\n is for a new line\n",
    "print(f'Key: {custom_key}') # the f is an interpolation which is just a placeholder for the specified value you want to print\n",
    "decryption = decrypt(text, custom_key)\n",
    "print(f'\\nDecrypted text: {decryption}\\n')"
   ]
  },
  {
   "cell_type": "markdown",
   "metadata": {},
   "source": [
    "# Learn How to Work with Numbers and Strings by Implementing the Luhn Algorithm\n",
    "The Luhn Algorithm is widely used for error-checking in various applications, such as verifying credit card numbers.\n",
    "___\n",
    "*Things learned:*\n",
    "- numerical computations\n",
    "- string manipulation"
   ]
  },
  {
   "cell_type": "code",
   "execution_count": 3,
   "metadata": {},
   "outputs": [
    {
     "name": "stdout",
     "output_type": "stream",
     "text": [
      "4111111145551142\n"
     ]
    }
   ],
   "source": [
    "def main():\n",
    "    card_number = '4111-1111-4555-1142'\n",
    "    card_translation = str.maketrans({'-': '', ' ': ''}) # this is string manipulation where it makes a translation table that swaps certain string variables for others \n",
    "    translated_card_number = card_number.translate(card_translation) # to actually apply the translation table you need to use the translation method\n",
    "    print(translated_card_number)\n",
    "main()"
   ]
  },
  {
   "cell_type": "code",
   "execution_count": 8,
   "metadata": {},
   "outputs": [
    {
     "name": "stdout",
     "output_type": "stream",
     "text": [
      "41\n",
      "4111111145551142\n",
      "41\n"
     ]
    }
   ],
   "source": [
    "def verify_card_number(card_number): # now we are defining a function with a parameter called card_number\n",
    "    sum_of_odd_digits = 0\n",
    "    card_number_reversed = card_number[0:4:2] # slicing the card number to get the first four digits and skipping every other digit\n",
    "    print(card_number_reversed)\n",
    "\n",
    "def main():\n",
    "    card_number = '4111-1111-4555-1142'\n",
    "    card_translation = str.maketrans({'-': '', ' ': ''})\n",
    "    translated_card_number = card_number.translate(card_translation)\n",
    "    verify_card_number(translated_card_number) # now we are calling the function with the translated card number\n",
    "    print(translated_card_number)\n",
    "    verify_card_number(translated_card_number)\n",
    "\n",
    "main()"
   ]
  },
  {
   "cell_type": "code",
   "execution_count": null,
   "metadata": {},
   "outputs": [
    {
     "name": "stdout",
     "output_type": "stream",
     "text": [
      "2\n",
      "1\n",
      "5\n",
      "5\n",
      "1\n",
      "1\n",
      "1\n",
      "1\n"
     ]
    }
   ],
   "source": [
    "def verify_card_number(card_number):\n",
    "    sum_of_odd_digits = 0\n",
    "    card_number_reversed = card_number[::-1] # this reverses the card number\n",
    "    odd_digits = card_number_reversed[::2] # this slices the card number to get the odd digits\n",
    "    for digit in odd_digits: # now we want to loop through the odd digits\n",
    "        print(digit) # and print each digit on its own line\n",
    "\n",
    "def main():\n",
    "    card_number = '4111-1111-4555-1142'\n",
    "    card_translation = str.maketrans({'-': '', ' ': ''})\n",
    "    translated_card_number = card_number.translate(card_translation)\n",
    "    verify_card_number(translated_card_number)\n",
    "\n",
    "main()"
   ]
  },
  {
   "cell_type": "code",
   "execution_count": 10,
   "metadata": {},
   "outputs": [
    {
     "name": "stdout",
     "output_type": "stream",
     "text": [
      "2\n",
      "3\n",
      "8\n",
      "13\n",
      "14\n",
      "15\n",
      "16\n",
      "17\n"
     ]
    }
   ],
   "source": [
    "def verify_card_number(card_number):\n",
    "    sum_of_odd_digits = 0\n",
    "    card_number_reversed = card_number[::-1]\n",
    "    odd_digits = card_number_reversed[::2]\n",
    "\n",
    "    for digit in odd_digits:\n",
    "        sum_of_odd_digits += int(digit) # need to convert the digit to an integer before combining them\n",
    "        print(sum_of_odd_digits)\n",
    "\n",
    "def main():\n",
    "    card_number = '4111-1111-4555-1142'\n",
    "    card_translation = str.maketrans({'-': '', ' ': ''})\n",
    "    translated_card_number = card_number.translate(card_translation)\n",
    "\n",
    "    verify_card_number(translated_card_number)\n",
    "\n",
    "main()"
   ]
  },
  {
   "cell_type": "code",
   "execution_count": 11,
   "metadata": {},
   "outputs": [
    {
     "name": "stdout",
     "output_type": "stream",
     "text": [
      "VALID!\n"
     ]
    }
   ],
   "source": [
    "def verify_card_number(card_number):\n",
    "    sum_of_odd_digits = 0\n",
    "    card_number_reversed = card_number[::-1]\n",
    "    odd_digits = card_number_reversed[::2]\n",
    "\n",
    "    for digit in odd_digits:\n",
    "        sum_of_odd_digits += int(digit)\n",
    "\n",
    "    sum_of_even_digits = 0\n",
    "    even_digits = card_number_reversed[1::2]\n",
    "    for digit in even_digits:\n",
    "        number = int(digit) * 2\n",
    "        if number >= 10:\n",
    "            number = (number // 10) + (number % 10)\n",
    "        sum_of_even_digits += number\n",
    "    total = sum_of_odd_digits + sum_of_even_digits\n",
    "    return total % 10 == 0\n",
    "\n",
    "def main():\n",
    "    card_number = '4111-1111-4555-1142'\n",
    "    card_translation = str.maketrans({'-': '', ' ': ''})\n",
    "    translated_card_number = card_number.translate(card_translation)\n",
    "\n",
    "    if verify_card_number(translated_card_number): # this is saying that if the translated card number and verified card number are True, print VALID! otherwise print INVALID!\n",
    "        print('VALID!')\n",
    "    else:\n",
    "        print('INVALID!')\n",
    "\n",
    "main()"
   ]
  },
  {
   "cell_type": "markdown",
   "metadata": {},
   "source": [
    "# Learn Lambda Functions by Building an Expense Tracker\n",
    "Lambda functions give you a concise way to write small, throwaway functions in your code.\n",
    "___\n",
    "In this project, you'll explore the power of Lambda Functions by creating an expense tracker. Your resulting app will demonstrate how you can use Lambda Functions for efficient, streamlined operations."
   ]
  },
  {
   "cell_type": "code",
   "execution_count": 13,
   "metadata": {},
   "outputs": [
    {
     "name": "stdout",
     "output_type": "stream",
     "text": [
      "[4, 6, 10, 16]\n",
      "36\n"
     ]
    }
   ],
   "source": [
    "def add_expense(expenses, amount, category):\n",
    "    expenses.append({'amount': amount, 'category': category}) # we are adding a dictionary to the expenses list with the amount and category as keys\n",
    "def print_expenses(expenses): # this will print the expenses\n",
    "    for expense in expenses: # this will loop through each expense in expenses\n",
    "        print(f'Amount: {expense[\"amount\"]}, Category: {expense[\"category\"]}') # and print out the amount and category\n",
    "def total_expenses(expenses):\n",
    "    pass\n",
    "test = lambda x: x * 2 # this lambda function takes an x parameter and returns x * 2\n",
    "print(list(map(test, [2, 3, 5, 8]))) # the map function will apply the lambda function to each element in the list but to print it out into something readable we need to use the list function\n",
    "print(sum(map(test, [2, 3, 5, 8])))"
   ]
  },
  {
   "cell_type": "code",
   "execution_count": 14,
   "metadata": {},
   "outputs": [],
   "source": [
    "def add_expense(expenses, amount, category):\n",
    "    expenses.append({'amount': amount, 'category': category})\n",
    "    \n",
    "def print_expenses(expenses):\n",
    "    for expense in expenses:\n",
    "        print(f'Amount: {expense[\"amount\"]}, Category: {expense[\"category\"]}')\n",
    "    \n",
    "def total_expenses(expenses):\n",
    "    return sum(map(lambda expense: expense['amount'], expenses))\n",
    "    \n",
    "def filter_expenses_by_category(expenses, category):\n",
    "    return filter(lambda expense: expense['category'] == category, expenses) # this will filter the expenses by category\n",
    "\n",
    "expenses = []"
   ]
  },
  {
   "cell_type": "code",
   "execution_count": null,
   "metadata": {},
   "outputs": [],
   "source": [
    "def add_expense(expenses, amount, category):\n",
    "    expenses.append({'amount': amount, 'category': category})\n",
    "    \n",
    "def print_expenses(expenses):\n",
    "    for expense in expenses:\n",
    "        print(f'Amount: {expense[\"amount\"]}, Category: {expense[\"category\"]}')\n",
    "    \n",
    "def total_expenses(expenses):\n",
    "    return sum(map(lambda expense: expense['amount'], expenses))\n",
    "    \n",
    "def filter_expenses_by_category(expenses, category):\n",
    "    return filter(lambda expense: expense['category'] == category, expenses)\n",
    "    \n",
    "def main():\n",
    "    expenses = []\n",
    "    while True:\n",
    "        print('\\nExpense Tracker')\n",
    "        print('1. Add an expense')\n",
    "        print('2. List all expenses')\n",
    "        print('3. Show total expenses')\n",
    "        print('4. Filter expenses by category')\n",
    "        print('5. Exit')\n",
    "        \n",
    "        choice = input('Enter your choice: ') # this will prompt the user to enter their choice\n",
    "        if choice == '1':\n",
    "            amount = float(input('Enter amount: '))\n",
    "            category = input('Enter category: ')\n",
    "            add_expense(expenses, amount, category)\n",
    "\n",
    "        elif choice == '2':\n",
    "            print('\\nAll Expenses:')\n",
    "            print_expenses(expenses)\n",
    "    \n",
    "        elif choice == '3':\n",
    "            print('\\nTotal Expenses: ', total_expenses(expenses))\n",
    "    \n",
    "        elif choice == '4':\n",
    "            category = input('Enter category to filter: ')\n",
    "            print(f'\\nExpenses for {category}:')\n",
    "            expenses_from_category = filter_expenses_by_category(expenses, category)\n",
    "            print_expenses(expenses_from_category)\n",
    "    \n",
    "        elif choice == '5':\n",
    "            print('Exiting the program.')\n",
    "            break\n",
    "\n",
    "main()"
   ]
  },
  {
   "cell_type": "markdown",
   "metadata": {},
   "source": [
    "# Learn Python List Comprehension by Building a Case Converter Program\n",
    "\n",
    "List Comprehension is a way to construct a new Python list from an iterable types: lists, tuples, and strings. All without using a for loop or the `.append()` list method.\n",
    "___\n",
    "In this project, you'll write a program that takes a string formatted in Camel Case or Pascal Case, then converts it into Snake Case.\n",
    "___\n",
    "The project has two phases: first you'll use a for loop to implement the program. Then you'll learn how to use List Comprehension instead of a loop to achieve the same results."
   ]
  },
  {
   "cell_type": "code",
   "execution_count": 15,
   "metadata": {},
   "outputs": [
    {
     "name": "stdout",
     "output_type": "stream",
     "text": [
      "a_long_and_complex_string\n"
     ]
    }
   ],
   "source": [
    "def convert_to_snake_case(pascal_or_camel_cased_string):\n",
    "    snake_cased_char_list = []\n",
    "    for char in pascal_or_camel_cased_string:\n",
    "        if char.isupper():\n",
    "            converted_character = '_' + char.lower()\n",
    "            snake_cased_char_list.append(converted_character)\n",
    "        else:\n",
    "            snake_cased_char_list.append(char)\n",
    "    snake_cased_string = ''.join(snake_cased_char_list)\n",
    "    clean_snake_cased_string = snake_cased_string.strip('_')\n",
    "\n",
    "    return clean_snake_cased_string\n",
    "\n",
    "def main():\n",
    "    print(convert_to_snake_case('aLongAndComplexString'))\n",
    "main()"
   ]
  },
  {
   "cell_type": "code",
   "execution_count": 16,
   "metadata": {},
   "outputs": [
    {
     "name": "stdout",
     "output_type": "stream",
     "text": [
      "i_am_a_pascal_cased_string\n"
     ]
    }
   ],
   "source": [
    "def convert_to_snake_case(pascal_or_camel_cased_string):\n",
    "\n",
    "    snake_cased_char_list = [\n",
    "        '_' + char.lower() if char.isupper()\n",
    "        else char\n",
    "        for char in pascal_or_camel_cased_string\n",
    "    ]\n",
    "\n",
    "    return ''.join(snake_cased_char_list).strip('_')\n",
    "\n",
    "def main():\n",
    "    print(convert_to_snake_case('IAmAPascalCasedString'))\n",
    "\n",
    "    \n",
    "\n",
    "main()"
   ]
  },
  {
   "cell_type": "markdown",
   "metadata": {},
   "source": [
    "# Learn the Bisection Method by Finding the Square Root of a Number\n",
    "Numerical methods are used to approximate solutions to mathematical problems that are difficult or impossible to solve analytically.\n",
    "___\n",
    "In this project, you will explore the numerical method of bisection to find the square root of a number by iteratively narrowing down the possible range of values that contain the square root."
   ]
  },
  {
   "cell_type": "code",
   "execution_count": 20,
   "metadata": {},
   "outputs": [
    {
     "name": "stdout",
     "output_type": "stream",
     "text": [
      "The square root of 16 is approximately 4.0\n"
     ]
    },
    {
     "data": {
      "text/plain": [
       "4.0"
      ]
     },
     "execution_count": 20,
     "metadata": {},
     "output_type": "execute_result"
    }
   ],
   "source": [
    "def square_root_bisection(square_target, tolerance=1e-7, max_iterations=100):\n",
    "    if square_target < 0:\n",
    "        raise ValueError('Square root of negative number is not defined in real numbers')\n",
    "    if square_target == 1:\n",
    "        root = 1\n",
    "        print(f'The square root of {square_target} is 1')\n",
    "    elif square_target == 0:\n",
    "        root = 0\n",
    "        print(f'The square root of {square_target} is 0')\n",
    "\n",
    "    else:\n",
    "        low = 0\n",
    "        high = max(1, square_target)\n",
    "        root = None\n",
    "        \n",
    "        for _ in range(max_iterations):\n",
    "            mid = (low + high) / 2\n",
    "            square_mid = mid**2\n",
    "\n",
    "            if abs(square_mid - square_target) < tolerance:\n",
    "                root = mid\n",
    "                break\n",
    "\n",
    "            elif square_mid < square_target:\n",
    "                low = mid\n",
    "            else:\n",
    "                high = mid\n",
    "\n",
    "        if root is None:\n",
    "            print(f\"Failed to converge within {max_iterations} iterations.\")\n",
    "    \n",
    "        else:   \n",
    "            print(f'The square root of {square_target} is approximately {root}')\n",
    "    \n",
    "    return root\n",
    "\n",
    "N = 16\n",
    "square_root_bisection(N)"
   ]
  },
  {
   "cell_type": "markdown",
   "metadata": {},
   "source": [
    "# Build an Arithmetic Formatter\n",
    "The `arithmetic_arranger` function receives a lsit of strings which are arithmetic problems, and returns the problems arranged vertically and side-by-side. The function should optionally take a second argument. When the second argument is set to `True`, the answers should be displayed."
   ]
  },
  {
   "cell_type": "code",
   "execution_count": 21,
   "metadata": {},
   "outputs": [],
   "source": [
    "def arithmetic_arranger(problems, display_answers=False):\n",
    "    # Check if the number of problems exceeds 5\n",
    "    if len(problems) > 5:\n",
    "        return \"Error: Too many problems.\"\n",
    "    \n",
    "    first_line = []\n",
    "    second_line = []\n",
    "    dashes_line = []\n",
    "    answers_line = []\n",
    "    \n",
    "    for problem in problems:\n",
    "        parts = problem.split()\n",
    "        num1, operator, num2 = parts[0], parts[1], parts[2]\n",
    "        \n",
    "        # Check if the operator is valid\n",
    "        if operator not in ('+', '-'):\n",
    "            return \"Error: Operator must be '+' or '-'.\"\n",
    "        \n",
    "        # Check if numbers are digits\n",
    "        if not (num1.isdigit() and num2.isdigit()):\n",
    "            return \"Error: Numbers must only contain digits.\"\n",
    "        \n",
    "        # Check if numbers are within the four-digit limit\n",
    "        if len(num1) > 4 or len(num2) > 4:\n",
    "            return \"Error: Numbers cannot be more than four digits.\"\n",
    "        \n",
    "        # Determine the width of the formatted problem\n",
    "        width = max(len(num1), len(num2)) + 2  # Space for operator and at least one space\n",
    "        \n",
    "        # Format each line accordingly\n",
    "        first_line.append(num1.rjust(width))\n",
    "        second_line.append(operator + \" \" + num2.rjust(width - 2))\n",
    "        dashes_line.append(\"-\" * width)\n",
    "        \n",
    "        # If answers need to be displayed, compute and format them\n",
    "        if display_answers:\n",
    "            result = str(eval(num1 + operator + num2))  # Safe here because input is validated\n",
    "            answers_line.append(result.rjust(width))\n",
    "    \n",
    "    # Join the formatted components with four spaces between each problem\n",
    "    arranged_problems = \"    \".join(first_line) + \"\\n\" + \"    \".join(second_line) + \"\\n\" + \"    \".join(dashes_line)\n",
    "    \n",
    "    if display_answers:\n",
    "        arranged_problems += \"\\n\" + \"    \".join(answers_line)\n",
    "    \n",
    "    return arranged_problems\n"
   ]
  },
  {
   "cell_type": "code",
   "execution_count": 22,
   "metadata": {},
   "outputs": [
    {
     "data": {
      "text/plain": [
       "'  3801      123\\n-    2    +  49\\n------    -----'"
      ]
     },
     "execution_count": 22,
     "metadata": {},
     "output_type": "execute_result"
    }
   ],
   "source": [
    "# 1\n",
    "arithmetic_arranger([\"3801 - 2\", \"123 + 49\"])"
   ]
  },
  {
   "cell_type": "code",
   "execution_count": 23,
   "metadata": {},
   "outputs": [
    {
     "data": {
      "text/plain": [
       "'  1         1\\n+ 2    - 9380\\n---    ------'"
      ]
     },
     "execution_count": 23,
     "metadata": {},
     "output_type": "execute_result"
    }
   ],
   "source": [
    "# 2\n",
    "arithmetic_arranger([\"1 + 2\", \"1 - 9380\"])"
   ]
  },
  {
   "cell_type": "code",
   "execution_count": 24,
   "metadata": {},
   "outputs": [
    {
     "data": {
      "text/plain": [
       "'    3      3801      45      123\\n+ 855    -    2    + 43    +  49\\n-----    ------    ----    -----'"
      ]
     },
     "execution_count": 24,
     "metadata": {},
     "output_type": "execute_result"
    }
   ],
   "source": [
    "# 3\n",
    "arithmetic_arranger([\"3 + 855\", \"3801 - 2\", \"45 + 43\", \"123 + 49\"])"
   ]
  },
  {
   "cell_type": "code",
   "execution_count": 25,
   "metadata": {},
   "outputs": [
    {
     "data": {
      "text/plain": [
       "'  11      3801      1      123         1\\n+  4    - 2999    + 2    +  49    - 9380\\n----    ------    ---    -----    ------'"
      ]
     },
     "execution_count": 25,
     "metadata": {},
     "output_type": "execute_result"
    }
   ],
   "source": [
    "# 4\n",
    "arithmetic_arranger([\"11 + 4\", \"3801 - 2999\", \"1 + 2\", \"123 + 49\", \"1 - 9380\"])"
   ]
  },
  {
   "cell_type": "code",
   "execution_count": 26,
   "metadata": {},
   "outputs": [
    {
     "data": {
      "text/plain": [
       "'Error: Too many problems.'"
      ]
     },
     "execution_count": 26,
     "metadata": {},
     "output_type": "execute_result"
    }
   ],
   "source": [
    "# 5\n",
    "arithmetic_arranger([\"44 + 815\", \"909 - 2\", \"45 + 43\", \"123 + 49\", \"888 + 40\", \"653 + 87\"])"
   ]
  },
  {
   "cell_type": "code",
   "execution_count": 27,
   "metadata": {},
   "outputs": [
    {
     "data": {
      "text/plain": [
       "\"Error: Operator must be '+' or '-'.\""
      ]
     },
     "execution_count": 27,
     "metadata": {},
     "output_type": "execute_result"
    }
   ],
   "source": [
    "# 6\n",
    "arithmetic_arranger([\"3 / 855\", \"3801 - 2\", \"45 + 43\", \"123 + 49\"])"
   ]
  },
  {
   "cell_type": "code",
   "execution_count": 28,
   "metadata": {},
   "outputs": [
    {
     "data": {
      "text/plain": [
       "'Error: Numbers cannot be more than four digits.'"
      ]
     },
     "execution_count": 28,
     "metadata": {},
     "output_type": "execute_result"
    }
   ],
   "source": [
    "# 7\n",
    "arithmetic_arranger([\"24 + 85215\", \"3801 - 2\", \"45 + 43\", \"123 + 49\"])"
   ]
  },
  {
   "cell_type": "code",
   "execution_count": 29,
   "metadata": {},
   "outputs": [
    {
     "data": {
      "text/plain": [
       "'Error: Numbers must only contain digits.'"
      ]
     },
     "execution_count": 29,
     "metadata": {},
     "output_type": "execute_result"
    }
   ],
   "source": [
    "# 8\n",
    "arithmetic_arranger([\"98 + 3g5\", \"3801 - 2\", \"45 + 43\", \"123 + 49\"])"
   ]
  },
  {
   "cell_type": "code",
   "execution_count": 30,
   "metadata": {},
   "outputs": [
    {
     "data": {
      "text/plain": [
       "'    3      988\\n+ 855    +  40\\n-----    -----\\n  858     1028'"
      ]
     },
     "execution_count": 30,
     "metadata": {},
     "output_type": "execute_result"
    }
   ],
   "source": [
    "# 9\n",
    "arithmetic_arranger([\"3 + 855\", \"988 + 40\"], True)"
   ]
  },
  {
   "cell_type": "code",
   "execution_count": 31,
   "metadata": {},
   "outputs": [
    {
     "data": {
      "text/plain": [
       "'   32         1      45      123      988\\n- 698    - 3801    + 43    +  49    +  40\\n-----    ------    ----    -----    -----\\n -666     -3800      88      172     1028'"
      ]
     },
     "execution_count": 31,
     "metadata": {},
     "output_type": "execute_result"
    }
   ],
   "source": [
    "# 10\n",
    "arithmetic_arranger([\"32 - 698\", \"1 - 3801\", \"45 + 43\", \"123 + 49\", \"988 + 40\"], True)"
   ]
  },
  {
   "cell_type": "markdown",
   "metadata": {},
   "source": [
    "# Learn Regular Expressions by Building a Password Generator\n",
    "A Python module is a file that contains a set of statements and definitions that you can use in your code.\n",
    "___\n",
    "In this project, you'll learn how to import modules from the Python standard library. You'll also learn how to use Regular Expressions by building your password generator program."
   ]
  },
  {
   "cell_type": "code",
   "execution_count": 32,
   "metadata": {},
   "outputs": [
    {
     "name": "stdout",
     "output_type": "stream",
     "text": [
      "abcdefghijklmnopqrstuvwxyzABCDEFGHIJKLMNOPQRSTUVWXYZ0123456789!\"#$%&'()*+,-./:;<=>?@[\\]^_`{|}~\n"
     ]
    }
   ],
   "source": [
    "import random\n",
    "import string # this module has a lot of string functions\n",
    "\n",
    "\n",
    "# Define the possible characters for the password\n",
    "letters = string.ascii_letters\n",
    "digits = string.digits\n",
    "symbols = string.punctuation\n",
    "\n",
    "# Combine all characters\n",
    "all_characters = letters + digits + symbols\n",
    "\n",
    "print(all_characters)"
   ]
  },
  {
   "cell_type": "code",
   "execution_count": 33,
   "metadata": {},
   "outputs": [
    {
     "name": "stdout",
     "output_type": "stream",
     "text": [
      "abcdefghijklmnopqrstuvwxyzABCDEFGHIJKLMNOPQRSTUVWXYZ0123456789!\"#$%&'()*+,-./:;<=>?@[\\]^_`{|}~\n",
      "0.8367320758355695\n"
     ]
    }
   ],
   "source": [
    "import random # the random module contains a pseudo-random number generator\n",
    "import string\n",
    "\n",
    "\n",
    "# Define the possible characters for the password\n",
    "letters = string.ascii_letters\n",
    "digits = string.digits\n",
    "symbols = string.punctuation\n",
    "\n",
    "# Combine all characters\n",
    "all_characters = letters + digits + symbols\n",
    "\n",
    "print(all_characters)\n",
    "print(random.random()) # returns a random float between 0 and 1"
   ]
  },
  {
   "cell_type": "code",
   "execution_count": 34,
   "metadata": {},
   "outputs": [
    {
     "name": "stdout",
     "output_type": "stream",
     "text": [
      "abcdefghijklmnopqrstuvwxyzABCDEFGHIJKLMNOPQRSTUVWXYZ0123456789!\"#$%&'()*+,-./:;<=>?@[\\]^_`{|}~\n",
      "a\n"
     ]
    }
   ],
   "source": [
    "import random\n",
    "import string\n",
    "\n",
    "\n",
    "# Define the possible characters for the password\n",
    "letters = string.ascii_letters\n",
    "digits = string.digits\n",
    "symbols = string.punctuation\n",
    "\n",
    "# Combine all characters\n",
    "all_characters = letters + digits + symbols\n",
    "\n",
    "print(all_characters)\n",
    "print(random.choice(all_characters)) # returns a random character from the string"
   ]
  },
  {
   "cell_type": "code",
   "execution_count": 37,
   "metadata": {},
   "outputs": [
    {
     "name": "stdout",
     "output_type": "stream",
     "text": [
      "abcdefghijklmnopqrstuvwxyzABCDEFGHIJKLMNOPQRSTUVWXYZ0123456789!\"#$%&'()*+,-./:;<=>?@[\\]^_`{|}~\n",
      "|\n"
     ]
    }
   ],
   "source": [
    "import secrets\n",
    "import string\n",
    "\n",
    "\n",
    "# Define the possible characters for the password\n",
    "letters = string.ascii_letters\n",
    "digits = string.digits\n",
    "symbols = string.punctuation\n",
    "\n",
    "# Combine all characters\n",
    "all_characters = letters + digits + symbols\n",
    "\n",
    "print(all_characters)\n",
    "print(secrets.choice(all_characters)) # using secrets ensures you don't get the same character twice in a row"
   ]
  },
  {
   "cell_type": "code",
   "execution_count": null,
   "metadata": {},
   "outputs": [],
   "source": [
    "import re\n",
    "import secrets\n",
    "import string\n",
    "\n",
    "\n",
    "def generate_password(length, nums, special_chars, uppercase, lowercase):\n",
    "    # Define the possible characters for the password\n",
    "    letters = string.ascii_letters\n",
    "    digits = string.digits\n",
    "    symbols = string.punctuation\n",
    "\n",
    "    # Combine all characters\n",
    "    all_characters = letters + digits + symbols\n",
    "\n",
    "    while True:\n",
    "        password = ''\n",
    "        # Generate password\n",
    "        for _ in range(length):\n",
    "            password += secrets.choice(all_characters)\n",
    "        \n",
    "        constraints = [\n",
    "            (nums, r'\\d'), # matches any digit\n",
    "            (lowercase, r'[a-z]'),\n",
    "            (uppercase, r'[A-Z]'),\n",
    "            (special_chars, r'\\W') # matches any non-word character\n",
    "        ]        \n",
    "\n",
    "    return password\n",
    "    \n",
    "# new_password = generate_password(8)\n",
    "# print(new_password)\n",
    "pattern = r'\\W' # matches any non-word character\n",
    "quote = 'Not all those who wander are lost.'\n",
    "print(re.findall(pattern, quote))"
   ]
  },
  {
   "cell_type": "code",
   "execution_count": 1,
   "metadata": {},
   "outputs": [
    {
     "name": "stdout",
     "output_type": "stream",
     "text": [
      "Dw}7^_#0\n"
     ]
    }
   ],
   "source": [
    "import re\n",
    "import secrets\n",
    "import string\n",
    "\n",
    "\n",
    "def generate_password(length, nums, special_chars, uppercase, lowercase):\n",
    "    # Define the possible characters for the password\n",
    "    letters = string.ascii_letters\n",
    "    digits = string.digits\n",
    "    symbols = string.punctuation\n",
    "\n",
    "    # Combine all characters\n",
    "    all_characters = letters + digits + symbols\n",
    "\n",
    "    while True:\n",
    "        password = ''\n",
    "        # Generate password\n",
    "        for _ in range(length):\n",
    "            password += secrets.choice(all_characters)\n",
    "       \n",
    "        constraints = [\n",
    "            (nums, r'\\d'),\n",
    "            (lowercase, r'[a-z]'),\n",
    "            (uppercase, r'[A-Z]'),            \n",
    "            (special_chars, fr'[{symbols}]')            \n",
    "        ]\n",
    "        \n",
    "        # Check constraints        \n",
    "        if all(                                                # the all() function returns True if all the constraints are met\n",
    "            constraint <= len(re.findall(pattern, password))   # this is a list comprehension\n",
    "            for constraint, pattern in constraints             # for each constraint, check if the number of matches is greater than or equal to the constraint\n",
    "        ):\n",
    "            break\n",
    "\n",
    "    return password\n",
    "    \n",
    "new_password = generate_password(8, 1, 1, 1, 1)\n",
    "print(new_password)"
   ]
  },
  {
   "cell_type": "code",
   "execution_count": null,
   "metadata": {},
   "outputs": [],
   "source": [
    "import re\n",
    "import secrets\n",
    "import string\n",
    "\n",
    "\n",
    "def generate_password(length=16, nums=1, special_chars=1, uppercase=1, lowercase=1):\n",
    "    # Define the possible characters for the password\n",
    "    letters = string.ascii_letters\n",
    "    digits = string.digits\n",
    "    symbols = string.punctuation\n",
    "\n",
    "    # Combine all characters\n",
    "    all_characters = letters + digits + symbols\n",
    "\n",
    "    while True:\n",
    "        password = ''\n",
    "        # Generate password\n",
    "        for _ in range(length):\n",
    "            password += secrets.choice(all_characters)\n",
    "        \n",
    "        constraints = [\n",
    "            (nums, r'\\d'),\n",
    "            (special_chars, fr'[{symbols}]'),\n",
    "            (uppercase, r'[A-Z]'),\n",
    "            (lowercase, r'[a-z]')\n",
    "        ]\n",
    "\n",
    "        # Check constraints        \n",
    "        if all(\n",
    "            constraint <= len(re.findall(pattern, password))\n",
    "            for constraint, pattern in constraints\n",
    "        ):\n",
    "            break\n",
    "    \n",
    "    return password\n",
    "\n",
    "if __name__ == '__main__':\n",
    "    new_password = generate_password(length=8) # the function will default to the parameters that are set as default unless you specify anything different \n",
    "    print(new_password)"
   ]
  },
  {
   "cell_type": "markdown",
   "metadata": {},
   "source": [
    "# Learn Algorithm Design by Building a Shortest Path Algorithm\n",
    "Algorithms are step-by-step procedures that developers use to perform calculations and solve computational problems.\n",
    "___\n",
    "In this project, you'll learn how to use functions, loops, conditional statements, and dictionary comprehensions to implement a Shortest Path algorithm."
   ]
  },
  {
   "cell_type": "code",
   "execution_count": 2,
   "metadata": {},
   "outputs": [
    {
     "name": "stdout",
     "output_type": "stream",
     "text": [
      "{'species': 'guinea pig', 'age': 2, 'food': 'hay'}\n"
     ]
    }
   ],
   "source": [
    "copper = {\n",
    "    'species': 'guinea pig',\n",
    "    'age': 2\n",
    "} # this is a dictionary with 2 key-value pairs\n",
    "copper['food'] = 'hay' # this is how to add a new key-value pair\n",
    "\n",
    "print(copper)"
   ]
  },
  {
   "cell_type": "code",
   "execution_count": 3,
   "metadata": {},
   "outputs": [
    {
     "name": "stdout",
     "output_type": "stream",
     "text": [
      "{'species': 'Cavia porcellus', 'age': 2, 'food': 'hay'}\n"
     ]
    }
   ],
   "source": [
    "copper = {\n",
    "    'species': 'guinea pig',\n",
    "    'age': 2\n",
    "}\n",
    "copper['food'] = 'hay'\n",
    "copper['species'] = 'Cavia porcellus' # you can even change the value of an existing key\n",
    "\n",
    "print(copper)"
   ]
  },
  {
   "cell_type": "code",
   "execution_count": null,
   "metadata": {},
   "outputs": [
    {
     "name": "stdout",
     "output_type": "stream",
     "text": [
      "Cavia porcellus\n",
      "2\n",
      "hay\n"
     ]
    }
   ],
   "source": [
    "copper = {\n",
    "    'species': 'guinea pig',\n",
    "    'age': 2\n",
    "}\n",
    "copper['food'] = 'hay'\n",
    "copper['species'] = 'Cavia porcellus'\n",
    "\n",
    "for i in copper.values(): # this will print the values\n",
    "    print(i)"
   ]
  },
  {
   "cell_type": "code",
   "execution_count": null,
   "metadata": {},
   "outputs": [
    {
     "name": "stdout",
     "output_type": "stream",
     "text": [
      "('species', 'Cavia porcellus')\n",
      "('age', 2)\n",
      "('food', 'hay')\n"
     ]
    }
   ],
   "source": [
    "copper = {\n",
    "    'species': 'guinea pig',\n",
    "    'age': 2\n",
    "}\n",
    "copper['food'] = 'hay'\n",
    "copper['species'] = 'Cavia porcellus'\n",
    "\n",
    "for i in copper.items(): # this will print the key-value pairs\n",
    "    print(i)"
   ]
  },
  {
   "cell_type": "code",
   "execution_count": 7,
   "metadata": {},
   "outputs": [
    {
     "name": "stdout",
     "output_type": "stream",
     "text": [
      "species Cavia porcellus\n",
      "age 2\n",
      "food hay\n"
     ]
    }
   ],
   "source": [
    "copper = {\n",
    "    'species': 'guinea pig',\n",
    "    'age': 2\n",
    "}\n",
    "copper['food'] = 'hay'\n",
    "copper['species'] = 'Cavia porcellus'\n",
    "\n",
    "for i, j in copper.items(): # this will create a second variable and print the key-value pairs\n",
    "    print(i, j)"
   ]
  },
  {
   "cell_type": "code",
   "execution_count": 6,
   "metadata": {},
   "outputs": [
    {
     "name": "stdout",
     "output_type": "stream",
     "text": [
      "species Cavia porcellus\n",
      "food hay\n"
     ]
    }
   ],
   "source": [
    "copper = {\n",
    "    'species': 'guinea pig',\n",
    "    'age': 2\n",
    "}\n",
    "copper['food'] = 'hay'\n",
    "copper['species'] = 'Cavia porcellus'\n",
    "del copper['age'] # this will delete the key-value pair\n",
    "\n",
    "for i, j in copper.items():\n",
    "    print(i, j)"
   ]
  },
  {
   "cell_type": "code",
   "execution_count": 1,
   "metadata": {},
   "outputs": [
    {
     "name": "stdout",
     "output_type": "stream",
     "text": [
      "Unvisited: ['A', 'B', 'C', 'D']\n",
      "Distances: {'A': 0, 'B': inf, 'C': inf, 'D': inf}\n"
     ]
    }
   ],
   "source": [
    "my_graph = {\n",
    "    'A': [('B', 3), ('D', 1)],\n",
    "    'B': [('A', 3), ('C', 4)],\n",
    "    'C': [('B', 4), ('D', 7)],\n",
    "    'D': [('A', 1), ('C', 7)]\n",
    "}\n",
    "\n",
    "def shortest_path(graph, start):\n",
    "    unvisited = []\n",
    "    distances = {}\n",
    "    for node in graph:\n",
    "        unvisited.append(node)\n",
    "        if node == start:\n",
    "            distances[node] = 0\n",
    "        else:\n",
    "            distances[node] = float('inf')\n",
    "    print(f'Unvisited: {unvisited}\\nDistances: {distances}')\n",
    "\n",
    "shortest_path(my_graph,'A')"
   ]
  },
  {
   "cell_type": "code",
   "execution_count": 2,
   "metadata": {},
   "outputs": [
    {
     "name": "stdout",
     "output_type": "stream",
     "text": [
      "Unvisited: ['A', 'B', 'C', 'D']\n",
      "Distances: {'A': 0, 'B': inf, 'C': inf, 'D': inf}\n"
     ]
    }
   ],
   "source": [
    "my_graph = {\n",
    "    'A': [('B', 3), ('D', 1)],\n",
    "    'B': [('A', 3), ('C', 4)],\n",
    "    'C': [('B', 4), ('D', 7)],\n",
    "    'D': [('A', 1), ('C', 7)]\n",
    "}\n",
    "def shortest_path(graph, start):\n",
    "    unvisited = list(graph)\n",
    "    distances = {node: 0 if node == start else float('inf') for node in graph} # this is a dictionary comprehension that creates a dictionary with the keys as the nodes in the graph and the values as 0 if the node is the start node, and float('inf') if the node is not the start node\n",
    "    paths = {node: [] for node in graph}\n",
    "    \n",
    "    print(f'Unvisited: {unvisited}\\nDistances: {distances}')\n",
    "    \n",
    "shortest_path(my_graph, 'A')"
   ]
  },
  {
   "cell_type": "code",
   "execution_count": 1,
   "metadata": {},
   "outputs": [
    {
     "name": "stdout",
     "output_type": "stream",
     "text": [
      "Unvisited: []\n",
      "Distances: {'A': 0, 'B': 3, 'C': 7, 'D': 1}\n",
      "Paths: {'A': ['A'], 'B': ['A', 'B', 'C'], 'C': ['A', 'B', 'C'], 'D': ['A', 'D']}\n"
     ]
    }
   ],
   "source": [
    "my_graph = {\n",
    "    'A': [('B', 3), ('D', 1)],\n",
    "    'B': [('A', 3), ('C', 4)],\n",
    "    'C': [('B', 4), ('D', 7)],\n",
    "    'D': [('A', 1), ('C', 7)]\n",
    "}\n",
    "\n",
    "def shortest_path(graph, start):\n",
    "    unvisited = list(graph)\n",
    "    distances = {node: 0 if node == start else float('inf') for node in graph}\n",
    "    paths = {node: [] for node in graph}\n",
    "    paths[start].append(start)\n",
    "    \n",
    "    while unvisited:\n",
    "        current = min(unvisited, key=distances.get)\n",
    "        for node, distance in graph[current]:\n",
    "            if distance + distances[current] < distances[node]:\n",
    "                distances[node] = distance + distances[current]\n",
    "                if paths[node] and paths[node][-1] == node:\n",
    "                    paths[node] = paths[current]\n",
    "\n",
    "                else:\n",
    "                    paths[node].extend(paths[current])\n",
    "                paths[node].append(node)\n",
    "        unvisited.remove(current)\n",
    "    \n",
    "    print(f'Unvisited: {unvisited}\\nDistances: {distances}\\nPaths: {paths}')\n",
    "    \n",
    "shortest_path(my_graph, 'A')"
   ]
  },
  {
   "cell_type": "code",
   "execution_count": 2,
   "metadata": {},
   "outputs": [
    {
     "name": "stdout",
     "output_type": "stream",
     "text": [
      "\n",
      "A-F distance: 6\n",
      "Path: A -> C -> B -> F\n"
     ]
    },
    {
     "data": {
      "text/plain": [
       "({'A': 0, 'B': 4, 'C': 3, 'D': 4, 'E': 8, 'F': 6},\n",
       " {'A': ['A'],\n",
       "  'B': ['A', 'C', 'B'],\n",
       "  'C': ['A', 'C'],\n",
       "  'D': ['A', 'C', 'D'],\n",
       "  'E': ['A', 'C', 'E'],\n",
       "  'F': ['A', 'C', 'B', 'F']})"
      ]
     },
     "execution_count": 2,
     "metadata": {},
     "output_type": "execute_result"
    }
   ],
   "source": [
    "my_graph = {\n",
    "    'A': [('B', 5), ('C', 3), ('E', 11)],\n",
    "    'B': [('A', 5), ('C', 1), ('F', 2)],\n",
    "    'C': [('A', 3), ('B', 1), ('D', 1), ('E', 5)],\n",
    "    'D': [('C',1 ), ('E', 9), ('F', 3)],\n",
    "    'E': [('A', 11), ('C', 5), ('D', 9)],\n",
    "    'F': [('B', 2), ('D', 3)]\n",
    "}\n",
    "\n",
    "def shortest_path(graph, start, target = ''):\n",
    "    unvisited = list(graph)\n",
    "    distances = {node: 0 if node == start else float('inf') for node in graph}\n",
    "    paths = {node: [] for node in graph}\n",
    "    paths[start].append(start)\n",
    "    \n",
    "    while unvisited:\n",
    "        current = min(unvisited, key=distances.get)\n",
    "        for node, distance in graph[current]:\n",
    "            if distance + distances[current] < distances[node]:\n",
    "                distances[node] = distance + distances[current]\n",
    "                if paths[node] and paths[node][-1] == node:\n",
    "                    paths[node] = paths[current][:]\n",
    "                else:\n",
    "                    paths[node].extend(paths[current])\n",
    "                paths[node].append(node)\n",
    "        unvisited.remove(current)\n",
    "    \n",
    "    targets_to_print = [target] if target else graph\n",
    "    for node in targets_to_print:\n",
    "        if node == start:\n",
    "            continue\n",
    "        print(f'\\n{start}-{node} distance: {distances[node]}\\nPath: {\" -> \".join(paths[node])}')\n",
    "    \n",
    "    return distances, paths\n",
    "    \n",
    "shortest_path(my_graph, 'A', 'F')"
   ]
  },
  {
   "cell_type": "markdown",
   "metadata": {},
   "source": [
    "# Learn Recursion by Solving the Tower of Hanoi Puzzle\n",
    "Recursion is a programming approach that allows you to solve complicated computational problems with just a little code.\n",
    "___\n",
    "In this project, you'll start with a loop-based approach to solving the tower of Hanoi mathematical puzzle. Then you'll learn how to implement a recursive solution. The puzzle consists of three rods and a number of disks of difference diameters.\n",
    "\n",
    "**Goal:** Moving the disks from the first rod to the third rod, following specific rules that restrict placing a larger disk on top of a smaller one."
   ]
  },
  {
   "cell_type": "code",
   "execution_count": 1,
   "metadata": {},
   "outputs": [
    {
     "name": "stdout",
     "output_type": "stream",
     "text": [
      "<class 'range'>\n"
     ]
    }
   ],
   "source": [
    "rods = {\n",
    "    'A': range(3, 0, -1), # range(start, stop, step)\n",
    "    'B': [],\n",
    "    'C': []\n",
    "}\n",
    "print(type(rods['A'])) # doing this causes 'A' to be a range but we want it to be a list"
   ]
  },
  {
   "cell_type": "code",
   "execution_count": null,
   "metadata": {},
   "outputs": [
    {
     "name": "stdout",
     "output_type": "stream",
     "text": [
      "<class 'list'>\n"
     ]
    }
   ],
   "source": [
    "rods = {\n",
    "    'A': list(range(3, 0, -1)), # now by passing the range through a list\n",
    "    'B': [],\n",
    "    'C': []\n",
    "}\n",
    "print(type(rods['A'])) # it will print that the type of 'A' is a list"
   ]
  },
  {
   "cell_type": "code",
   "execution_count": 3,
   "metadata": {},
   "outputs": [
    {
     "name": "stdout",
     "output_type": "stream",
     "text": [
      "{'A': [3, 2, 1], 'B': [], 'C': []}\n"
     ]
    }
   ],
   "source": [
    "NUMBER_OF_DISKS = 3\n",
    "number_of_moves = 2**NUMBER_OF_DISKS - 1  # the puzzle can be solved in 2^n - 1 moves, where n is the number of disks\n",
    "rods = {\n",
    "    'A': list(range(NUMBER_OF_DISKS, 0, -1)),\n",
    "    'B': [],\n",
    "    'C': []\n",
    "}\n",
    "def move():\n",
    "    print(rods)\n",
    "\n",
    "move()"
   ]
  },
  {
   "cell_type": "code",
   "execution_count": 4,
   "metadata": {},
   "outputs": [
    {
     "name": "stdout",
     "output_type": "stream",
     "text": [
      "{'A': [3, 2, 1], 'B': [], 'C': []}\n",
      "Move 1 allowed between A and C\n",
      "Move 2 allowed between A and B\n",
      "Move 3 allowed between B and C\n",
      "Move 4 allowed between A and C\n",
      "Move 5 allowed between A and B\n",
      "Move 6 allowed between B and C\n",
      "Move 7 allowed between A and C\n"
     ]
    }
   ],
   "source": [
    "# iterative approach to the problem\n",
    "\n",
    "NUMBER_OF_DISKS = 3\n",
    "number_of_moves = 2**NUMBER_OF_DISKS - 1\n",
    "rods = {\n",
    "    'A': list(range(NUMBER_OF_DISKS, 0, -1)),\n",
    "    'B': [],\n",
    "    'C': []\n",
    "}\n",
    "\n",
    "def move(n, source, auxiliary, target):\n",
    "    # display starting configuration\n",
    "    print(rods)\n",
    "    for i in range(number_of_moves):\n",
    "        remainder = (i + 1) % 3\n",
    "        if remainder == 1:\n",
    "            print(f'Move {i + 1} allowed between {source} and {target}')\n",
    "        elif remainder == 2:\n",
    "            print(f'Move {i + 1} allowed between {source} and {auxiliary}')\n",
    "        elif remainder == 0:\n",
    "            print(f'Move {i + 1} allowed between {auxiliary} and {target}')\n",
    "\n",
    "# initiate call from source A to target C with auxiliary B\n",
    "move(NUMBER_OF_DISKS, 'A', 'B', 'C')"
   ]
  },
  {
   "cell_type": "code",
   "execution_count": 7,
   "metadata": {},
   "outputs": [
    {
     "name": "stdout",
     "output_type": "stream",
     "text": [
      "{'A': [4, 3, 2, 1], 'B': [], 'C': []} \n",
      "\n",
      "Move 1 allowed between A and B\n",
      "Moving disk 1 from A to B\n",
      "{'A': [4, 3, 2], 'B': [1], 'C': []} \n",
      "\n",
      "Move 2 allowed between A and C\n",
      "Moving disk 2 from A to C\n",
      "{'A': [4, 3], 'B': [1], 'C': [2]} \n",
      "\n",
      "Move 3 allowed between B and C\n",
      "Moving disk 1 from B to C\n",
      "{'A': [4, 3], 'B': [], 'C': [2, 1]} \n",
      "\n",
      "Move 4 allowed between A and B\n",
      "Moving disk 3 from A to B\n",
      "{'A': [4], 'B': [3], 'C': [2, 1]} \n",
      "\n",
      "Move 5 allowed between A and C\n",
      "Moving disk 1 from C to A\n",
      "{'A': [4, 1], 'B': [3], 'C': [2]} \n",
      "\n",
      "Move 6 allowed between B and C\n",
      "Moving disk 2 from C to B\n",
      "{'A': [4, 1], 'B': [3, 2], 'C': []} \n",
      "\n",
      "Move 7 allowed between A and B\n",
      "Moving disk 1 from A to B\n",
      "{'A': [4], 'B': [3, 2, 1], 'C': []} \n",
      "\n",
      "Move 8 allowed between A and C\n",
      "Moving disk 4 from A to C\n",
      "{'A': [], 'B': [3, 2, 1], 'C': [4]} \n",
      "\n",
      "Move 9 allowed between B and C\n",
      "Moving disk 1 from B to C\n",
      "{'A': [], 'B': [3, 2], 'C': [4, 1]} \n",
      "\n",
      "Move 10 allowed between A and B\n",
      "Moving disk 2 from B to A\n",
      "{'A': [2], 'B': [3], 'C': [4, 1]} \n",
      "\n",
      "Move 11 allowed between A and C\n",
      "Moving disk 1 from C to A\n",
      "{'A': [2, 1], 'B': [3], 'C': [4]} \n",
      "\n",
      "Move 12 allowed between B and C\n",
      "Moving disk 3 from B to C\n",
      "{'A': [2, 1], 'B': [], 'C': [4, 3]} \n",
      "\n",
      "Move 13 allowed between A and B\n",
      "Moving disk 1 from A to B\n",
      "{'A': [2], 'B': [1], 'C': [4, 3]} \n",
      "\n",
      "Move 14 allowed between A and C\n",
      "Moving disk 2 from A to C\n",
      "{'A': [], 'B': [1], 'C': [4, 3, 2]} \n",
      "\n",
      "Move 15 allowed between B and C\n",
      "Moving disk 1 from B to C\n",
      "{'A': [], 'B': [], 'C': [4, 3, 2, 1]} \n",
      "\n"
     ]
    }
   ],
   "source": [
    "NUMBER_OF_DISKS = 4\n",
    "number_of_moves = 2 ** NUMBER_OF_DISKS - 1\n",
    "rods = {\n",
    "    'A': list(range(NUMBER_OF_DISKS, 0, -1)),\n",
    "    'B': [],\n",
    "    'C': []\n",
    "}\n",
    "\n",
    "def make_allowed_move(rod1, rod2):\n",
    "    forward = False\n",
    "    if not rods[rod2]:\n",
    "        forward = True\n",
    "    elif rods[rod1] and rods[rod1][-1] < rods[rod2][-1]:\n",
    "        forward = True\n",
    "    if forward:\n",
    "        print(f'Moving disk {rods[rod1][-1]} from {rod1} to {rod2}')\n",
    "        rods[rod2].append(rods[rod1].pop())\n",
    "    else:\n",
    "        print(f'Moving disk {rods[rod2][-1]} from {rod2} to {rod1}')\n",
    "        rods[rod1].append(rods[rod2].pop())\n",
    "\n",
    "    # display our progress\n",
    "    print(rods, '\\n')\n",
    "\n",
    "def move(n, source, auxiliary, target):\n",
    "    # display starting configuration\n",
    "    print(rods, '\\n')\n",
    "    for i in range(number_of_moves):\n",
    "        remainder = (i + 1) % 3\n",
    "        if remainder == 1:\n",
    "            if n % 2 != 0:\n",
    "                print(f'Move {i + 1} allowed between {source} and {target}')\n",
    "                make_allowed_move(source, target)\n",
    "            else:\n",
    "                print(f'Move {i + 1} allowed between {source} and {auxiliary}')\n",
    "                make_allowed_move(source, auxiliary)\n",
    "        elif remainder == 2:\n",
    "            if n % 2 != 0:\n",
    "                print(f'Move {i + 1} allowed between {source} and {auxiliary}')\n",
    "                make_allowed_move(source, auxiliary)\n",
    "            else:\n",
    "                print(f'Move {i + 1} allowed between {source} and {target}')\n",
    "                make_allowed_move(source, target)\n",
    "        elif remainder == 0:\n",
    "            print(f'Move {i + 1} allowed between {auxiliary} and {target}')\n",
    "            make_allowed_move(auxiliary, target)\n",
    "\n",
    "# initiate call from source A to target C with auxiliary B\n",
    "move(NUMBER_OF_DISKS, 'A', 'B', 'C')"
   ]
  },
  {
   "cell_type": "code",
   "execution_count": 8,
   "metadata": {},
   "outputs": [
    {
     "name": "stdout",
     "output_type": "stream",
     "text": [
      "[5, 4, 3, 2] [] [1] \n",
      "\n",
      "[5, 4, 3] [2] [1] \n",
      "\n",
      "[5, 4, 3] [2, 1] [] \n",
      "\n",
      "[5, 4] [2, 1] [3] \n",
      "\n",
      "[5, 4, 1] [2] [3] \n",
      "\n",
      "[5, 4, 1] [] [3, 2] \n",
      "\n",
      "[5, 4] [] [3, 2, 1] \n",
      "\n",
      "[5] [4] [3, 2, 1] \n",
      "\n",
      "[5] [4, 1] [3, 2] \n",
      "\n",
      "[5, 2] [4, 1] [3] \n",
      "\n",
      "[5, 2, 1] [4] [3] \n",
      "\n",
      "[5, 2, 1] [4, 3] [] \n",
      "\n",
      "[5, 2] [4, 3] [1] \n",
      "\n",
      "[5] [4, 3, 2] [1] \n",
      "\n",
      "[5] [4, 3, 2, 1] [] \n",
      "\n",
      "[] [4, 3, 2, 1] [5] \n",
      "\n",
      "[1] [4, 3, 2] [5] \n",
      "\n",
      "[1] [4, 3] [5, 2] \n",
      "\n",
      "[] [4, 3] [5, 2, 1] \n",
      "\n",
      "[3] [4] [5, 2, 1] \n",
      "\n",
      "[3] [4, 1] [5, 2] \n",
      "\n",
      "[3, 2] [4, 1] [5] \n",
      "\n",
      "[3, 2, 1] [4] [5] \n",
      "\n",
      "[3, 2, 1] [] [5, 4] \n",
      "\n",
      "[3, 2] [] [5, 4, 1] \n",
      "\n",
      "[3] [2] [5, 4, 1] \n",
      "\n",
      "[3] [2, 1] [5, 4] \n",
      "\n",
      "[] [2, 1] [5, 4, 3] \n",
      "\n",
      "[1] [2] [5, 4, 3] \n",
      "\n",
      "[1] [] [5, 4, 3, 2] \n",
      "\n",
      "[] [] [5, 4, 3, 2, 1] \n",
      "\n"
     ]
    }
   ],
   "source": [
    "# recursive approach to the problem\n",
    "\n",
    "NUMBER_OF_DISKS = 5\n",
    "A = list(range(NUMBER_OF_DISKS, 0, -1))\n",
    "B = []\n",
    "C = []\n",
    "\n",
    "def move(n, source, auxiliary, target):\n",
    "    if n <= 0:\n",
    "        return\n",
    "        # move n - 1 disks from source to auxiliary, so they are out of the way\n",
    "    move(n - 1, source, target, auxiliary)\n",
    "        \n",
    "    # move the nth disk from source to target\n",
    "    target.append(source.pop())\n",
    "        \n",
    "    # display our progress\n",
    "    print(A, B, C, '\\n')\n",
    "        \n",
    "    # move the n - 1 disks that we left on auxiliary onto target\n",
    "    move(n - 1,  auxiliary, source, target)\n",
    "              \n",
    "# initiate call from source A to target C with auxiliary B\n",
    "move(NUMBER_OF_DISKS, A, B, C)"
   ]
  },
  {
   "cell_type": "markdown",
   "metadata": {},
   "source": [
    "# Learn Data Structures by Building the Merge Sort Algorithm\n",
    "The Merge Sort Algorithm is a sorting algorithm based on the divide and conquer principle.\n",
    "___\n",
    "In this project, you'll learn how to interact with data structures by sorting a list of random numbers using the Merge Sort Algorithm.\n",
    "\n",
    "The merge sort algorithm mainly performs three actions:\n",
    "1. Divide an unsorted sequence of items into sub-parts\n",
    "2. Sort the items in the sub-parts\n",
    "3. Merge the sorted sub-parts"
   ]
  },
  {
   "cell_type": "code",
   "execution_count": null,
   "metadata": {},
   "outputs": [
    {
     "name": "stdout",
     "output_type": "stream",
     "text": [
      "Unsorted array: \n",
      "[4, 10, 6, 14, 2, 1, 8, 5]\n",
      "Sorted array: [1, 2, 4, 5, 6, 8, 10, 14]\n"
     ]
    }
   ],
   "source": [
    "def merge_sort(array):\n",
    "    if len(array) <= 1:\n",
    "        return\n",
    "\n",
    "    middle_point = len(array) // 2\n",
    "    left_part = array[:middle_point]\n",
    "    right_part = array[middle_point:]\n",
    "\n",
    "    merge_sort(left_part)\n",
    "    merge_sort(right_part)\n",
    "\n",
    "    left_array_index = 0\n",
    "    right_array_index = 0\n",
    "    sorted_index = 0\n",
    "\n",
    "    while left_array_index < len(left_part) and right_array_index < len(right_part):\n",
    "        if left_part[left_array_index] < right_part[right_array_index]:\n",
    "            array[sorted_index] = left_part[left_array_index]\n",
    "            left_array_index += 1\n",
    "        else:\n",
    "            array[sorted_index] = right_part[right_array_index]\n",
    "            right_array_index += 1\n",
    "        sorted_index += 1\n",
    "\n",
    "    while left_array_index < len(left_part):\n",
    "        array[sorted_index] = left_part[left_array_index]\n",
    "        left_array_index += 1\n",
    "        sorted_index += 1\n",
    "\n",
    "    while right_array_index < len(right_part):\n",
    "        array[sorted_index] = right_part[right_array_index]\n",
    "        right_array_index += 1\n",
    "        sorted_index += 1\n",
    "\n",
    "\n",
    "if __name__ == '__main__':\n",
    "    numbers = [4, 10, 6, 14, 2, 1, 8, 5]\n",
    "    print('Unsorted array: ')\n",
    "    print(numbers)\n",
    "    merge_sort(numbers)\n",
    "    print('Sorted array: ' + str(numbers))"
   ]
  },
  {
   "cell_type": "markdown",
   "metadata": {},
   "source": [
    "# Build a Time Calculator Project\n",
    "Write a function named add_time that takes in two required parameters and one optional parameter:\n",
    "\n",
    "- a start time in the 12-hour clock format (ending in AM or PM)\n",
    "- a duration time that indicates the number of hours and minutes\n",
    "- (optional) a starting day of the week, case insensitive\n",
    "The function should add the duration time to the start time and return the result.\n",
    "\n",
    "If the result will be the next day, it should show `(next day)` after the time. If the result will be more than one day later, it should show `(n days later)` after the time, where \"n\" is the number of days later.\n",
    "\n",
    "If the function is given the optional starting day of the week parameter, then the output should display the day of the week of the result. The day of the week in the output should appear after the time and before the number of days later.\n",
    "\n",
    "Below are some examples of different cases the function should handle. Pay close attention to the spacing and punctuation of the results."
   ]
  },
  {
   "cell_type": "code",
   "execution_count": 11,
   "metadata": {},
   "outputs": [
    {
     "name": "stdout",
     "output_type": "stream",
     "text": [
      "6:10 PM\n",
      "2:02 PM, Monday\n",
      "12:03 PM\n",
      "1:20 AM (next day)\n",
      "12:03 AM, Thursday (2 days later)\n",
      "7:42 AM (9 days later)\n"
     ]
    }
   ],
   "source": [
    "def add_time(start, duration, starting_day=None):\n",
    "    # List of days for day calculation (index 0-6)\n",
    "    days_of_week = [\"Monday\", \"Tuesday\", \"Wednesday\", \n",
    "                   \"Thursday\", \"Friday\", \"Saturday\", \"Sunday\"]\n",
    "\n",
    "    # Extract start time components\n",
    "    start_time, meridiem = start.split()\n",
    "    start_hour, start_minute = map(int, start_time.split(':'))\n",
    "    \n",
    "    # Convert to 24-hour format for calculations\n",
    "    if meridiem == \"PM\" and start_hour != 12:\n",
    "        start_hour += 12\n",
    "    if meridiem == \"AM\" and start_hour == 12:\n",
    "        start_hour = 0\n",
    "\n",
    "    # Parse duration inputs\n",
    "    duration_hour, duration_minute = map(int, duration.split(':'))\n",
    "\n",
    "    # Calculate total minutes and hours\n",
    "    total_minutes = start_minute + duration_minute\n",
    "    total_hours = start_hour + duration_hour + (total_minutes // 60)\n",
    "    \n",
    "    # Final time components\n",
    "    end_minute = total_minutes % 60\n",
    "    end_hour = total_hours % 24\n",
    "    days_passed = total_hours // 24\n",
    "\n",
    "    # Convert back to 12-hour format\n",
    "    if end_hour == 0:\n",
    "        display_hour = 12\n",
    "        display_meridiem = \"AM\"\n",
    "    elif end_hour < 12:\n",
    "        display_hour = end_hour\n",
    "        display_meridiem = \"AM\"\n",
    "    else:\n",
    "        display_hour = end_hour - 12 if end_hour > 12 else end_hour\n",
    "        display_meridiem = \"PM\"\n",
    "\n",
    "    # Format time string\n",
    "    new_time = f\"{display_hour}:{end_minute:02d} {display_meridiem}\"\n",
    "\n",
    "    # Add day of week if provided\n",
    "    if starting_day:\n",
    "        day_index = days_of_week.index(starting_day.capitalize())\n",
    "        new_day = days_of_week[(day_index + days_passed) % 7]\n",
    "        new_time += f\", {new_day}\"\n",
    "\n",
    "    # Add day difference notation\n",
    "    if days_passed == 1:\n",
    "        new_time += \" (next day)\"\n",
    "    elif days_passed > 1:\n",
    "        new_time += f\" ({days_passed} days later)\"\n",
    "\n",
    "    return new_time\n",
    "\n",
    "print(add_time(\"3:00 PM\", \"3:10\"))\n",
    "print(add_time(\"11:30 AM\", \"2:32\", \"Monday\"))\n",
    "print(add_time(\"11:43 AM\", \"00:20\"))\n",
    "print(add_time(\"10:10 PM\", \"3:10\"))\n",
    "print(add_time(\"11:43 PM\", \"24:20\", \"tuesday\"))\n",
    "print(add_time(\"6:30 PM\", \"205:12\"))"
   ]
  },
  {
   "cell_type": "markdown",
   "metadata": {},
   "source": [
    "# Learn Classes and Objects by Building a Soduku Solver\n",
    "Classes and objects are important programming concepts. These Object-Oriented Programming tools help developers to achieve code modularity, abstration, and readability. And they promote reusability.\n",
    "___\n",
    "In this Sudoku solver project, you'll learn how to use classes and objects to build a Sudoku grid and to solve a Sudoku puzzle."
   ]
  },
  {
   "cell_type": "code",
   "execution_count": 12,
   "metadata": {},
   "outputs": [
    {
     "name": "stdout",
     "output_type": "stream",
     "text": [
      "Puzzle to solve:\n",
      "* * 2 * * 8 * * *\n",
      "* * * * * 3 7 6 2\n",
      "4 3 * * * * 8 * *\n",
      "* 5 * * 3 * * 9 *\n",
      "* 4 * * * * * 2 6\n",
      "* * * 4 6 7 * * *\n",
      "* 8 6 7 * 4 * * *\n",
      "* * * 5 1 9 * * 8\n",
      "1 7 * * * 6 * * 5\n",
      "\n",
      "Solved puzzle:\n",
      "9 6 2 1 7 8 3 5 4\n",
      "8 1 5 9 4 3 7 6 2\n",
      "4 3 7 6 5 2 8 1 9\n",
      "6 5 8 2 3 1 4 9 7\n",
      "7 4 3 8 9 5 1 2 6\n",
      "2 9 1 4 6 7 5 8 3\n",
      "5 8 6 7 2 4 9 3 1\n",
      "3 2 4 5 1 9 6 7 8\n",
      "1 7 9 3 8 6 2 4 5\n",
      "\n"
     ]
    },
    {
     "data": {
      "text/plain": [
       "<__main__.Board at 0x11124b400>"
      ]
     },
     "execution_count": 12,
     "metadata": {},
     "output_type": "execute_result"
    }
   ],
   "source": [
    "class Board:\n",
    "    def __init__(self, board):\n",
    "        self.board = board\n",
    "\n",
    "    def __str__(self):\n",
    "        board_str = ''\n",
    "        for row in self.board:\n",
    "            row_str = [str(i) if i else '*' for i in row]\n",
    "            board_str += ' '.join(row_str)\n",
    "            board_str += '\\n'\n",
    "        return board_str\n",
    "\n",
    "    def find_empty_cell(self):\n",
    "        for row, contents in enumerate(self.board):\n",
    "            try:\n",
    "                col = contents.index(0)\n",
    "                return row, col\n",
    "            except ValueError:\n",
    "                pass\n",
    "        return None\n",
    "\n",
    "    def valid_in_row(self, row, num):\n",
    "        return num not in self.board[row]\n",
    "\n",
    "    def valid_in_col(self, col, num):\n",
    "        return all(self.board[row][col] != num for row in range(9))\n",
    "\n",
    "    def valid_in_square(self, row, col, num):\n",
    "        row_start = (row // 3) * 3\n",
    "        col_start = (col // 3) * 3\n",
    "        for row_no in range(row_start, row_start + 3):\n",
    "            for col_no in range(col_start, col_start + 3):\n",
    "                if self.board[row_no][col_no] == num:\n",
    "                    return False\n",
    "        return True\n",
    "\n",
    "    def is_valid(self, empty, num):\n",
    "        row, col = empty\n",
    "        valid_in_row = self.valid_in_row(row, num)\n",
    "        valid_in_col = self.valid_in_col(col, num)\n",
    "        valid_in_square = self.valid_in_square(row, col, num)\n",
    "        return all([valid_in_row, valid_in_col, valid_in_square])\n",
    "\n",
    "    def solver(self):\n",
    "        if (next_empty := self.find_empty_cell()) is None:\n",
    "            return True\n",
    "        for guess in range(1, 10):\n",
    "            if self.is_valid(next_empty, guess):\n",
    "                row, col = next_empty\n",
    "                self.board[row][col] = guess\n",
    "                if self.solver():\n",
    "                    return True\n",
    "                self.board[row][col] = 0\n",
    "        return False\n",
    "\n",
    "def solve_sudoku(board):\n",
    "    gameboard = Board(board)\n",
    "    print(f'Puzzle to solve:\\n{gameboard}')\n",
    "    if gameboard.solver():\n",
    "        print(f'Solved puzzle:\\n{gameboard}')\n",
    "    else:\n",
    "        print('The provided puzzle is unsolvable.')\n",
    "    return gameboard\n",
    "\n",
    "puzzle = [\n",
    "  [0, 0, 2, 0, 0, 8, 0, 0, 0],\n",
    "  [0, 0, 0, 0, 0, 3, 7, 6, 2],\n",
    "  [4, 3, 0, 0, 0, 0, 8, 0, 0],\n",
    "  [0, 5, 0, 0, 3, 0, 0, 9, 0],\n",
    "  [0, 4, 0, 0, 0, 0, 0, 2, 6],\n",
    "  [0, 0, 0, 4, 6, 7, 0, 0, 0],\n",
    "  [0, 8, 6, 7, 0, 4, 0, 0, 0],\n",
    "  [0, 0, 0, 5, 1, 9, 0, 0, 8],\n",
    "  [1, 7, 0, 0, 0, 6, 0, 0, 5]\n",
    "]\n",
    "solve_sudoku(puzzle)"
   ]
  },
  {
   "cell_type": "markdown",
   "metadata": {},
   "source": [
    "# Learn Tree Traversal by Building a Binary Search Tree\n",
    "A Binary Search Tree (BST) is a common data structure where data is sorted hierarchically. \n",
    "___\n",
    "In this project, you'll learn how to construct your own BST and perform an in-order traversal. You'll also learn key operations like insertion, search, and deletion."
   ]
  },
  {
   "cell_type": "code",
   "execution_count": null,
   "metadata": {},
   "outputs": [],
   "source": [
    "\n",
    "class TreeNode:\n",
    "\n",
    "    def __init__(self, key):\n",
    "        self.key = key\n",
    "        self.left = None\n",
    "        self.right = None\n",
    "\n",
    "    def __str__(self):\n",
    "        return str(self.key)\n",
    "\n",
    "class BinarySearchTree:\n",
    "\n",
    "    def __init__(self):\n",
    "        self.root = None\n",
    "\n",
    "    def _insert(self, node, key):\n",
    "        if node is None:\n",
    "            return TreeNode(key)\n",
    "\n",
    "        if key < node.key:\n",
    "            node.left = self._insert(node.left, key)\n",
    "        elif key > node.key:\n",
    "\n",
    "            node.right = self._insert(node.right, key)\n",
    "        return node\n",
    "\n",
    "    def insert(self, key):\n",
    "        self.root = self._insert(self.root, key)\n",
    "        \n",
    "    def _search(self, node, key):\n",
    "        if node is None or node.key == key:\n",
    "            return node\n",
    "        if key < node.key:\n",
    "            return self._search(node.left, key)\n",
    "        return self._search(node.right, key)\n",
    "    \n",
    "    def search(self, key):\n",
    "        return self._search(self.root, key)\n",
    "\n",
    "    def _delete(self, node, key):\n",
    "        if node is None:\n",
    "            return node\n",
    "        if key < node.key:\n",
    "            node.left = self._delete(node.left, key)\n",
    "        elif key > node.key:\n",
    "            node.right = self._delete(node.right, key) \n",
    "        else:\n",
    "            if node.left is None:\n",
    "                return node.right\n",
    "            elif node.right is None:\n",
    "                return node.left   \n",
    "            \n",
    "            node.key = self._min_value(node.right)\n",
    "            node.right = self._delete(node.right, node.key)   \n",
    "        \n",
    "        return node\n",
    "\n",
    "    def delete(self, key):\n",
    "        self.root = self._delete(self.root, key)\n",
    "\n",
    "    def _min_value(self, node):\n",
    "        while node.left is not None:\n",
    "            node = node.left\n",
    "        return node.key\n",
    "\n",
    "    def _inorder_traversal(self, node, result):\n",
    "        if node:\n",
    "            self._inorder_traversal(node.left, result)\n",
    "            result.append(node.key)\n",
    "            self._inorder_traversal(node.right, result)\n",
    "\n",
    "    def inorder_traversal(self):\n",
    "        result = []\n",
    "        self._inorder_traversal(self.root, result)\n",
    "        return result\n",
    "\n",
    "bst = BinarySearchTree()\n",
    "nodes = [50, 30, 20, 40, 70, 60, 80]\n",
    "\n",
    "for node in nodes:\n",
    "    bst.insert(node)\n",
    "\n",
    "print('Search for 80:', bst.search(80))\n",
    "\n",
    "print(\"Inorder traversal:\", bst.inorder_traversal())\n",
    "\n",
    "bst.delete(40)\n",
    "\n",
    "print(\"Search for 40:\", bst.search(40))\n",
    "print('Inorder traversal after deleting 40:', bst.inorder_traversal())"
   ]
  },
  {
   "cell_type": "markdown",
   "metadata": {},
   "source": [
    "# Build a Budget App\n",
    "Complete the `Category` class. It should be able to instantiate objects based on different budget categories like food, clothing, and entertainment. When objects are created, they are passed in the name of the category. The class should have an instance variable called `ledger` that is a list. The class should also contain the following methods:\n",
    "\n",
    "- A `deposit` method that accepts an amount and description. If no description is given, it should default to an empty string. The method should append an object to the ledger list in the form of `{'amount': amount, 'description': description}`.\n",
    "- A `withdraw` method that is similar to the `deposit` method, but the amount passed in should be stored in the ledger as a negative number. If there are not enough funds, nothing should be added to the ledger. This method should return `True` if the withdrawal took place, and `False` otherwise.\n",
    "- A `get_balance` method that returns the current balance of the budget category based on the deposits and withdrawals that have occurred.\n",
    "- A `transfer` method that accepts an amount and another budget category as arguments. The method should add a withdrawal with the amount and the description 'Transfer to [Destination Budget Category]'. The method should then add a deposit to the other budget category with the amount and the description 'Transfer from [Source Budget Category]'. If there are not enough funds, nothing should be added to either ledgers. This method should return `True` if the transfer took place, and False otherwise.\n",
    "- A `check_funds` method that accepts an amount as an argument. It returns `False` if the amount is greater than the balance of the budget category and returns `True` otherwise. This method should be used by both the `withdraw` method and `transfer` method.\n",
    "\n",
    "When the budget object is printed it should display:\n",
    "- A title line of 30 characters where the name of the category is centered in a line of `*` characters.\n",
    "- A list of the items in the ledger. Each line should show the description and amount. The first 23 characters of the description should be displayed, then the amount. The amount should be right aligned, contain two decimal places, and display a maximum of 7 characters.\n",
    "- A line displaying the category total.\n",
    "\n",
    "Besides the `Category` class, create a function (outside of the class) called `create_spend_chart` that takes a list of categories as an argument. It should return a string that is a bar chart.\n",
    "\n",
    "The chart should show the percentage spent in each category passed in to the function. The percentage spent should be calculated only with withdrawals and not with deposits, and it should be the percentage of the amount spent for each category to the total spent for all categories. Down the left side of the chart should be labels 0 - 100. The 'bars' in the bar chart should be made out of the 'o' character. The height of each bar should be rounded down to the nearest 10. The horizontal line below the bars should go two spaces past the final bar. Each category name should be written vertically below the bar. There should be a title at the top that says 'Percentage spent by category'.\n",
    "\n",
    "This function will be tested with up to four categories."
   ]
  }
 ],
 "metadata": {
  "kernelspec": {
   "display_name": "carolinesanicola-r1sTagy1",
   "language": "python",
   "name": "python3"
  },
  "language_info": {
   "codemirror_mode": {
    "name": "ipython",
    "version": 3
   },
   "file_extension": ".py",
   "mimetype": "text/x-python",
   "name": "python",
   "nbconvert_exporter": "python",
   "pygments_lexer": "ipython3",
   "version": "3.10.16"
  }
 },
 "nbformat": 4,
 "nbformat_minor": 2
}
